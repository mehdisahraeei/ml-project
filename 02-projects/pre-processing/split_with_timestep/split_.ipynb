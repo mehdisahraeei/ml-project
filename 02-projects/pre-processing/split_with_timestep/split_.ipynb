{
 "cells": [
  {
   "cell_type": "markdown",
   "metadata": {},
   "source": [
    "### Importing"
   ]
  },
  {
   "cell_type": "code",
   "execution_count": 84,
   "metadata": {
    "id": "M3C4TjYDwDx4"
   },
   "outputs": [],
   "source": [
    "import pandas as pd\n",
    "import matplotlib.pyplot as plt\n",
    "import numpy as np\n",
    "from numpy import array\n",
    "from sklearn.preprocessing import MinMaxScaler"
   ]
  },
  {
   "cell_type": "markdown",
   "metadata": {
    "id": "4hRndIfXpFQ5"
   },
   "source": [
    "### Reading df"
   ]
  },
  {
   "cell_type": "code",
   "execution_count": 85,
   "metadata": {
    "colab": {
     "base_uri": "https://localhost:8080/",
     "height": 238
    },
    "id": "tkKcfgQexMgI",
    "outputId": "49c35a96-12fa-47da-e81b-2713a6c92e0d"
   },
   "outputs": [
    {
     "data": {
      "text/html": [
       "<div>\n",
       "<style scoped>\n",
       "    .dataframe tbody tr th:only-of-type {\n",
       "        vertical-align: middle;\n",
       "    }\n",
       "\n",
       "    .dataframe tbody tr th {\n",
       "        vertical-align: top;\n",
       "    }\n",
       "\n",
       "    .dataframe thead th {\n",
       "        text-align: right;\n",
       "    }\n",
       "</style>\n",
       "<table border=\"1\" class=\"dataframe\">\n",
       "  <thead>\n",
       "    <tr style=\"text-align: right;\">\n",
       "      <th></th>\n",
       "      <th>Open</th>\n",
       "      <th>High</th>\n",
       "      <th>Low</th>\n",
       "      <th>Close</th>\n",
       "      <th>Adj Close</th>\n",
       "      <th>Volume</th>\n",
       "    </tr>\n",
       "    <tr>\n",
       "      <th>Date</th>\n",
       "      <th></th>\n",
       "      <th></th>\n",
       "      <th></th>\n",
       "      <th></th>\n",
       "      <th></th>\n",
       "      <th></th>\n",
       "    </tr>\n",
       "  </thead>\n",
       "  <tbody>\n",
       "    <tr>\n",
       "      <th>2022-01-22</th>\n",
       "      <td>36471.589844</td>\n",
       "      <td>36688.812500</td>\n",
       "      <td>34349.250000</td>\n",
       "      <td>35030.250000</td>\n",
       "      <td>35030.250000</td>\n",
       "      <td>39714385405</td>\n",
       "    </tr>\n",
       "    <tr>\n",
       "      <th>2022-01-23</th>\n",
       "      <td>35047.359375</td>\n",
       "      <td>36433.312500</td>\n",
       "      <td>34784.968750</td>\n",
       "      <td>36276.804688</td>\n",
       "      <td>36276.804688</td>\n",
       "      <td>26017975951</td>\n",
       "    </tr>\n",
       "    <tr>\n",
       "      <th>2022-01-24</th>\n",
       "      <td>36275.734375</td>\n",
       "      <td>37247.519531</td>\n",
       "      <td>33184.058594</td>\n",
       "      <td>36654.328125</td>\n",
       "      <td>36654.328125</td>\n",
       "      <td>41856658597</td>\n",
       "    </tr>\n",
       "    <tr>\n",
       "      <th>2022-01-25</th>\n",
       "      <td>36654.804688</td>\n",
       "      <td>37444.570313</td>\n",
       "      <td>35779.429688</td>\n",
       "      <td>36954.003906</td>\n",
       "      <td>36954.003906</td>\n",
       "      <td>26428189594</td>\n",
       "    </tr>\n",
       "    <tr>\n",
       "      <th>2022-01-26</th>\n",
       "      <td>36950.515625</td>\n",
       "      <td>38825.410156</td>\n",
       "      <td>36374.906250</td>\n",
       "      <td>36852.121094</td>\n",
       "      <td>36852.121094</td>\n",
       "      <td>31324598034</td>\n",
       "    </tr>\n",
       "  </tbody>\n",
       "</table>\n",
       "</div>"
      ],
      "text/plain": [
       "                    Open          High           Low         Close  \\\n",
       "Date                                                                 \n",
       "2022-01-22  36471.589844  36688.812500  34349.250000  35030.250000   \n",
       "2022-01-23  35047.359375  36433.312500  34784.968750  36276.804688   \n",
       "2022-01-24  36275.734375  37247.519531  33184.058594  36654.328125   \n",
       "2022-01-25  36654.804688  37444.570313  35779.429688  36954.003906   \n",
       "2022-01-26  36950.515625  38825.410156  36374.906250  36852.121094   \n",
       "\n",
       "               Adj Close       Volume  \n",
       "Date                                   \n",
       "2022-01-22  35030.250000  39714385405  \n",
       "2022-01-23  36276.804688  26017975951  \n",
       "2022-01-24  36654.328125  41856658597  \n",
       "2022-01-25  36954.003906  26428189594  \n",
       "2022-01-26  36852.121094  31324598034  "
      ]
     },
     "execution_count": 85,
     "metadata": {},
     "output_type": "execute_result"
    }
   ],
   "source": [
    "df = pd.read_csv('BTC-USD.csv', index_col=\"Date\", infer_datetime_format=True, parse_dates=True)\n",
    "df.head(5)"
   ]
  },
  {
   "cell_type": "markdown",
   "metadata": {
    "id": "yXBNX2FHpVti"
   },
   "source": [
    "- dropping"
   ]
  },
  {
   "cell_type": "code",
   "execution_count": 86,
   "metadata": {
    "colab": {
     "base_uri": "https://localhost:8080/",
     "height": 238
    },
    "id": "D4wCPrty_NBZ",
    "outputId": "163d3e6a-dd9f-4d10-cc4e-078f68a7d542"
   },
   "outputs": [
    {
     "data": {
      "text/html": [
       "<div>\n",
       "<style scoped>\n",
       "    .dataframe tbody tr th:only-of-type {\n",
       "        vertical-align: middle;\n",
       "    }\n",
       "\n",
       "    .dataframe tbody tr th {\n",
       "        vertical-align: top;\n",
       "    }\n",
       "\n",
       "    .dataframe thead th {\n",
       "        text-align: right;\n",
       "    }\n",
       "</style>\n",
       "<table border=\"1\" class=\"dataframe\">\n",
       "  <thead>\n",
       "    <tr style=\"text-align: right;\">\n",
       "      <th></th>\n",
       "      <th>Open</th>\n",
       "    </tr>\n",
       "    <tr>\n",
       "      <th>Date</th>\n",
       "      <th></th>\n",
       "    </tr>\n",
       "  </thead>\n",
       "  <tbody>\n",
       "    <tr>\n",
       "      <th>2022-01-22</th>\n",
       "      <td>36471.589844</td>\n",
       "    </tr>\n",
       "    <tr>\n",
       "      <th>2022-01-23</th>\n",
       "      <td>35047.359375</td>\n",
       "    </tr>\n",
       "    <tr>\n",
       "      <th>2022-01-24</th>\n",
       "      <td>36275.734375</td>\n",
       "    </tr>\n",
       "    <tr>\n",
       "      <th>2022-01-25</th>\n",
       "      <td>36654.804688</td>\n",
       "    </tr>\n",
       "    <tr>\n",
       "      <th>2022-01-26</th>\n",
       "      <td>36950.515625</td>\n",
       "    </tr>\n",
       "  </tbody>\n",
       "</table>\n",
       "</div>"
      ],
      "text/plain": [
       "                    Open\n",
       "Date                    \n",
       "2022-01-22  36471.589844\n",
       "2022-01-23  35047.359375\n",
       "2022-01-24  36275.734375\n",
       "2022-01-25  36654.804688\n",
       "2022-01-26  36950.515625"
      ]
     },
     "execution_count": 86,
     "metadata": {},
     "output_type": "execute_result"
    }
   ],
   "source": [
    "df = df.drop(['High','Low','Adj Close','Volume','Close'], axis=1)\n",
    "df.head()"
   ]
  },
  {
   "cell_type": "code",
   "execution_count": 87,
   "metadata": {
    "colab": {
     "base_uri": "https://localhost:8080/"
    },
    "id": "6BEyI0w8ylc3",
    "outputId": "117edd2f-ddd1-4318-c3b2-7ded68c91847"
   },
   "outputs": [
    {
     "data": {
      "text/plain": [
       "array([[36471.589844],\n",
       "       [35047.359375],\n",
       "       [36275.734375],\n",
       "       [36654.804688],\n",
       "       [36950.515625]], dtype=float128)"
      ]
     },
     "execution_count": 87,
     "metadata": {},
     "output_type": "execute_result"
    }
   ],
   "source": [
    "dataset = df.values\n",
    "dataset = dataset.astype('float128')\n",
    "dataset[:5]"
   ]
  },
  {
   "cell_type": "markdown",
   "metadata": {
    "id": "_4zKsyTypgcL"
   },
   "source": [
    "### plotting data"
   ]
  },
  {
   "cell_type": "code",
   "execution_count": 88,
   "metadata": {
    "colab": {
     "base_uri": "https://localhost:8080/",
     "height": 265
    },
    "id": "yRU_ga_rzHv5",
    "outputId": "c1fc44d1-21bd-462a-b23a-1fcc9be1c47e"
   },
   "outputs": [
    {
     "data": {
      "image/png": "[encoded data removed]",
      "text/plain": [
       "<Figure size 640x480 with 1 Axes>"
      ]
     },
     "metadata": {},
     "output_type": "display_data"
    }
   ],
   "source": [
    "plt.plot(dataset)\n",
    "plt.show()"
   ]
  },
  {
   "cell_type": "markdown",
   "metadata": {
    "id": "v-odIRJ_p0ub"
   },
   "source": [
    "### Method for making data and timestep"
   ]
  },
  {
   "cell_type": "code",
   "execution_count": 89,
   "metadata": {
    "id": "FTc_w35542AQ"
   },
   "outputs": [],
   "source": [
    "# lookback -> timestep\n",
    "def create_dataset(dataset,look_back):\n",
    "    data_x, data_y = [],[] #data_x is data and data_y is label\n",
    "    for i in range(len(dataset)-look_back-1): #we want if data be beyond len(sequendatasetce), the command will not continue\n",
    "        data_x.append(dataset[i:(i+look_back),0])\n",
    "        data_y.append(dataset[i+look_back,0])\n",
    "    return np.array(data_x) , np.array(data_y)"
   ]
  },
  {
   "cell_type": "markdown",
   "metadata": {
    "id": "IR1wen6crVYY"
   },
   "source": [
    "### split dataset"
   ]
  },
  {
   "cell_type": "code",
   "execution_count": 90,
   "metadata": {
    "colab": {
     "base_uri": "https://localhost:8080/"
    },
    "id": "F2bQwF2m75fB",
    "outputId": "4ad32296-56e9-4a66-ae7f-bcd05b8c6fce"
   },
   "outputs": [
    {
     "name": "stdout",
     "output_type": "stream",
     "text": [
      "(366, 1)\n",
      "(0, 1)\n"
     ]
    }
   ],
   "source": [
    "train_size = int(len(dataset) * 1)\n",
    "train , test = dataset[0:train_size,:] , dataset[train_size:len(dataset),:]\n",
    "print(train.shape)\n",
    "print(test.shape)"
   ]
  },
  {
   "cell_type": "code",
   "execution_count": 91,
   "metadata": {
    "colab": {
     "base_uri": "https://localhost:8080/"
    },
    "id": "UXfmcI5JsRjm",
    "outputId": "ba7d9170-543e-4c84-b3ad-37e5ccf6f5ae"
   },
   "outputs": [
    {
     "data": {
      "text/plain": [
       "array([[36471.589844],\n",
       "       [35047.359375],\n",
       "       [36275.734375]], dtype=float128)"
      ]
     },
     "execution_count": 91,
     "metadata": {},
     "output_type": "execute_result"
    }
   ],
   "source": [
    "train[:3]"
   ]
  },
  {
   "cell_type": "markdown",
   "metadata": {
    "id": "Zonvsx80w_HW"
   },
   "source": [
    "### Making data train & test x,y"
   ]
  },
  {
   "cell_type": "code",
   "execution_count": 92,
   "metadata": {
    "id": "rfssedbp7stl"
   },
   "outputs": [],
   "source": [
    "n_steps = 5 #timestep or look_up\n",
    "\n",
    "train_x , train_y = create_dataset(train, n_steps)\n",
    "test_x , test_y = create_dataset(test, n_steps)"
   ]
  },
  {
   "cell_type": "code",
   "execution_count": 93,
   "metadata": {
    "colab": {
     "base_uri": "https://localhost:8080/"
    },
    "id": "QYRpaSp4wO0h",
    "outputId": "91ed5e76-23bd-46a5-a1a5-eeb176ee749a"
   },
   "outputs": [
    {
     "name": "stdout",
     "output_type": "stream",
     "text": [
      "(360, 5) (360,)\n",
      "(0,) (0,)\n"
     ]
    }
   ],
   "source": [
    "print(train_x.shape , train_y.shape)\n",
    "print(test_x.shape , test_y.shape)"
   ]
  },
  {
   "cell_type": "code",
   "execution_count": 94,
   "metadata": {
    "colab": {
     "base_uri": "https://localhost:8080/"
    },
    "id": "EF_5EXbI9rWH",
    "outputId": "cd5e62d6-c23c-446f-f0f6-953da21cc1d2"
   },
   "outputs": [
    {
     "data": {
      "text/plain": [
       "array([36841.878906, 37128.445313, 37780.714844], dtype=float128)"
      ]
     },
     "execution_count": 94,
     "metadata": {},
     "output_type": "execute_result"
    }
   ],
   "source": [
    "train_y[:3]"
   ]
  },
  {
   "cell_type": "code",
   "execution_count": 95,
   "metadata": {
    "colab": {
     "base_uri": "https://localhost:8080/"
    },
    "id": "7eVCvrxwAgyK",
    "outputId": "81fbc25a-5ae6-4e99-a219-1de945c0b0fd"
   },
   "outputs": [
    {
     "name": "stdout",
     "output_type": "stream",
     "text": [
      "[36471.589844 35047.359375 36275.734375 36654.804688 36950.515625] 36841.878905999998096\n",
      "[35047.359375 36275.734375 36654.804688 36950.515625 36841.878906] 37128.44531299999653\n",
      "[36275.734375 36654.804688 36950.515625 36841.878906 37128.445313] 37780.714844000001904\n",
      "[36654.804688 36950.515625 36841.878906 37128.445313 37780.714844] 38151.917969000001904\n",
      "[36950.515625 36841.878906 37128.445313 37780.714844 38151.917969] 37920.28125\n",
      "[36841.878906 37128.445313 37780.714844 38151.917969 37920.28125 ] 38481.765625\n",
      "[37128.445313 37780.714844 38151.917969 37920.28125  38481.765625] 38743.714844000001904\n",
      "[37780.714844 38151.917969 37920.28125  38481.765625 38743.714844] 36944.80468799999653\n",
      "[38151.917969 37920.28125  38481.765625 38743.714844 36944.804688] 37149.265625\n",
      "[37920.28125  38481.765625 38743.714844 36944.804688 37149.265625] 41501.480469000001904\n",
      "[38481.765625 38743.714844 36944.804688 37149.265625 41501.480469] 41441.121094000001904\n",
      "[38743.714844 36944.804688 37149.265625 41501.480469 41441.121094] 42406.78125\n",
      "[36944.804688 37149.265625 41501.480469 41441.121094 42406.78125 ] 43854.652344000001904\n",
      "[37149.265625 41501.480469 41441.121094 42406.78125  43854.652344] 44096.703125\n",
      "[41501.480469 41441.121094 42406.78125  43854.652344 44096.703125] 44347.800780999998096\n",
      "[41441.121094 42406.78125  43854.652344 44096.703125 44347.800781] 43571.128905999998096\n",
      "[42406.78125  43854.652344 44096.703125 44347.800781 43571.128906] 42412.300780999998096\n",
      "[43854.652344 44096.703125 44347.800781 43571.128906 42412.300781] 42236.566405999998096\n",
      "[44096.703125 44347.800781 43571.128906 42412.300781 42236.566406] 42157.39843799999653\n",
      "[44347.800781 43571.128906 42412.300781 42236.566406 42157.398438] 42586.464844000001904\n",
      "[43571.128906 42412.300781 42236.566406 42157.398438 42586.464844] 44578.277344000001904\n",
      "[42412.300781 42236.566406 42157.398438 42586.464844 44578.277344] 43937.07031299999653\n",
      "[42236.566406 42157.398438 42586.464844 44578.277344 43937.070313] 40552.13281299999653\n",
      "[42157.398438 42586.464844 44578.277344 43937.070313 40552.132813] 40026.02343799999653\n",
      "[42586.464844 44578.277344 43937.070313 40552.132813 40026.023438] 40118.10156299999653\n",
      "[44578.277344 43937.070313 40552.132813 40026.023438 40118.101563] 38423.21093799999653\n",
      "[43937.070313 40552.132813 40026.023438 40118.101563 38423.210938] 37068.769530999998096\n",
      "[40552.132813 40026.023438 40118.101563 38423.210938 37068.769531] 38285.28125\n",
      "[40026.023438 40118.101563 38423.210938 37068.769531 38285.28125 ] 37278.566405999998096\n",
      "[40118.101563 38423.210938 37068.769531 38285.28125  37278.566406] 38333.746094000001904\n",
      "[38423.210938 37068.769531 38285.28125  37278.566406 38333.746094] 39213.082030999998096\n",
      "[37068.769531 38285.28125  37278.566406 38333.746094 39213.082031] 39098.699219000001904\n",
      "[38285.28125  37278.566406 38333.746094 39213.082031 39098.699219] 37706.0\n",
      "[37278.566406 38333.746094 39213.082031 39098.699219 37706.      ] 43194.503905999998096\n",
      "[38333.746094 39213.082031 39098.699219 37706.       43194.503906] 44357.61718799999653\n",
      "[39213.082031 39098.699219 37706.       43194.503906 44357.617188] 43925.19531299999653\n",
      "[39098.699219 37706.       43194.503906 44357.617188 43925.195313] 42458.140625\n",
      "[37706.       43194.503906 44357.617188 43925.195313 42458.140625] 39148.449219000001904\n",
      "[43194.503906 44357.617188 43925.195313 42458.140625 39148.449219] 39404.199219000001904\n",
      "[44357.617188 43925.195313 42458.140625 39148.449219 39404.199219] 38429.30468799999653\n",
      "[43925.195313 42458.140625 39148.449219 39404.199219 38429.304688] 38059.902344000001904\n",
      "[42458.140625 39148.449219 39404.199219 38429.304688 38059.902344] 38742.816405999998096\n",
      "[39148.449219 39404.199219 38429.304688 38059.902344 38742.816406] 41974.07031299999653\n",
      "[39404.199219 38429.304688 38059.902344 38742.816406 41974.070313] 39439.96875\n",
      "[38429.304688 38059.902344 38742.816406 41974.070313 39439.96875 ] 38794.464844000001904\n",
      "[38059.902344 38742.816406 41974.070313 39439.96875  38794.464844] 38884.72656299999653\n",
      "[38742.816406 41974.070313 39439.96875  38794.464844 38884.726563] 37846.316405999998096\n",
      "[41974.070313 39439.96875  38794.464844 38884.726563 37846.316406] 39664.25\n",
      "[39439.96875  38794.464844 38884.726563 37846.316406 39664.25    ] 39335.57031299999653\n",
      "[38794.464844 38884.726563 37846.316406 39664.25     39335.570313] 41140.84375\n",
      "[38884.726563 37846.316406 39664.25     39335.570313 41140.84375 ] 40944.839844000001904\n",
      "[37846.316406 39664.25     39335.570313 41140.84375  40944.839844] 41794.64843799999653\n",
      "[39664.25     39335.570313 41140.84375  40944.839844 41794.648438] 42191.40625\n",
      "[39335.570313 41140.84375  40944.839844 41794.648438 42191.40625 ] 41246.13281299999653\n",
      "[41140.84375  40944.839844 41794.648438 42191.40625  41246.132813] 41074.105469000001904\n",
      "[40944.839844 41794.648438 42191.40625  41246.132813 41074.105469] 42364.378905999998096\n",
      "[41794.648438 42191.40625  41246.132813 41074.105469 42364.378906] 42886.652344000001904\n",
      "[42191.40625  41246.132813 41074.105469 42364.378906 42886.652344] 43964.546875\n",
      "[41246.132813 41074.105469 42364.378906 42886.652344 43964.546875] 44349.859375\n",
      "[41074.105469 42364.378906 42886.652344 43964.546875 44349.859375] 44505.355469000001904\n",
      "[42364.378906 42886.652344 43964.546875 44349.859375 44505.355469] 46821.85156299999653\n",
      "[42886.652344 43964.546875 44349.859375 44505.355469 46821.851563] 47100.4375\n",
      "[43964.546875 44349.859375 44505.355469 46821.851563 47100.4375  ] 47456.89843799999653\n",
      "[44349.859375 44505.355469 46821.851563 47100.4375   47456.898438] 47062.14843799999653\n",
      "[44505.355469 46821.851563 47100.4375   47456.898438 47062.148438] 45554.16406299999653\n",
      "[46821.851563 47100.4375   47456.898438 47062.148438 45554.164063] 46285.5\n",
      "[47100.4375   47456.898438 47062.148438 45554.164063 46285.5     ] 45859.128905999998096\n",
      "[47456.898438 47062.148438 45554.164063 46285.5      45859.128906] 46445.27343799999653\n",
      "[47062.148438 45554.164063 46285.5      45859.128906 46445.273438] 46624.50781299999653\n",
      "[45554.164063 46285.5      45859.128906 46445.273438 46624.507813] 45544.355469000001904\n",
      "[46285.5      45859.128906 46445.273438 46624.507813 45544.355469] 43207.5\n",
      "[45859.128906 46445.273438 46624.507813 45544.355469 43207.5     ] 43505.136719000001904\n",
      "[46445.273438 46624.507813 45544.355469 43207.5      43505.136719] 42282.078125\n",
      "[46624.507813 45544.355469 43207.5      43505.136719 42282.078125] 42781.089844000001904\n",
      "[45544.355469 43207.5      43505.136719 42282.078125 42781.089844] 42201.03906299999653\n",
      "[43207.5      43505.136719 42282.078125 42781.089844 42201.039063] 39533.714844000001904\n",
      "[43505.136719 42282.078125 42781.089844 42201.039063 39533.714844] 40123.57031299999653\n",
      "[42282.078125 42781.089844 42201.039063 39533.714844 40123.570313] 41160.21875\n",
      "[42781.089844 42201.039063 39533.714844 40123.570313 41160.21875 ] 39939.402344000001904\n",
      "[42201.039063 39533.714844 40123.570313 41160.21875  39939.402344] 40552.316405999998096\n",
      "[39533.714844 40123.570313 41160.21875  39939.402344 40552.316406] 40417.777344000001904\n",
      "[40123.570313 41160.21875  39939.402344 40552.316406 40417.777344] 39721.203125\n",
      "[41160.21875  39939.402344 40552.316406 40417.777344 39721.203125] 40828.175780999998096\n",
      "[39939.402344 40552.316406 40417.777344 39721.203125 40828.175781] 41501.746094000001904\n",
      "[40552.316406 40417.777344 39721.203125 40828.175781 41501.746094] 41371.515625\n",
      "[40417.777344 39721.203125 40828.175781 41501.746094 41371.515625] 40525.863280999998096\n",
      "[39721.203125 40828.175781 41501.746094 41371.515625 40525.863281] 39738.722655999998096\n",
      "[40828.175781 41501.746094 41371.515625 40525.863281 39738.722656] 39478.375\n",
      "[41501.746094 41371.515625 40525.863281 39738.722656 39478.375   ] 39472.605469000001904\n",
      "[41371.515625 40525.863281 39738.722656 39478.375    39472.605469] 40448.421875\n",
      "[40525.863281 39738.722656 39478.375    39472.605469 40448.421875] 38120.300780999998096\n",
      "[39738.722656 39478.375    39472.605469 40448.421875 38120.300781] 39241.42968799999653\n",
      "[39478.375    39472.605469 40448.421875 38120.300781 39241.429688] 39768.61718799999653\n",
      "[39472.605469 40448.421875 38120.300781 39241.429688 39768.617188] 38605.859375\n",
      "[40448.421875 38120.300781 39241.429688 39768.617188 38605.859375] 37713.265625\n",
      "[38120.300781 39241.429688 39768.617188 38605.859375 37713.265625] 38472.1875\n",
      "[39241.429688 39768.617188 38605.859375 37713.265625 38472.1875  ] 38528.109375\n",
      "[39768.617188 38605.859375 37713.265625 38472.1875   38528.109375] 37748.011719000001904\n",
      "[38605.859375 37713.265625 38472.1875   38528.109375 37748.011719] 39695.746094000001904\n",
      "[37713.265625 38472.1875   38528.109375 37748.011719 39695.746094] 36573.183594000001904\n",
      "[38472.1875   38528.109375 37748.011719 39695.746094 36573.183594] 36042.503905999998096\n",
      "[38528.109375 37748.011719 39695.746094 36573.183594 36042.503906] 35502.941405999998096\n",
      "[37748.011719 39695.746094 36573.183594 36042.503906 35502.941406] 34060.015625\n",
      "[39695.746094 36573.183594 36042.503906 35502.941406 34060.015625] 30273.654297000000952\n",
      "[36573.183594 36042.503906 35502.941406 34060.015625 30273.654297] 31016.183593999998266\n",
      "[36042.503906 35502.941406 34060.015625 30273.654297 31016.183594] 28936.734375\n",
      "[35502.941406 34060.015625 30273.654297 31016.183594 28936.734375] 29030.910156000001734\n",
      "[34060.015625 30273.654297 31016.183594 28936.734375 29030.910156] 29285.642577999999048\n",
      "[30273.654297 31016.183594 28936.734375 29030.910156 29285.642578] 30098.58593800000017\n",
      "[31016.183594 28936.734375 29030.910156 29285.642578 30098.585938] 31304.375\n",
      "[28936.734375 29030.910156 29285.642578 30098.585938 31304.375   ] 29862.408202999999048\n",
      "[29030.910156 29285.642578 30098.585938 31304.375    29862.408203] 30424.478515999999217\n",
      "[29285.642578 30098.585938 31304.375    29862.408203 30424.478516] 28720.359375\n",
      "[30098.585938 31304.375    29862.408203 30424.478516 28720.359375] 30311.119140999999217\n",
      "[31304.375    29862.408203 30424.478516 28720.359375 30311.119141] 29199.859375\n",
      "[29862.408203 30424.478516 28720.359375 30311.119141 29199.859375] 29432.472656000001734\n",
      "[30424.478516 28720.359375 30311.119141 29199.859375 29432.472656] 30309.396484000000783\n",
      "[28720.359375 30311.119141 29199.859375 29432.472656 30309.396484] 29101.125\n",
      "[30311.119141 29199.859375 29432.472656 30309.396484 29101.125   ] 29653.134765999999217\n",
      "[29199.859375 29432.472656 30309.396484 29101.125    29653.134766] 29564.777343999998266\n",
      "[29432.472656 30309.396484 29101.125    29653.134766 29564.777344] 29251.140625\n",
      "[30309.396484 29101.125    29653.134766 29564.777344 29251.140625] 28622.625\n",
      "[29101.125    29653.134766 29564.777344 29251.140625 28622.625   ] 29019.86718800000017\n",
      "[29653.134766 29564.777344 29251.140625 28622.625    29019.867188] 29443.365234000000783\n",
      "[29564.777344 29251.140625 28622.625    29019.867188 29443.365234] 31723.865234000000783\n",
      "[29251.140625 28622.625    29019.867188 29443.365234 31723.865234] 31792.55468800000017\n",
      "[28622.625    29019.867188 29443.365234 31723.865234 31792.554688] 29794.890625\n",
      "[29019.867188 29443.365234 31723.865234 31792.554688 29794.890625] 30467.806640999999217\n",
      "[29443.365234 31723.865234 31792.554688 29794.890625 30467.806641] 29706.138672000000952\n",
      "[31723.865234 31792.554688 29794.890625 30467.806641 29706.138672] 29835.11718800000017\n",
      "[31792.554688 29794.890625 30467.806641 29706.138672 29835.117188] 29910.283202999999048\n",
      "[29794.890625 30467.806641 29706.138672 29835.117188 29910.283203] 31371.74218800000017\n",
      "[30467.806641 29706.138672 29835.117188 29910.283203 31371.742188] 31151.480468999998266\n",
      "[29706.138672 29835.117188 29910.283203 31371.742188 31151.480469] 30215.279297000000952\n",
      "[29835.117188 29910.283203 31371.742188 31151.480469 30215.279297] 30110.330077999999048\n",
      "[29910.283203 31371.742188 31151.480469 30215.279297 30110.330078] 29084.666015999999217\n",
      "[31371.742188 31151.480469 30215.279297 30110.330078 29084.666016] 28373.513672000000952\n",
      "[31151.480469 30215.279297 30110.330078 29084.666016 28373.513672] 26737.578125\n",
      "[30215.279297 30110.330078 29084.666016 28373.513672 26737.578125] 22487.986327999999048\n",
      "[30110.330078 29084.666016 28373.513672 26737.578125 22487.986328] 22196.730468999998266\n",
      "[29084.666016 28373.513672 26737.578125 22487.986328 22196.730469] 22576.30468800000017\n",
      "[28373.513672 26737.578125 22487.986328 22196.730469 22576.304688] 20385.71875\n",
      "[26737.578125 22487.986328 22196.730469 22576.304688 20385.71875 ] 20473.425781000001734\n",
      "[22487.986328 22196.730469 22576.304688 20385.71875  20473.425781] 19010.902343999998266\n",
      "[22196.730469 22576.304688 20385.71875  20473.425781 19010.902344] 20553.371093999998266\n",
      "[22576.304688 20385.71875  20473.425781 19010.902344 20553.371094] 20594.294922000000952\n",
      "[20385.71875  20473.425781 19010.902344 20553.371094 20594.294922] 20719.41406300000017\n",
      "[20473.425781 19010.902344 20553.371094 20594.294922 20719.414063] 19986.607422000000952\n",
      "[19010.902344 20553.371094 20594.294922 20719.414063 19986.607422] 21084.64843800000017\n",
      "[20553.371094 20594.294922 20719.414063 19986.607422 21084.648438] 21233.609375\n",
      "[20594.294922 20719.414063 19986.607422 21084.648438 21233.609375] 21496.494140999999217\n",
      "[20719.414063 19986.607422 21084.648438 21233.609375 21496.494141] 21028.238281000001734\n",
      "[19986.607422 21084.648438 21233.609375 21496.494141 21028.238281] 20731.544922000000952\n",
      "[21084.648438 21233.609375 21496.494141 21028.238281 20731.544922] 20281.169922000000952\n",
      "[21233.609375 21496.494141 21028.238281 20731.544922 20281.169922] 20108.3125\n",
      "[21496.494141 21028.238281 20731.544922 20281.169922 20108.3125  ] 19820.470702999999048\n",
      "[21028.238281 20731.544922 20281.169922 20108.3125   19820.470703] 19274.83593800000017\n",
      "[20731.544922 20281.169922 20108.3125   19820.470703 19274.835938] 19242.095702999999048\n",
      "[20281.169922 20108.3125   19820.470703 19274.835938 19242.095703] 19297.314452999999048\n",
      "[20108.3125   19820.470703 19274.835938 19242.095703 19297.314453] 20225.353515999999217\n",
      "[19820.470703 19274.835938 19242.095703 19297.314453 20225.353516] 20194.619140999999217\n",
      "[19274.835938 19242.095703 19297.314453 20225.353516 20194.619141] 20547.814452999999048\n",
      "[19242.095703 19297.314453 20225.353516 20194.619141 20547.814453] 21637.154297000000952\n",
      "[19297.314453 20225.353516 20194.619141 20547.814453 21637.154297] 21716.828125\n",
      "[20225.353516 20194.619141 20547.814453 21637.154297 21716.828125] 21591.080077999999048\n",
      "[20194.619141 20547.814453 21637.154297 21716.828125 21591.080078] 20856.353515999999217\n",
      "[20547.814453 21637.154297 21716.828125 21591.080078 20856.353516] 19970.474609000000783\n",
      "[21637.154297 21716.828125 21591.080078 20856.353516 19970.474609] 19325.972656000001734\n",
      "[21716.828125 21591.080078 20856.353516 19970.474609 19325.972656] 20211.466797000000952\n",
      "[21591.080078 20856.353516 19970.474609 19325.972656 20211.466797] 20573.15625\n",
      "[20856.353516 19970.474609 19325.972656 20211.466797 20573.15625 ] 20834.103515999999217\n",
      "[19970.474609 19325.972656 20211.466797 20573.15625  20834.103516] 21195.041015999999217\n",
      "[19325.972656 20211.466797 20573.15625  20834.103516 21195.041016] 20781.912109000000783\n",
      "[20211.466797 20573.15625  20834.103516 21195.041016 20781.912109] 22467.849609000000783\n",
      "[20573.15625  20834.103516 21195.041016 20781.912109 22467.849609] 23393.191406000001734\n",
      "[20834.103516 21195.041016 20781.912109 22467.849609 23393.191406] 23233.201172000000952\n",
      "[21195.041016 20781.912109 22467.849609 23393.191406 23233.201172] 23163.751952999999048\n",
      "[20781.912109 22467.849609 23393.191406 23233.201172 23163.751953] 22706.984375\n",
      "[22467.849609 23393.191406 23233.201172 23163.751953 22706.984375] 22465.509765999999217\n",
      "[23393.191406 23233.201172 23163.751953 22706.984375 22465.509766] 22607.15625\n",
      "[23233.201172 23163.751953 22706.984375 22465.509766 22607.15625 ] 21361.121093999998266\n",
      "[23163.751953 22706.984375 22465.509766 22607.15625  21361.121094] 21244.169922000000952\n",
      "[22706.984375 22465.509766 22607.15625  21361.121094 21244.169922] 22933.640625\n",
      "[22465.509766 22607.15625  21361.121094 21244.169922 22933.640625] 23845.212890999999217\n",
      "[22607.15625  21361.121094 21244.169922 22933.640625 23845.212891] 23796.818359000000783\n",
      "[21361.121094 21244.169922 22933.640625 23845.212891 23796.818359] 23652.07031300000017\n",
      "[21244.169922 22933.640625 23845.212891 23796.818359 23652.070313] 23336.71875\n",
      "[22933.640625 23845.212891 23796.818359 23652.070313 23336.71875 ] 23308.433593999998266\n",
      "[23845.212891 23796.818359 23652.070313 23336.71875  23308.433594] 22981.302734000000783\n",
      "[23796.818359 23652.070313 23336.71875  23308.433594 22981.302734] 22848.214843999998266\n",
      "[23652.070313 23336.71875  23308.433594 22981.302734 22848.214844] 22626.833984000000783\n",
      "[23336.71875  23308.433594 22981.302734 22848.214844 22626.833984] 23291.423827999999048\n",
      "[23308.433594 22981.302734 22848.214844 22626.833984 23291.423828] 22963.505859000000783\n",
      "[22981.302734 22848.214844 22626.833984 23291.423828 22963.505859] 23179.527343999998266\n",
      "[22848.214844 22626.833984 23291.423828 22963.505859 23179.527344] 23811.484375\n",
      "[22626.833984 23291.423828 22963.505859 23179.527344 23811.484375] 23162.89843800000017\n",
      "[23291.423828 22963.505859 23179.527344 23811.484375 23162.898438] 23948.345702999999048\n",
      "[22963.505859 23179.527344 23811.484375 23162.898438 23948.345703] 23957.203125\n",
      "[23179.527344 23811.484375 23162.898438 23948.345703 23957.203125] 24402.1875\n",
      "[23811.484375 23162.898438 23948.345703 23957.203125 24402.1875  ] 24429.056640999999217\n",
      "[23162.898438 23948.345703 23957.203125 24402.1875   24429.056641] 24318.316406000001734\n",
      "[23948.345703 23957.203125 24402.1875   24429.056641 24318.316406] 24126.136718999998266\n",
      "[23957.203125 24402.1875   24429.056641 24318.316406 24126.136719] 23881.316406000001734\n",
      "[24402.1875   24429.056641 24318.316406 24126.136719 23881.316406] 23341.03906300000017\n",
      "[24429.056641 24318.316406 24126.136719 23881.316406 23341.039063] 23213.3125\n",
      "[24318.316406 24126.136719 23881.316406 23341.039063 23213.3125  ] 20872.841797000000952\n",
      "[24126.136719 23881.316406 23341.039063 23213.3125   20872.841797] 21160.392577999999048\n",
      "[23881.316406 23341.039063 23213.3125   20872.841797 21160.392578] 21531.462890999999217\n",
      "[23341.039063 23213.3125   20872.841797 21160.392578 21531.462891] 21401.044922000000952\n",
      "[23213.3125   20872.841797 21160.392578 21531.462891 21401.044922] 21526.455077999999048\n",
      "[20872.841797 21160.392578 21531.462891 21401.044922 21526.455078] 21395.458984000000783\n",
      "[21160.392578 21531.462891 21401.044922 21526.455078 21395.458984] 21596.08593800000017\n",
      "[21531.462891 21401.044922 21526.455078 21395.458984 21596.085938] 20262.480468999998266\n",
      "[21401.044922 21526.455078 21395.458984 21596.085938 20262.480469] 20041.035156000001734\n",
      "[21526.455078 21395.458984 21596.085938 20262.480469 20041.035156] 19615.154297000000952\n",
      "[21395.458984 21596.085938 20262.480469 20041.035156 19615.154297] 20298.611327999999048\n",
      "[21596.085938 20262.480469 20041.035156 19615.154297 20298.611328] 19799.582031000001734\n",
      "[20262.480469 20041.035156 19615.154297 20298.611328 19799.582031] 20050.498047000000952\n",
      "[20041.035156 19615.154297 20298.611328 19799.582031 20050.498047] 20126.072265999999217\n",
      "[19615.154297 20298.611328 19799.582031 20050.498047 20126.072266] 19969.71875\n",
      "[20298.611328 19799.582031 20050.498047 20126.072266 19969.71875 ] 19832.470702999999048\n",
      "[19799.582031 20050.498047 20126.072266 19969.71875  19832.470703] 19988.78906300000017\n",
      "[20050.498047 20126.072266 19969.71875  19832.470703 19988.789063] 19817.724609000000783\n",
      "[20126.072266 19969.71875  19832.470703 19988.789063 19817.724609] 18837.683593999998266\n",
      "[19969.71875  19832.470703 19988.789063 19817.724609 18837.683594] 19289.941406000001734\n",
      "[19832.470703 19988.789063 19817.724609 18837.683594 19289.941406] 19328.140625\n",
      "[19988.789063 19817.724609 18837.683594 19289.941406 19328.140625] 21376.912109000000783\n",
      "[19817.724609 18837.683594 19289.941406 19328.140625 21376.912109] 21678.542968999998266\n",
      "[18837.683594 19289.941406 19328.140625 21376.912109 21678.542969] 21770.14843800000017\n",
      "[19289.941406 19328.140625 21376.912109 21678.542969 21770.148438] 22371.480468999998266\n",
      "[19328.140625 21376.912109 21678.542969 21770.148438 22371.480469] 20184.55468800000017\n",
      "[21376.912109 21678.542969 21770.148438 22371.480469 20184.554688] 20242.28906300000017\n",
      "[21678.542969 21770.148438 22371.480469 20184.554688 20242.289063] 19704.005859000000783\n",
      "[21770.148438 22371.480469 20184.554688 20242.289063 19704.005859] 19777.033202999999048\n",
      "[22371.480469 20184.554688 20242.289063 19704.005859 19777.033203] 20127.234375\n",
      "[20184.554688 20242.289063 19704.005859 19777.033203 20127.234375] 19418.572265999999217\n",
      "[20242.289063 19704.005859 19777.033203 20127.234375 19418.572266] 19545.591797000000952\n",
      "[19704.005859 19777.033203 20127.234375 19418.572266 19545.591797] 18891.283202999999048\n",
      "[19777.033203 20127.234375 19418.572266 19545.591797 18891.283203] 18534.650390999999217\n",
      "[20127.234375 19418.572266 19545.591797 18891.283203 18534.650391] 19412.400390999999217\n",
      "[19418.572266 19545.591797 18891.283203 18534.650391 19412.400391] 19296.990234000000783\n",
      "[19545.591797 18891.283203 18534.650391 19412.400391 19296.990234] 18936.310547000000952\n",
      "[18891.283203 18534.650391 19412.400391 19296.990234 18936.310547] 18803.900390999999217\n",
      "[18534.650391 19412.400391 19296.990234 18936.310547 18803.900391] 19221.839843999998266\n",
      "[19412.400391 19296.990234 18936.310547 18803.900391 19221.839844] 19104.621093999998266\n",
      "[19296.990234 18936.310547 18803.900391 19221.839844 19104.621094] 19427.779297000000952\n",
      "[18936.310547 18803.900391 19221.839844 19104.621094 19427.779297] 19573.431640999999217\n",
      "[18803.900391 19221.839844 19104.621094 19427.779297 19573.431641] 19431.105468999998266\n",
      "[19221.839844 19104.621094 19427.779297 19573.431641 19431.105469] 19311.849609000000783\n",
      "[19104.621094 19427.779297 19573.431641 19431.105469 19311.849609] 19044.068359000000783\n",
      "[19427.779297 19573.431641 19431.105469 19311.849609 19044.068359] 19623.583984000000783\n",
      "[19573.431641 19431.105469 19311.849609 19044.068359 19623.583984] 20335.900390999999217\n",
      "[19431.105469 19311.849609 19044.068359 19623.583984 20335.900391] 20161.03906300000017\n",
      "[19311.849609 19044.068359 19623.583984 20335.900391 20161.039063] 19957.558593999998266\n",
      "[19044.068359 19623.583984 20335.900391 20161.039063 19957.558594] 19546.328125\n",
      "[19623.583984 20335.900391 20161.039063 19957.558594 19546.328125] 19417.478515999999217\n",
      "[20335.900391 20161.039063 19957.558594 19546.328125 19417.478516] 19446.416015999999217\n",
      "[20161.039063 19957.558594 19546.328125 19417.478516 19446.416016] 19139.0\n",
      "[19957.558594 19546.328125 19417.478516 19446.416016 19139.      ] 19052.646484000000783\n",
      "[19546.328125 19417.478516 19446.416016 19139.       19052.646484] 19156.966797000000952\n",
      "[19417.478516 19446.416016 19139.       19052.646484 19156.966797] 19382.533202999999048\n",
      "[19446.416016 19139.       19052.646484 19156.966797 19382.533203] 19185.4375\n",
      "[19139.       19052.646484 19156.966797 19382.533203 19185.4375  ] 19068.91406300000017\n",
      "[19052.646484 19156.966797 19382.533203 19185.4375   19068.914063] 19268.5625\n",
      "[19156.966797 19382.533203 19185.4375   19068.914063 19268.5625  ] 19550.466797000000952\n",
      "[19382.533203 19185.4375   19068.914063 19268.5625   19550.466797] 19335.027343999998266\n",
      "[19185.4375   19068.914063 19268.5625   19550.466797 19335.027344] 19138.08593800000017\n",
      "[19068.914063 19268.5625   19550.466797 19335.027344 19138.085938] 19053.203125\n",
      "[19268.5625   19550.466797 19335.027344 19138.085938 19053.203125] 19172.380859000000783\n",
      "[19550.466797 19335.027344 19138.085938 19053.203125 19172.380859] 19207.734375\n",
      "[19335.027344 19138.085938 19053.203125 19172.380859 19207.734375] 19567.769531000001734\n",
      "[19138.085938 19053.203125 19172.380859 19207.734375 19567.769531] 19344.964843999998266\n",
      "[19053.203125 19172.380859 19207.734375 19567.769531 19344.964844] 20092.236327999999048\n",
      "[19172.380859 19207.734375 19567.769531 19344.964844 20092.236328] 20772.802734000000783\n",
      "[19207.734375 19567.769531 19344.964844 20092.236328 20772.802734] 20287.957031000001734\n",
      "[19567.769531 19344.964844 20092.236328 20772.802734 20287.957031] 20595.103515999999217\n",
      "[19344.964844 20092.236328 20772.802734 20287.957031 20595.103516] 20817.982422000000952\n",
      "[20092.236328 20772.802734 20287.957031 20595.103516 20817.982422] 20633.69531300000017\n",
      "[20772.802734 20287.957031 20595.103516 20817.982422 20633.695313] 20494.89843800000017\n",
      "[20287.957031 20595.103516 20817.982422 20633.695313 20494.898438] 20482.958984000000783\n",
      "[20595.103516 20817.982422 20633.695313 20494.898438 20482.958984] 20162.689452999999048\n",
      "[20817.982422 20633.695313 20494.898438 20482.958984 20162.689453] 20208.769531000001734\n",
      "[20633.695313 20494.898438 20482.958984 20162.689453 20208.769531] 21144.832031000001734\n",
      "[20494.898438 20482.958984 20162.689453 20208.769531 21144.832031] 21285.056640999999217\n",
      "[20482.958984 20162.689453 20208.769531 21144.832031 21285.056641] 20924.621093999998266\n",
      "[20162.689453 20208.769531 21144.832031 21285.056641 20924.621094] 20600.671875\n",
      "[20208.769531 21144.832031 21285.056641 20924.621094 20600.671875] 18543.761718999998266\n",
      "[21144.832031 21285.056641 20924.621094 20600.671875 18543.761719] 15883.158203000000867\n",
      "[21285.056641 20924.621094 20600.671875 18543.761719 15883.158203] 17583.251952999999048\n",
      "[20924.621094 20600.671875 18543.761719 15883.158203 17583.251953] 17036.875\n",
      "[20600.671875 18543.761719 15883.158203 17583.251953 17036.875   ] 16799.722656000001734\n",
      "[18543.761719 15883.158203 17583.251953 17036.875    16799.722656] 16352.0283199999994395\n",
      "[15883.158203 17583.251953 17036.875    16799.722656 16352.02832 ] 16617.484375\n",
      "[17583.251953 17036.875    16799.722656 16352.02832  16617.484375] 16884.341797000000952\n",
      "[17036.875    16799.722656 16352.02832  16617.484375 16884.341797] 16670.425781000001734\n",
      "[16799.722656 16352.02832  16617.484375 16884.341797 16670.425781] 16687.912109000000783\n",
      "[16352.02832  16617.484375 16884.341797 16670.425781 16687.912109] 16696.220702999999048\n",
      "[16617.484375 16884.341797 16670.425781 16687.912109 16696.220703] 16712.919922000000952\n",
      "[16884.341797 16670.425781 16687.912109 16696.220703 16712.919922] 16291.223632999999609\n",
      "[16670.425781 16687.912109 16696.220703 16712.919922 16291.223633] 15782.300780999999915\n",
      "[16687.912109 16696.220703 16712.919922 16291.223633 15782.300781] 16195.588867000000391\n",
      "[16696.220703 16712.919922 16291.223633 15782.300781 16195.588867] 16611.636718999998266\n",
      "[16712.919922 16291.223633 15782.300781 16195.588867 16611.636719] 16602.269531000001734\n",
      "[16291.223633 15782.300781 16195.588867 16611.636719 16602.269531] 16521.576172000000952\n",
      "[15782.300781 16195.588867 16611.636719 16602.269531 16521.576172] 16463.88281300000017\n",
      "[16195.588867 16611.636719 16602.269531 16521.576172 16463.882813] 16440.222656000001734\n",
      "[16611.636719 16602.269531 16521.576172 16463.882813 16440.222656] 16217.639648000000307\n",
      "[16602.269531 16521.576172 16463.882813 16440.222656 16217.639648] 16445.47656300000017\n",
      "[16521.576172 16463.882813 16440.222656 16217.639648 16445.476563] 17168.001952999999048\n",
      "[16463.882813 16440.222656 16217.639648 16445.476563 17168.001953] 16968.683593999998266\n",
      "[16440.222656 16217.639648 16445.476563 17168.001953 16968.683594] 17090.097656000001734\n",
      "[16217.639648 16445.476563 17168.001953 16968.683594 17090.097656] 16908.169922000000952\n",
      "[16445.476563 17168.001953 16968.683594 17090.097656 16908.169922] 17128.894531000001734\n",
      "[17168.001953 16968.683594 17090.097656 16908.169922 17128.894531] 16975.238281000001734\n",
      "[16968.683594 17090.097656 16908.169922 17128.894531 16975.238281] 17089.505859000000783\n",
      "[17090.097656 16908.169922 17128.894531 16975.238281 17089.505859] 16847.349609000000783\n",
      "[16908.169922 17128.894531 16975.238281 17089.505859 16847.349609] 17232.14843800000017\n",
      "[17128.894531 16975.238281 17089.505859 16847.349609 17232.148438] 17134.220702999999048\n",
      "[16975.238281 17089.505859 16847.349609 17232.148438 17134.220703] 17129.71093800000017\n",
      "[17089.505859 16847.349609 17232.148438 17134.220703 17129.710938] 17102.5\n",
      "[16847.349609 17232.148438 17134.220703 17129.710938 17102.5     ] 17206.441406000001734\n",
      "[17232.148438 17134.220703 17129.710938 17102.5      17206.441406] 17782.066406000001734\n",
      "[17134.220703 17129.710938 17102.5      17206.441406 17782.066406] 17813.644531000001734\n",
      "[17129.710938 17102.5      17206.441406 17782.066406 17813.644531] 17364.546875\n",
      "[17102.5      17206.441406 17782.066406 17813.644531 17364.546875] 16646.982422000000952\n",
      "[17206.441406 17782.066406 17813.644531 17364.546875 16646.982422] 16795.609375\n",
      "[17782.066406 17813.644531 17364.546875 16646.982422 16795.609375] 16759.041015999999217\n",
      "[17813.644531 17364.546875 16646.982422 16795.609375 16759.041016] 16441.787109000000783\n",
      "[17364.546875 16646.982422 16795.609375 16759.041016 16441.787109] 16904.527343999998266\n",
      "[16646.982422 16795.609375 16759.041016 16441.787109 16904.527344] 16818.380859000000783\n",
      "[16795.609375 16759.041016 16441.787109 16904.527344 16818.380859] 16829.644531000001734\n",
      "[16759.041016 16441.787109 16904.527344 16818.380859 16829.644531] 16796.97656300000017\n",
      "[16441.787109 16904.527344 16818.380859 16829.644531 16796.976563] 16847.505859000000783\n",
      "[16904.527344 16818.380859 16829.644531 16796.976563 16847.505859] 16842.25\n",
      "[16818.380859 16829.644531 16796.976563 16847.505859 16842.25    ] 16919.291015999999217\n",
      "[16829.644531 16796.976563 16847.505859 16842.25     16919.291016] 16716.400390999999217\n",
      "[16796.976563 16847.505859 16842.25     16919.291016 16716.400391] 16552.322265999999217\n",
      "[16847.505859 16842.25     16919.291016 16716.400391 16552.322266] 16641.330077999999048\n",
      "[16842.25     16919.291016 16716.400391 16552.322266 16641.330078] 16603.673827999999048\n",
      "[16919.291016 16716.400391 16552.322266 16641.330078 16603.673828] 16547.91406300000017\n",
      "[16716.400391 16552.322266 16641.330078 16603.673828 16547.914063] 16625.509765999999217\n",
      "[16552.322266 16641.330078 16603.673828 16547.914063 16625.509766] 16688.847656000001734\n",
      "[16641.330078 16603.673828 16547.914063 16625.509766 16688.847656] 16680.205077999999048\n",
      "[16603.673828 16547.914063 16625.509766 16688.847656 16680.205078] 16863.472656000001734\n",
      "[16547.914063 16625.509766 16688.847656 16680.205078 16863.472656] 16836.472656000001734\n",
      "[16625.509766 16688.847656 16680.205078 16863.472656 16836.472656] 16952.11718800000017\n",
      "[16688.847656 16680.205078 16863.472656 16836.472656 16952.117188] 16954.146484000000783\n",
      "[16680.205078 16863.472656 16836.472656 16952.117188 16954.146484] 17093.99218800000017\n",
      "[16863.472656 16836.472656 16952.117188 16954.146484 17093.992188] 17192.949218999998266\n",
      "[16836.472656 16952.117188 16954.146484 17093.992188 17192.949219] 17446.359375\n",
      "[16952.117188 16954.146484 17093.992188 17192.949219 17446.359375] 18117.59375\n",
      "[16954.146484 17093.992188 17192.949219 17446.359375 18117.59375 ] 18868.90625\n",
      "[17093.992188 17192.949219 17446.359375 18117.59375  18868.90625 ] 19910.537109000000783\n",
      "[17192.949219 17446.359375 18117.59375  18868.90625  19910.537109] 20977.484375\n",
      "[17446.359375 18117.59375  18868.90625  19910.537109 20977.484375] 20882.224609000000783\n",
      "[18117.59375  18868.90625  19910.537109 20977.484375 20882.224609] 21175.833984000000783\n",
      "[18868.90625  19910.537109 20977.484375 20882.224609 21175.833984] 21161.050781000001734\n",
      "[19910.537109 20977.484375 20882.224609 21175.833984 21161.050781] 20686.746093999998266\n",
      "[20977.484375 20882.224609 21175.833984 21161.050781 20686.746094] 21085.373047000000952\n",
      "[20882.224609 21175.833984 21161.050781 20686.746094 21085.373047] 22677.427734000000783\n"
     ]
    }
   ],
   "source": [
    "for i in range(len(train_x)):   \n",
    "    print(train_x[i],train_y[i])\n",
    "\n",
    "# print(train_x[:5],'\\n')\n",
    "# print(train_y[:5])"
   ]
  },
  {
   "cell_type": "code",
   "execution_count": 96,
   "metadata": {},
   "outputs": [
    {
     "data": {
      "text/plain": [
       "array([36841.878906, 37128.445313, 37780.714844, 38151.917969,\n",
       "       37920.28125 ], dtype=float128)"
      ]
     },
     "execution_count": 96,
     "metadata": {},
     "output_type": "execute_result"
    }
   ],
   "source": [
    "train_y[:5]"
   ]
  },
  {
   "cell_type": "code",
   "execution_count": 97,
   "metadata": {},
   "outputs": [
    {
     "data": {
      "text/html": [
       "<div>\n",
       "<style scoped>\n",
       "    .dataframe tbody tr th:only-of-type {\n",
       "        vertical-align: middle;\n",
       "    }\n",
       "\n",
       "    .dataframe tbody tr th {\n",
       "        vertical-align: top;\n",
       "    }\n",
       "\n",
       "    .dataframe thead th {\n",
       "        text-align: right;\n",
       "    }\n",
       "</style>\n",
       "<table border=\"1\" class=\"dataframe\">\n",
       "  <thead>\n",
       "    <tr style=\"text-align: right;\">\n",
       "      <th></th>\n",
       "      <th>x1</th>\n",
       "      <th>x2</th>\n",
       "      <th>x3</th>\n",
       "      <th>x4</th>\n",
       "      <th>x5</th>\n",
       "    </tr>\n",
       "  </thead>\n",
       "  <tbody>\n",
       "    <tr>\n",
       "      <th>0</th>\n",
       "      <td>36471.589844</td>\n",
       "      <td>35047.359375</td>\n",
       "      <td>36275.734375</td>\n",
       "      <td>36654.804688</td>\n",
       "      <td>36950.515625</td>\n",
       "    </tr>\n",
       "    <tr>\n",
       "      <th>1</th>\n",
       "      <td>35047.359375</td>\n",
       "      <td>36275.734375</td>\n",
       "      <td>36654.804688</td>\n",
       "      <td>36950.515625</td>\n",
       "      <td>36841.878906</td>\n",
       "    </tr>\n",
       "    <tr>\n",
       "      <th>2</th>\n",
       "      <td>36275.734375</td>\n",
       "      <td>36654.804688</td>\n",
       "      <td>36950.515625</td>\n",
       "      <td>36841.878906</td>\n",
       "      <td>37128.445313</td>\n",
       "    </tr>\n",
       "    <tr>\n",
       "      <th>3</th>\n",
       "      <td>36654.804688</td>\n",
       "      <td>36950.515625</td>\n",
       "      <td>36841.878906</td>\n",
       "      <td>37128.445313</td>\n",
       "      <td>37780.714844</td>\n",
       "    </tr>\n",
       "    <tr>\n",
       "      <th>4</th>\n",
       "      <td>36950.515625</td>\n",
       "      <td>36841.878906</td>\n",
       "      <td>37128.445313</td>\n",
       "      <td>37780.714844</td>\n",
       "      <td>38151.917969</td>\n",
       "    </tr>\n",
       "  </tbody>\n",
       "</table>\n",
       "</div>"
      ],
      "text/plain": [
       "             x1            x2            x3            x4            x5\n",
       "0  36471.589844  35047.359375  36275.734375  36654.804688  36950.515625\n",
       "1  35047.359375  36275.734375  36654.804688  36950.515625  36841.878906\n",
       "2  36275.734375  36654.804688  36950.515625  36841.878906  37128.445313\n",
       "3  36654.804688  36950.515625  36841.878906  37128.445313  37780.714844\n",
       "4  36950.515625  36841.878906  37128.445313  37780.714844  38151.917969"
      ]
     },
     "execution_count": 97,
     "metadata": {},
     "output_type": "execute_result"
    }
   ],
   "source": [
    "df_ = pd.DataFrame(train_x,columns=['x1','x2','x3','x4','x5'])\n",
    "df_.head(5)"
   ]
  },
  {
   "cell_type": "code",
   "execution_count": 98,
   "metadata": {
    "scrolled": true
   },
   "outputs": [
    {
     "data": {
      "text/html": [
       "<div>\n",
       "<style scoped>\n",
       "    .dataframe tbody tr th:only-of-type {\n",
       "        vertical-align: middle;\n",
       "    }\n",
       "\n",
       "    .dataframe tbody tr th {\n",
       "        vertical-align: top;\n",
       "    }\n",
       "\n",
       "    .dataframe thead th {\n",
       "        text-align: right;\n",
       "    }\n",
       "</style>\n",
       "<table border=\"1\" class=\"dataframe\">\n",
       "  <thead>\n",
       "    <tr style=\"text-align: right;\">\n",
       "      <th></th>\n",
       "      <th>x1</th>\n",
       "      <th>x2</th>\n",
       "      <th>x3</th>\n",
       "      <th>x4</th>\n",
       "      <th>x5</th>\n",
       "      <th>y</th>\n",
       "    </tr>\n",
       "  </thead>\n",
       "  <tbody>\n",
       "    <tr>\n",
       "      <th>0</th>\n",
       "      <td>36471.589844</td>\n",
       "      <td>35047.359375</td>\n",
       "      <td>36275.734375</td>\n",
       "      <td>36654.804688</td>\n",
       "      <td>36950.515625</td>\n",
       "      <td>36841.878906</td>\n",
       "    </tr>\n",
       "    <tr>\n",
       "      <th>1</th>\n",
       "      <td>35047.359375</td>\n",
       "      <td>36275.734375</td>\n",
       "      <td>36654.804688</td>\n",
       "      <td>36950.515625</td>\n",
       "      <td>36841.878906</td>\n",
       "      <td>37128.445313</td>\n",
       "    </tr>\n",
       "    <tr>\n",
       "      <th>2</th>\n",
       "      <td>36275.734375</td>\n",
       "      <td>36654.804688</td>\n",
       "      <td>36950.515625</td>\n",
       "      <td>36841.878906</td>\n",
       "      <td>37128.445313</td>\n",
       "      <td>37780.714844</td>\n",
       "    </tr>\n",
       "    <tr>\n",
       "      <th>3</th>\n",
       "      <td>36654.804688</td>\n",
       "      <td>36950.515625</td>\n",
       "      <td>36841.878906</td>\n",
       "      <td>37128.445313</td>\n",
       "      <td>37780.714844</td>\n",
       "      <td>38151.917969</td>\n",
       "    </tr>\n",
       "    <tr>\n",
       "      <th>4</th>\n",
       "      <td>36950.515625</td>\n",
       "      <td>36841.878906</td>\n",
       "      <td>37128.445313</td>\n",
       "      <td>37780.714844</td>\n",
       "      <td>38151.917969</td>\n",
       "      <td>37920.281250</td>\n",
       "    </tr>\n",
       "  </tbody>\n",
       "</table>\n",
       "</div>"
      ],
      "text/plain": [
       "             x1            x2            x3            x4            x5  \\\n",
       "0  36471.589844  35047.359375  36275.734375  36654.804688  36950.515625   \n",
       "1  35047.359375  36275.734375  36654.804688  36950.515625  36841.878906   \n",
       "2  36275.734375  36654.804688  36950.515625  36841.878906  37128.445313   \n",
       "3  36654.804688  36950.515625  36841.878906  37128.445313  37780.714844   \n",
       "4  36950.515625  36841.878906  37128.445313  37780.714844  38151.917969   \n",
       "\n",
       "              y  \n",
       "0  36841.878906  \n",
       "1  37128.445313  \n",
       "2  37780.714844  \n",
       "3  38151.917969  \n",
       "4  37920.281250  "
      ]
     },
     "execution_count": 98,
     "metadata": {},
     "output_type": "execute_result"
    }
   ],
   "source": [
    "df_['y'] = pd.DataFrame(train_y)\n",
    "df_.head()"
   ]
  },
  {
   "cell_type": "code",
   "execution_count": 99,
   "metadata": {},
   "outputs": [
    {
     "name": "stdout",
     "output_type": "stream",
     "text": [
      "(360, 6)\n",
      "x1    float128\n",
      "x2    float128\n",
      "x3    float128\n",
      "x4    float128\n",
      "x5    float128\n",
      "y     float128\n",
      "dtype: object\n"
     ]
    }
   ],
   "source": [
    "print(df_.shape)\n",
    "print(df_.dtypes)"
   ]
  },
  {
   "cell_type": "code",
   "execution_count": 100,
   "metadata": {},
   "outputs": [],
   "source": [
    "df_.to_csv('split_with_timestep.csv')"
   ]
  }
 ],
 "metadata": {
  "accelerator": "GPU",
  "colab": {
   "provenance": []
  },
  "gpuClass": "standard",
  "kernelspec": {
   "display_name": "Python 3 (ipykernel)",
   "language": "python",
   "name": "python3"
  },
  "language_info": {
   "codemirror_mode": {
    "name": "ipython",
    "version": 3
   },
   "file_extension": ".py",
   "mimetype": "text/x-python",
   "name": "python",
   "nbconvert_exporter": "python",
   "pygments_lexer": "ipython3",
   "version": "3.8.10"
  }
 },
 "nbformat": 4,
 "nbformat_minor": 1
}
