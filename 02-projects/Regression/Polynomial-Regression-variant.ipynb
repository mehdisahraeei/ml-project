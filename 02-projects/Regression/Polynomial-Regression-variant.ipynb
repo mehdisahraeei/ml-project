{
 "cells": [
  {
   "cell_type": "markdown",
   "metadata": {
    "button": false,
    "new_sheet": false,
    "run_control": {
     "read_only": false
    }
   },
   "source": [
    "# Polynomial Regression"
   ]
  },
  {
   "cell_type": "markdown",
   "metadata": {},
   "source": [
    "### developer: mehdi sahraei"
   ]
  },
  {
   "cell_type": "markdown",
   "metadata": {
    "button": false,
    "new_sheet": false,
    "run_control": {
     "read_only": false
    }
   },
   "source": [
    "### Importing Needed packages\n"
   ]
  },
  {
   "cell_type": "code",
   "execution_count": 1,
   "metadata": {
    "button": false,
    "new_sheet": false,
    "run_control": {
     "read_only": false
    }
   },
   "outputs": [],
   "source": [
    "import matplotlib.pyplot as plt\n",
    "import pandas as pd\n",
    "import pylab as pl\n",
    "import numpy as np\n",
    "%matplotlib inline"
   ]
  },
  {
   "cell_type": "markdown",
   "metadata": {
    "button": false,
    "new_sheet": false,
    "run_control": {
     "read_only": false
    }
   },
   "source": [
    "## Reading the data with pandas\n",
    "- taking a look at the dataset and analyzing data\n"
   ]
  },
  {
   "cell_type": "code",
   "execution_count": 2,
   "metadata": {
    "button": false,
    "new_sheet": false,
    "run_control": {
     "read_only": false
    }
   },
   "outputs": [
    {
     "data": {
      "text/html": [
       "<div>\n",
       "<style scoped>\n",
       "    .dataframe tbody tr th:only-of-type {\n",
       "        vertical-align: middle;\n",
       "    }\n",
       "\n",
       "    .dataframe tbody tr th {\n",
       "        vertical-align: top;\n",
       "    }\n",
       "\n",
       "    .dataframe thead th {\n",
       "        text-align: right;\n",
       "    }\n",
       "</style>\n",
       "<table border=\"1\" class=\"dataframe\">\n",
       "  <thead>\n",
       "    <tr style=\"text-align: right;\">\n",
       "      <th></th>\n",
       "      <th>x1</th>\n",
       "      <th>x2</th>\n",
       "      <th>x3</th>\n",
       "      <th>x4</th>\n",
       "      <th>y</th>\n",
       "    </tr>\n",
       "  </thead>\n",
       "  <tbody>\n",
       "    <tr>\n",
       "      <th>0</th>\n",
       "      <td>-0.383285</td>\n",
       "      <td>0.146907</td>\n",
       "      <td>-0.056307</td>\n",
       "      <td>0.021582</td>\n",
       "      <td>-0.245841</td>\n",
       "    </tr>\n",
       "    <tr>\n",
       "      <th>1</th>\n",
       "      <td>0.831785</td>\n",
       "      <td>0.691866</td>\n",
       "      <td>0.575484</td>\n",
       "      <td>0.478679</td>\n",
       "      <td>1.839005</td>\n",
       "    </tr>\n",
       "    <tr>\n",
       "      <th>2</th>\n",
       "      <td>0.415071</td>\n",
       "      <td>0.172284</td>\n",
       "      <td>0.071510</td>\n",
       "      <td>0.029682</td>\n",
       "      <td>0.859224</td>\n",
       "    </tr>\n",
       "    <tr>\n",
       "      <th>3</th>\n",
       "      <td>-0.628672</td>\n",
       "      <td>0.395228</td>\n",
       "      <td>-0.248469</td>\n",
       "      <td>0.156205</td>\n",
       "      <td>-0.174309</td>\n",
       "    </tr>\n",
       "    <tr>\n",
       "      <th>4</th>\n",
       "      <td>-0.087517</td>\n",
       "      <td>0.007659</td>\n",
       "      <td>-0.000670</td>\n",
       "      <td>0.000059</td>\n",
       "      <td>0.013225</td>\n",
       "    </tr>\n",
       "  </tbody>\n",
       "</table>\n",
       "</div>"
      ],
      "text/plain": [
       "         x1        x2        x3        x4         y\n",
       "0 -0.383285  0.146907 -0.056307  0.021582 -0.245841\n",
       "1  0.831785  0.691866  0.575484  0.478679  1.839005\n",
       "2  0.415071  0.172284  0.071510  0.029682  0.859224\n",
       "3 -0.628672  0.395228 -0.248469  0.156205 -0.174309\n",
       "4 -0.087517  0.007659 -0.000670  0.000059  0.013225"
      ]
     },
     "execution_count": 2,
     "metadata": {},
     "output_type": "execute_result"
    }
   ],
   "source": [
    "df = pd.read_csv(\"dataset3.csv\")\n",
    "\n",
    "df.head() #View the beginning of the data\n",
    "#tail is used for Viewing the end of the data"
   ]
  },
  {
   "cell_type": "markdown",
   "metadata": {},
   "source": [
    "## A more concise view of the data\n"
   ]
  },
  {
   "cell_type": "code",
   "execution_count": 4,
   "metadata": {
    "button": false,
    "new_sheet": false,
    "run_control": {
     "read_only": false
    }
   },
   "outputs": [
    {
     "data": {
      "text/html": [
       "<div>\n",
       "<style scoped>\n",
       "    .dataframe tbody tr th:only-of-type {\n",
       "        vertical-align: middle;\n",
       "    }\n",
       "\n",
       "    .dataframe tbody tr th {\n",
       "        vertical-align: top;\n",
       "    }\n",
       "\n",
       "    .dataframe thead th {\n",
       "        text-align: right;\n",
       "    }\n",
       "</style>\n",
       "<table border=\"1\" class=\"dataframe\">\n",
       "  <thead>\n",
       "    <tr style=\"text-align: right;\">\n",
       "      <th></th>\n",
       "      <th>x1</th>\n",
       "      <th>x2</th>\n",
       "      <th>x3</th>\n",
       "      <th>x4</th>\n",
       "      <th>y</th>\n",
       "    </tr>\n",
       "  </thead>\n",
       "  <tbody>\n",
       "    <tr>\n",
       "      <th>0</th>\n",
       "      <td>-0.383285</td>\n",
       "      <td>1.469070e-01</td>\n",
       "      <td>-5.630719e-02</td>\n",
       "      <td>2.158167e-02</td>\n",
       "      <td>-0.245841</td>\n",
       "    </tr>\n",
       "    <tr>\n",
       "      <th>1</th>\n",
       "      <td>0.831785</td>\n",
       "      <td>6.918660e-01</td>\n",
       "      <td>5.754837e-01</td>\n",
       "      <td>4.786786e-01</td>\n",
       "      <td>1.839005</td>\n",
       "    </tr>\n",
       "    <tr>\n",
       "      <th>2</th>\n",
       "      <td>0.415071</td>\n",
       "      <td>1.722838e-01</td>\n",
       "      <td>7.150996e-02</td>\n",
       "      <td>2.968169e-02</td>\n",
       "      <td>0.859224</td>\n",
       "    </tr>\n",
       "    <tr>\n",
       "      <th>3</th>\n",
       "      <td>-0.628672</td>\n",
       "      <td>3.952284e-01</td>\n",
       "      <td>-2.484690e-01</td>\n",
       "      <td>1.562055e-01</td>\n",
       "      <td>-0.174309</td>\n",
       "    </tr>\n",
       "    <tr>\n",
       "      <th>4</th>\n",
       "      <td>-0.087517</td>\n",
       "      <td>7.659193e-03</td>\n",
       "      <td>-6.703081e-04</td>\n",
       "      <td>5.866323e-05</td>\n",
       "      <td>0.013225</td>\n",
       "    </tr>\n",
       "    <tr>\n",
       "      <th>5</th>\n",
       "      <td>1.213338</td>\n",
       "      <td>1.472189e+00</td>\n",
       "      <td>1.786263e+00</td>\n",
       "      <td>2.167341e+00</td>\n",
       "      <td>1.654046</td>\n",
       "    </tr>\n",
       "    <tr>\n",
       "      <th>6</th>\n",
       "      <td>-1.165563</td>\n",
       "      <td>1.358537e+00</td>\n",
       "      <td>-1.583460e+00</td>\n",
       "      <td>1.845622e+00</td>\n",
       "      <td>-0.330590</td>\n",
       "    </tr>\n",
       "    <tr>\n",
       "      <th>7</th>\n",
       "      <td>-0.000199</td>\n",
       "      <td>3.961433e-08</td>\n",
       "      <td>-7.884580e-12</td>\n",
       "      <td>1.569295e-15</td>\n",
       "      <td>-0.204364</td>\n",
       "    </tr>\n",
       "    <tr>\n",
       "      <th>8</th>\n",
       "      <td>0.988463</td>\n",
       "      <td>9.770587e-01</td>\n",
       "      <td>9.657862e-01</td>\n",
       "      <td>9.546438e-01</td>\n",
       "      <td>1.842551</td>\n",
       "    </tr>\n",
       "    <tr>\n",
       "      <th>9</th>\n",
       "      <td>-0.255599</td>\n",
       "      <td>6.533063e-02</td>\n",
       "      <td>-1.669841e-02</td>\n",
       "      <td>4.268091e-03</td>\n",
       "      <td>-0.358899</td>\n",
       "    </tr>\n",
       "  </tbody>\n",
       "</table>\n",
       "</div>"
      ],
      "text/plain": [
       "         x1            x2            x3            x4         y\n",
       "0 -0.383285  1.469070e-01 -5.630719e-02  2.158167e-02 -0.245841\n",
       "1  0.831785  6.918660e-01  5.754837e-01  4.786786e-01  1.839005\n",
       "2  0.415071  1.722838e-01  7.150996e-02  2.968169e-02  0.859224\n",
       "3 -0.628672  3.952284e-01 -2.484690e-01  1.562055e-01 -0.174309\n",
       "4 -0.087517  7.659193e-03 -6.703081e-04  5.866323e-05  0.013225\n",
       "5  1.213338  1.472189e+00  1.786263e+00  2.167341e+00  1.654046\n",
       "6 -1.165563  1.358537e+00 -1.583460e+00  1.845622e+00 -0.330590\n",
       "7 -0.000199  3.961433e-08 -7.884580e-12  1.569295e-15 -0.204364\n",
       "8  0.988463  9.770587e-01  9.657862e-01  9.546438e-01  1.842551\n",
       "9 -0.255599  6.533063e-02 -1.669841e-02  4.268091e-03 -0.358899"
      ]
     },
     "execution_count": 4,
     "metadata": {},
     "output_type": "execute_result"
    }
   ],
   "source": [
    "cdf = df[['x1','x2','x3','x4','y']]\n",
    "cdf.head(10)"
   ]
  },
  {
   "cell_type": "markdown",
   "metadata": {},
   "source": [
    "## Data Exploration\n"
   ]
  },
  {
   "cell_type": "code",
   "execution_count": 6,
   "metadata": {},
   "outputs": [
    {
     "data": {
      "text/html": [
       "<div>\n",
       "<style scoped>\n",
       "    .dataframe tbody tr th:only-of-type {\n",
       "        vertical-align: middle;\n",
       "    }\n",
       "\n",
       "    .dataframe tbody tr th {\n",
       "        vertical-align: top;\n",
       "    }\n",
       "\n",
       "    .dataframe thead th {\n",
       "        text-align: right;\n",
       "    }\n",
       "</style>\n",
       "<table border=\"1\" class=\"dataframe\">\n",
       "  <thead>\n",
       "    <tr style=\"text-align: right;\">\n",
       "      <th></th>\n",
       "      <th>x1</th>\n",
       "      <th>x2</th>\n",
       "      <th>x3</th>\n",
       "      <th>x4</th>\n",
       "      <th>y</th>\n",
       "    </tr>\n",
       "  </thead>\n",
       "  <tbody>\n",
       "    <tr>\n",
       "      <th>count</th>\n",
       "      <td>214.000000</td>\n",
       "      <td>2.140000e+02</td>\n",
       "      <td>214.000000</td>\n",
       "      <td>2.140000e+02</td>\n",
       "      <td>214.000000</td>\n",
       "    </tr>\n",
       "    <tr>\n",
       "      <th>mean</th>\n",
       "      <td>0.255966</td>\n",
       "      <td>4.334303e-01</td>\n",
       "      <td>0.282694</td>\n",
       "      <td>5.455288e-01</td>\n",
       "      <td>0.581019</td>\n",
       "    </tr>\n",
       "    <tr>\n",
       "      <th>std</th>\n",
       "      <td>0.607980</td>\n",
       "      <td>5.994549e-01</td>\n",
       "      <td>0.955259</td>\n",
       "      <td>1.356668e+00</td>\n",
       "      <td>0.799835</td>\n",
       "    </tr>\n",
       "    <tr>\n",
       "      <th>min</th>\n",
       "      <td>-1.634782</td>\n",
       "      <td>3.961433e-08</td>\n",
       "      <td>-4.368976</td>\n",
       "      <td>1.569295e-15</td>\n",
       "      <td>-3.189842</td>\n",
       "    </tr>\n",
       "    <tr>\n",
       "      <th>25%</th>\n",
       "      <td>-0.150384</td>\n",
       "      <td>3.993358e-02</td>\n",
       "      <td>-0.003404</td>\n",
       "      <td>1.594735e-03</td>\n",
       "      <td>-0.004072</td>\n",
       "    </tr>\n",
       "    <tr>\n",
       "      <th>50%</th>\n",
       "      <td>0.248990</td>\n",
       "      <td>1.724409e-01</td>\n",
       "      <td>0.015442</td>\n",
       "      <td>2.973590e-02</td>\n",
       "      <td>0.374672</td>\n",
       "    </tr>\n",
       "    <tr>\n",
       "      <th>75%</th>\n",
       "      <td>0.658075</td>\n",
       "      <td>5.877565e-01</td>\n",
       "      <td>0.285016</td>\n",
       "      <td>3.455183e-01</td>\n",
       "      <td>1.165324</td>\n",
       "    </tr>\n",
       "    <tr>\n",
       "      <th>max</th>\n",
       "      <td>1.765677</td>\n",
       "      <td>3.117616e+00</td>\n",
       "      <td>5.504704</td>\n",
       "      <td>9.719531e+00</td>\n",
       "      <td>2.375315</td>\n",
       "    </tr>\n",
       "  </tbody>\n",
       "</table>\n",
       "</div>"
      ],
      "text/plain": [
       "               x1            x2          x3            x4           y\n",
       "count  214.000000  2.140000e+02  214.000000  2.140000e+02  214.000000\n",
       "mean     0.255966  4.334303e-01    0.282694  5.455288e-01    0.581019\n",
       "std      0.607980  5.994549e-01    0.955259  1.356668e+00    0.799835\n",
       "min     -1.634782  3.961433e-08   -4.368976  1.569295e-15   -3.189842\n",
       "25%     -0.150384  3.993358e-02   -0.003404  1.594735e-03   -0.004072\n",
       "50%      0.248990  1.724409e-01    0.015442  2.973590e-02    0.374672\n",
       "75%      0.658075  5.877565e-01    0.285016  3.455183e-01    1.165324\n",
       "max      1.765677  3.117616e+00    5.504704  9.719531e+00    2.375315"
      ]
     },
     "execution_count": 6,
     "metadata": {},
     "output_type": "execute_result"
    }
   ],
   "source": [
    "#data summary \n",
    "df.describe()"
   ]
  },
  {
   "cell_type": "markdown",
   "metadata": {},
   "source": [
    "## data histogram"
   ]
  },
  {
   "cell_type": "code",
   "execution_count": 8,
   "metadata": {},
   "outputs": [
    {
     "data": {
      "image/png": "[encoded data removed]",
      "text/plain": [
       "<Figure size 640x480 with 4 Axes>"
      ]
     },
     "metadata": {},
     "output_type": "display_data"
    }
   ],
   "source": [
    "df_hist = cdf[['x1','x2','x3','y']]\n",
    "df_hist.hist()\n",
    "plt.show()"
   ]
  },
  {
   "cell_type": "markdown",
   "metadata": {},
   "source": [
    "## drawing plot and scatter"
   ]
  },
  {
   "cell_type": "code",
   "execution_count": 11,
   "metadata": {
    "button": false,
    "new_sheet": false,
    "run_control": {
     "read_only": false
    },
    "scrolled": true
   },
   "outputs": [
    {
     "data": {
      "image/png": "[encoded data removed]",
      "text/plain": [
       "<Figure size 640x480 with 1 Axes>"
      ]
     },
     "metadata": {},
     "output_type": "display_data"
    }
   ],
   "source": [
    "plt.scatter(cdf.x1, cdf.y,  color='green')\n",
    "plt.xlabel(\"x1\")\n",
    "plt.ylabel(\"y\")\n",
    "plt.show()"
   ]
  },
  {
   "cell_type": "code",
   "execution_count": 12,
   "metadata": {
    "scrolled": false
   },
   "outputs": [
    {
     "data": {
      "image/png": "[encoded data removed]",
      "text/plain": [
       "<Figure size 640x480 with 1 Axes>"
      ]
     },
     "metadata": {},
     "output_type": "display_data"
    }
   ],
   "source": [
    "plt.scatter(cdf.x2, cdf.y,  color='orange')\n",
    "plt.xlabel(\"x2\")\n",
    "plt.ylabel(\"y\")\n",
    "plt.show()"
   ]
  },
  {
   "cell_type": "code",
   "execution_count": 13,
   "metadata": {},
   "outputs": [
    {
     "data": {
      "image/png": "[encoded data removed]",
      "text/plain": [
       "<Figure size 640x480 with 1 Axes>"
      ]
     },
     "metadata": {},
     "output_type": "display_data"
    }
   ],
   "source": [
    "plt.scatter(cdf.x3, cdf.y,  color='orange')\n",
    "plt.xlabel(\"x3\")\n",
    "plt.ylabel(\"y\")\n",
    "plt.show()"
   ]
  },
  {
   "cell_type": "code",
   "execution_count": 14,
   "metadata": {},
   "outputs": [
    {
     "data": {
      "image/png": "[encoded data removed]",
      "text/plain": [
       "<Figure size 640x480 with 1 Axes>"
      ]
     },
     "metadata": {},
     "output_type": "display_data"
    }
   ],
   "source": [
    "plt.scatter(cdf.x4, cdf.y,  color='orange')\n",
    "plt.xlabel(\"x4\")\n",
    "plt.ylabel(\"y\")\n",
    "plt.show()"
   ]
  },
  {
   "cell_type": "markdown",
   "metadata": {
    "button": false,
    "new_sheet": false,
    "run_control": {
     "read_only": false
    }
   },
   "source": [
    "## Creating train and test dataset"
   ]
  },
  {
   "cell_type": "code",
   "execution_count": 35,
   "metadata": {
    "button": false,
    "new_sheet": false,
    "run_control": {
     "read_only": false
    }
   },
   "outputs": [],
   "source": [
    "msk = np.random.rand(len(df)) < 0.8\n",
    "train = cdf[msk]\n",
    "test = cdf[~msk]"
   ]
  },
  {
   "cell_type": "markdown",
   "metadata": {
    "button": false,
    "new_sheet": false,
    "run_control": {
     "read_only": false
    }
   },
   "source": [
    "## training model"
   ]
  },
  {
   "cell_type": "markdown",
   "metadata": {
    "button": false,
    "new_sheet": false,
    "run_control": {
     "read_only": false
    }
   },
   "source": [
    "- x2 ->  X^2\n",
    "- y=b+θ_1x_1+θ_2x_2    ----  it's that formula for obtaining Polynomial line\n",
    "- sample for: poly = PolynomialFeatures(degree=2) if values be [[2. ]\n",
    " [2.4]\n",
    " [1.5]] Each component reaches the power of 0, 1, and 2, and this depends on the degree\n",
    "- n ^ 0 = 1"
   ]
  },
  {
   "cell_type": "code",
   "execution_count": 40,
   "metadata": {
    "button": false,
    "new_sheet": false,
    "run_control": {
     "read_only": false
    }
   },
   "outputs": [
    {
     "name": "stdout",
     "output_type": "stream",
     "text": [
      "[[-0.38328452]\n",
      " [ 0.41507079]\n",
      " [-0.62867192]]\n"
     ]
    },
    {
     "data": {
      "text/plain": [
       "array([[ 1.        , -0.38328452,  0.14690702],\n",
       "       [ 1.        ,  0.41507079,  0.17228376],\n",
       "       [ 1.        , -0.62867192,  0.39522838]])"
      ]
     },
     "execution_count": 40,
     "metadata": {},
     "output_type": "execute_result"
    }
   ],
   "source": [
    "from sklearn.preprocessing import PolynomialFeatures\n",
    "from sklearn import linear_model\n",
    "\n",
    "regr = linear_model.LinearRegression()\n",
    "\n",
    "#asanyarray: converting to normal array \n",
    "#train_x , train_y data are fitted with together and the best line is obtained and it will be final model\n",
    "train_x = np.asanyarray(train[['x1']])\n",
    "train_y = np.asanyarray(train[['y']])\n",
    "test_x = np.asanyarray(test[['x1']])\n",
    "test_y = np.asanyarray(train[['y']])\n",
    "\n",
    "print(train_x[:3])\n",
    "\n",
    "#PolynomialFeatures: features are those features created by raising existing features to an exponent\n",
    "poly = PolynomialFeatures(degree=2) \n",
    "train_x_poly = poly.fit_transform(train_x)\n",
    "train_x_poly[:3]"
   ]
  },
  {
   "cell_type": "code",
   "execution_count": 41,
   "metadata": {},
   "outputs": [
    {
     "name": "stdout",
     "output_type": "stream",
     "text": [
      "Coefficients:  [[ 0.          1.02467701 -0.20957123]]\n",
      "Intercept:  [0.41675935]\n"
     ]
    }
   ],
   "source": [
    "regr.fit(train_x_poly, train_y)\n",
    "\n",
    "# Coefficient and Intercept , are the parameters of the fit curvy line\n",
    "print ('Coefficients: ', regr.coef_)\n",
    "print ('Intercept: ',regr.intercept_)"
   ]
  },
  {
   "cell_type": "markdown",
   "metadata": {},
   "source": [
    "### final Plot and scatter\n",
    "- y = 107.14 + 50.4 * x ^ 1 - 1.52 * x ^ 2"
   ]
  },
  {
   "cell_type": "code",
   "execution_count": 90,
   "metadata": {},
   "outputs": [
    {
     "data": {
      "text/plain": [
       "Text(0, 0.5, 'y')"
      ]
     },
     "execution_count": 90,
     "metadata": {},
     "output_type": "execute_result"
    },
    {
     "data": {
      "image/png": "[encoded data removed]",
      "text/plain": [
       "<Figure size 640x480 with 1 Axes>"
      ]
     },
     "metadata": {},
     "output_type": "display_data"
    }
   ],
   "source": [
    "plt.scatter(train.x1, train.y,  color='blue')\n",
    "XX = np.arange(0.0, 3.0, 0.01)\n",
    "yy = regr.intercept_[0]+ regr.coef_[0][1]*XX+ regr.coef_[0][2]*np.power(XX, 2)\n",
    "plt.plot(XX, yy, '-r' )\n",
    "plt.xlabel(\"x1\")\n",
    "plt.ylabel(\"y\")"
   ]
  },
  {
   "cell_type": "markdown",
   "metadata": {
    "button": false,
    "new_sheet": false,
    "run_control": {
     "read_only": false
    }
   },
   "source": [
    "### model Evaluation"
   ]
  },
  {
   "cell_type": "code",
   "execution_count": 91,
   "metadata": {},
   "outputs": [
    {
     "name": "stdout",
     "output_type": "stream",
     "text": [
      "Mean absolute error: 0.39\n",
      "Residual sum of squares (MSE): 0.21\n",
      "R2-score: 0.68\n"
     ]
    }
   ],
   "source": [
    "from sklearn.metrics import r2_score\n",
    "\n",
    "test_x_poly = poly.fit_transform(test_x)\n",
    "test_y = np.asanyarray(test[['y']])\n",
    "predict = regr.predict(test_x_poly)\n",
    "\n",
    "print(\"Mean absolute error: %.2f\" % np.mean(np.absolute(predict - test_y)))\n",
    "print(\"Residual sum of squares (MSE): %.2f\" % np.mean((predict - test_y) ** 2))\n",
    "print(\"R2-score: %.2f\" % r2_score(test_y,predict))"
   ]
  }
 ],
 "metadata": {
  "kernelspec": {
   "display_name": "Python 3 (ipykernel)",
   "language": "python",
   "name": "python3"
  },
  "language_info": {
   "codemirror_mode": {
    "name": "ipython",
    "version": 3
   },
   "file_extension": ".py",
   "mimetype": "text/x-python",
   "name": "python",
   "nbconvert_exporter": "python",
   "pygments_lexer": "ipython3",
   "version": "3.8.10"
  },
  "widgets": {
   "state": {},
   "version": "1.1.2"
  }
 },
 "nbformat": 4,
 "nbformat_minor": 2
}
