{
 "cells": [
  {
   "cell_type": "markdown",
   "metadata": {
    "button": false,
    "new_sheet": false,
    "run_control": {
     "read_only": false
    }
   },
   "source": [
    "## multiple Linear Regression\n",
    "- developer: mehdi sahraei\n",
    "- [link github](https://github.com/mehdisahraeei)"
   ]
  },
  {
   "cell_type": "markdown",
   "metadata": {
    "button": false,
    "new_sheet": false,
    "run_control": {
     "read_only": false
    }
   },
   "source": [
    "### Importing Needed packages\n"
   ]
  },
  {
   "cell_type": "code",
   "execution_count": 204,
   "metadata": {
    "button": false,
    "new_sheet": false,
    "run_control": {
     "read_only": false
    }
   },
   "outputs": [],
   "source": [
    "import joblib\n",
    "from sklearn import linear_model\n",
    "from sklearn.metrics import r2_score\n",
    "from sklearn.preprocessing import MinMaxScaler\n",
    "import matplotlib.pyplot as plt\n",
    "import pandas as pd\n",
    "import pylab as pl\n",
    "import numpy as np\n",
    "%matplotlib inline"
   ]
  },
  {
   "cell_type": "markdown",
   "metadata": {
    "button": false,
    "new_sheet": false,
    "run_control": {
     "read_only": false
    }
   },
   "source": [
    "### Reading the data with pandas\n",
    "- taking a look at the dataset and analyzing data"
   ]
  },
  {
   "cell_type": "code",
   "execution_count": 205,
   "metadata": {
    "button": false,
    "new_sheet": false,
    "run_control": {
     "read_only": false
    }
   },
   "outputs": [
    {
     "data": {
      "text/html": [
       "<div>\n",
       "<style scoped>\n",
       "    .dataframe tbody tr th:only-of-type {\n",
       "        vertical-align: middle;\n",
       "    }\n",
       "\n",
       "    .dataframe tbody tr th {\n",
       "        vertical-align: top;\n",
       "    }\n",
       "\n",
       "    .dataframe thead th {\n",
       "        text-align: right;\n",
       "    }\n",
       "</style>\n",
       "<table border=\"1\" class=\"dataframe\">\n",
       "  <thead>\n",
       "    <tr style=\"text-align: right;\">\n",
       "      <th></th>\n",
       "      <th>Unnamed: 0</th>\n",
       "      <th>x1</th>\n",
       "      <th>x2</th>\n",
       "      <th>x3</th>\n",
       "      <th>x4</th>\n",
       "      <th>x5</th>\n",
       "      <th>y</th>\n",
       "    </tr>\n",
       "  </thead>\n",
       "  <tbody>\n",
       "    <tr>\n",
       "      <th>0</th>\n",
       "      <td>0</td>\n",
       "      <td>302.00</td>\n",
       "      <td>293.96</td>\n",
       "      <td>290.91</td>\n",
       "      <td>299.10</td>\n",
       "      <td>323.29</td>\n",
       "      <td>309.80</td>\n",
       "    </tr>\n",
       "    <tr>\n",
       "      <th>1</th>\n",
       "      <td>1</td>\n",
       "      <td>293.96</td>\n",
       "      <td>290.91</td>\n",
       "      <td>299.10</td>\n",
       "      <td>323.29</td>\n",
       "      <td>309.80</td>\n",
       "      <td>315.74</td>\n",
       "    </tr>\n",
       "    <tr>\n",
       "      <th>2</th>\n",
       "      <td>2</td>\n",
       "      <td>290.91</td>\n",
       "      <td>299.10</td>\n",
       "      <td>323.29</td>\n",
       "      <td>309.80</td>\n",
       "      <td>315.74</td>\n",
       "      <td>323.42</td>\n",
       "    </tr>\n",
       "    <tr>\n",
       "      <th>3</th>\n",
       "      <td>3</td>\n",
       "      <td>299.10</td>\n",
       "      <td>323.29</td>\n",
       "      <td>309.80</td>\n",
       "      <td>315.74</td>\n",
       "      <td>323.42</td>\n",
       "      <td>327.24</td>\n",
       "    </tr>\n",
       "    <tr>\n",
       "      <th>4</th>\n",
       "      <td>4</td>\n",
       "      <td>323.29</td>\n",
       "      <td>309.80</td>\n",
       "      <td>315.74</td>\n",
       "      <td>323.42</td>\n",
       "      <td>327.24</td>\n",
       "      <td>330.79</td>\n",
       "    </tr>\n",
       "  </tbody>\n",
       "</table>\n",
       "</div>"
      ],
      "text/plain": [
       "   Unnamed: 0      x1      x2      x3      x4      x5       y\n",
       "0           0  302.00  293.96  290.91  299.10  323.29  309.80\n",
       "1           1  293.96  290.91  299.10  323.29  309.80  315.74\n",
       "2           2  290.91  299.10  323.29  309.80  315.74  323.42\n",
       "3           3  299.10  323.29  309.80  315.74  323.42  327.24\n",
       "4           4  323.29  309.80  315.74  323.42  327.24  330.79"
      ]
     },
     "execution_count": 205,
     "metadata": {},
     "output_type": "execute_result"
    }
   ],
   "source": [
    "df = pd.read_csv(\"split_with_timestep.csv\")\n",
    "\n",
    "df.head() #View the beginning of the data\n",
    "#tail is used for Viewing the end of the data"
   ]
  },
  {
   "cell_type": "markdown",
   "metadata": {},
   "source": [
    "### Data Exploration"
   ]
  },
  {
   "cell_type": "code",
   "execution_count": 206,
   "metadata": {},
   "outputs": [
    {
     "data": {
      "text/html": [
       "<div>\n",
       "<style scoped>\n",
       "    .dataframe tbody tr th:only-of-type {\n",
       "        vertical-align: middle;\n",
       "    }\n",
       "\n",
       "    .dataframe tbody tr th {\n",
       "        vertical-align: top;\n",
       "    }\n",
       "\n",
       "    .dataframe thead th {\n",
       "        text-align: right;\n",
       "    }\n",
       "</style>\n",
       "<table border=\"1\" class=\"dataframe\">\n",
       "  <thead>\n",
       "    <tr style=\"text-align: right;\">\n",
       "      <th></th>\n",
       "      <th>Unnamed: 0</th>\n",
       "      <th>x1</th>\n",
       "      <th>x2</th>\n",
       "      <th>x3</th>\n",
       "      <th>x4</th>\n",
       "      <th>x5</th>\n",
       "      <th>y</th>\n",
       "    </tr>\n",
       "  </thead>\n",
       "  <tbody>\n",
       "    <tr>\n",
       "      <th>count</th>\n",
       "      <td>2240.000000</td>\n",
       "      <td>2240.000000</td>\n",
       "      <td>2240.000000</td>\n",
       "      <td>2240.000000</td>\n",
       "      <td>2240.000000</td>\n",
       "      <td>2240.000000</td>\n",
       "      <td>2240.000000</td>\n",
       "    </tr>\n",
       "    <tr>\n",
       "      <th>mean</th>\n",
       "      <td>1119.500000</td>\n",
       "      <td>1172.567558</td>\n",
       "      <td>1173.152286</td>\n",
       "      <td>1173.755442</td>\n",
       "      <td>1174.354844</td>\n",
       "      <td>1174.950263</td>\n",
       "      <td>1175.511353</td>\n",
       "    </tr>\n",
       "    <tr>\n",
       "      <th>std</th>\n",
       "      <td>646.776623</td>\n",
       "      <td>1120.985121</td>\n",
       "      <td>1120.872414</td>\n",
       "      <td>1120.762606</td>\n",
       "      <td>1120.649268</td>\n",
       "      <td>1120.538336</td>\n",
       "      <td>1120.426357</td>\n",
       "    </tr>\n",
       "    <tr>\n",
       "      <th>min</th>\n",
       "      <td>0.000000</td>\n",
       "      <td>83.760000</td>\n",
       "      <td>83.760000</td>\n",
       "      <td>83.760000</td>\n",
       "      <td>83.760000</td>\n",
       "      <td>83.760000</td>\n",
       "      <td>83.760000</td>\n",
       "    </tr>\n",
       "    <tr>\n",
       "      <th>25%</th>\n",
       "      <td>559.750000</td>\n",
       "      <td>229.932500</td>\n",
       "      <td>229.932500</td>\n",
       "      <td>229.932500</td>\n",
       "      <td>229.932500</td>\n",
       "      <td>229.932500</td>\n",
       "      <td>229.932500</td>\n",
       "    </tr>\n",
       "    <tr>\n",
       "      <th>50%</th>\n",
       "      <td>1119.500000</td>\n",
       "      <td>678.415000</td>\n",
       "      <td>680.100000</td>\n",
       "      <td>680.455000</td>\n",
       "      <td>680.820000</td>\n",
       "      <td>681.960000</td>\n",
       "      <td>683.435000</td>\n",
       "    </tr>\n",
       "    <tr>\n",
       "      <th>75%</th>\n",
       "      <td>1679.250000</td>\n",
       "      <td>1816.892500</td>\n",
       "      <td>1816.892500</td>\n",
       "      <td>1816.892500</td>\n",
       "      <td>1816.892500</td>\n",
       "      <td>1816.892500</td>\n",
       "      <td>1816.892500</td>\n",
       "    </tr>\n",
       "    <tr>\n",
       "      <th>max</th>\n",
       "      <td>2239.000000</td>\n",
       "      <td>4807.980000</td>\n",
       "      <td>4807.980000</td>\n",
       "      <td>4807.980000</td>\n",
       "      <td>4807.980000</td>\n",
       "      <td>4807.980000</td>\n",
       "      <td>4807.980000</td>\n",
       "    </tr>\n",
       "  </tbody>\n",
       "</table>\n",
       "</div>"
      ],
      "text/plain": [
       "        Unnamed: 0           x1           x2           x3           x4  \\\n",
       "count  2240.000000  2240.000000  2240.000000  2240.000000  2240.000000   \n",
       "mean   1119.500000  1172.567558  1173.152286  1173.755442  1174.354844   \n",
       "std     646.776623  1120.985121  1120.872414  1120.762606  1120.649268   \n",
       "min       0.000000    83.760000    83.760000    83.760000    83.760000   \n",
       "25%     559.750000   229.932500   229.932500   229.932500   229.932500   \n",
       "50%    1119.500000   678.415000   680.100000   680.455000   680.820000   \n",
       "75%    1679.250000  1816.892500  1816.892500  1816.892500  1816.892500   \n",
       "max    2239.000000  4807.980000  4807.980000  4807.980000  4807.980000   \n",
       "\n",
       "                x5            y  \n",
       "count  2240.000000  2240.000000  \n",
       "mean   1174.950263  1175.511353  \n",
       "std    1120.538336  1120.426357  \n",
       "min      83.760000    83.760000  \n",
       "25%     229.932500   229.932500  \n",
       "50%     681.960000   683.435000  \n",
       "75%    1816.892500  1816.892500  \n",
       "max    4807.980000  4807.980000  "
      ]
     },
     "execution_count": 206,
     "metadata": {},
     "output_type": "execute_result"
    }
   ],
   "source": [
    "df.describe()"
   ]
  },
  {
   "cell_type": "markdown",
   "metadata": {},
   "source": [
    "### A more concise view of the data"
   ]
  },
  {
   "cell_type": "code",
   "execution_count": 207,
   "metadata": {
    "button": false,
    "new_sheet": false,
    "run_control": {
     "read_only": false
    }
   },
   "outputs": [
    {
     "data": {
      "text/html": [
       "<div>\n",
       "<style scoped>\n",
       "    .dataframe tbody tr th:only-of-type {\n",
       "        vertical-align: middle;\n",
       "    }\n",
       "\n",
       "    .dataframe tbody tr th {\n",
       "        vertical-align: top;\n",
       "    }\n",
       "\n",
       "    .dataframe thead th {\n",
       "        text-align: right;\n",
       "    }\n",
       "</style>\n",
       "<table border=\"1\" class=\"dataframe\">\n",
       "  <thead>\n",
       "    <tr style=\"text-align: right;\">\n",
       "      <th></th>\n",
       "      <th>x1</th>\n",
       "      <th>x2</th>\n",
       "      <th>x3</th>\n",
       "      <th>x4</th>\n",
       "      <th>x5</th>\n",
       "      <th>y</th>\n",
       "    </tr>\n",
       "  </thead>\n",
       "  <tbody>\n",
       "    <tr>\n",
       "      <th>0</th>\n",
       "      <td>302.00</td>\n",
       "      <td>293.96</td>\n",
       "      <td>290.91</td>\n",
       "      <td>299.10</td>\n",
       "      <td>323.29</td>\n",
       "      <td>309.80</td>\n",
       "    </tr>\n",
       "    <tr>\n",
       "      <th>1</th>\n",
       "      <td>293.96</td>\n",
       "      <td>290.91</td>\n",
       "      <td>299.10</td>\n",
       "      <td>323.29</td>\n",
       "      <td>309.80</td>\n",
       "      <td>315.74</td>\n",
       "    </tr>\n",
       "    <tr>\n",
       "      <th>2</th>\n",
       "      <td>290.91</td>\n",
       "      <td>299.10</td>\n",
       "      <td>323.29</td>\n",
       "      <td>309.80</td>\n",
       "      <td>315.74</td>\n",
       "      <td>323.42</td>\n",
       "    </tr>\n",
       "    <tr>\n",
       "      <th>3</th>\n",
       "      <td>299.10</td>\n",
       "      <td>323.29</td>\n",
       "      <td>309.80</td>\n",
       "      <td>315.74</td>\n",
       "      <td>323.42</td>\n",
       "      <td>327.24</td>\n",
       "    </tr>\n",
       "    <tr>\n",
       "      <th>4</th>\n",
       "      <td>323.29</td>\n",
       "      <td>309.80</td>\n",
       "      <td>315.74</td>\n",
       "      <td>323.42</td>\n",
       "      <td>327.24</td>\n",
       "      <td>330.79</td>\n",
       "    </tr>\n",
       "    <tr>\n",
       "      <th>5</th>\n",
       "      <td>309.80</td>\n",
       "      <td>315.74</td>\n",
       "      <td>323.42</td>\n",
       "      <td>327.24</td>\n",
       "      <td>330.79</td>\n",
       "      <td>348.13</td>\n",
       "    </tr>\n",
       "    <tr>\n",
       "      <th>6</th>\n",
       "      <td>315.74</td>\n",
       "      <td>323.42</td>\n",
       "      <td>327.24</td>\n",
       "      <td>330.79</td>\n",
       "      <td>348.13</td>\n",
       "      <td>346.00</td>\n",
       "    </tr>\n",
       "    <tr>\n",
       "      <th>7</th>\n",
       "      <td>323.42</td>\n",
       "      <td>327.24</td>\n",
       "      <td>330.79</td>\n",
       "      <td>348.13</td>\n",
       "      <td>346.00</td>\n",
       "      <td>374.70</td>\n",
       "    </tr>\n",
       "    <tr>\n",
       "      <th>8</th>\n",
       "      <td>327.24</td>\n",
       "      <td>330.79</td>\n",
       "      <td>348.13</td>\n",
       "      <td>346.00</td>\n",
       "      <td>374.70</td>\n",
       "      <td>385.93</td>\n",
       "    </tr>\n",
       "    <tr>\n",
       "      <th>9</th>\n",
       "      <td>330.79</td>\n",
       "      <td>348.13</td>\n",
       "      <td>346.00</td>\n",
       "      <td>374.70</td>\n",
       "      <td>385.93</td>\n",
       "      <td>384.79</td>\n",
       "    </tr>\n",
       "  </tbody>\n",
       "</table>\n",
       "</div>"
      ],
      "text/plain": [
       "       x1      x2      x3      x4      x5       y\n",
       "0  302.00  293.96  290.91  299.10  323.29  309.80\n",
       "1  293.96  290.91  299.10  323.29  309.80  315.74\n",
       "2  290.91  299.10  323.29  309.80  315.74  323.42\n",
       "3  299.10  323.29  309.80  315.74  323.42  327.24\n",
       "4  323.29  309.80  315.74  323.42  327.24  330.79\n",
       "5  309.80  315.74  323.42  327.24  330.79  348.13\n",
       "6  315.74  323.42  327.24  330.79  348.13  346.00\n",
       "7  323.42  327.24  330.79  348.13  346.00  374.70\n",
       "8  327.24  330.79  348.13  346.00  374.70  385.93\n",
       "9  330.79  348.13  346.00  374.70  385.93  384.79"
      ]
     },
     "execution_count": 207,
     "metadata": {},
     "output_type": "execute_result"
    }
   ],
   "source": [
    "cdf = df[['x1','x2','x3','x4','x5','y']]\n",
    "cdf.head(10)"
   ]
  },
  {
   "cell_type": "markdown",
   "metadata": {},
   "source": [
    "### data histogram\n",
    "\n",
    "- For example, if the cylinder value be 4, There are 400 data in the dataset, whose cylinder is equal to 4"
   ]
  },
  {
   "cell_type": "code",
   "execution_count": 208,
   "metadata": {},
   "outputs": [
    {
     "data": {
      "image/png": "[encoded data removed]",
      "text/plain": [
       "<Figure size 640x480 with 6 Axes>"
      ]
     },
     "metadata": {},
     "output_type": "display_data"
    }
   ],
   "source": [
    "df_hist = cdf[['x1','x2','x3','x4','x5','y']]\n",
    "df_hist.hist()\n",
    "plt.show()"
   ]
  },
  {
   "cell_type": "markdown",
   "metadata": {},
   "source": [
    "### drawing plot and scatter"
   ]
  },
  {
   "cell_type": "code",
   "execution_count": 209,
   "metadata": {
    "button": false,
    "new_sheet": false,
    "run_control": {
     "read_only": false
    },
    "scrolled": false
   },
   "outputs": [
    {
     "data": {
      "image/png": "[encoded data removed]",
      "text/plain": [
       "<Figure size 640x480 with 1 Axes>"
      ]
     },
     "metadata": {},
     "output_type": "display_data"
    }
   ],
   "source": [
    "fig = plt.figure()\n",
    "ax = fig.add_subplot(111)\n",
    "ax.scatter(cdf.x5, cdf.y,  color='blue')\n",
    "ax.scatter(cdf.x3, cdf.y,  color='red',marker='.')\n",
    "\n",
    "plt.xlabel(\"x\")\n",
    "plt.ylabel(\"y\")\n",
    "plt.show()"
   ]
  },
  {
   "cell_type": "markdown",
   "metadata": {
    "button": false,
    "new_sheet": false,
    "run_control": {
     "read_only": false
    }
   },
   "source": [
    "### Creating train and test dataset\n",
    "#### 20 % for test and 80 for train"
   ]
  },
  {
   "cell_type": "code",
   "execution_count": 210,
   "metadata": {
    "button": false,
    "new_sheet": false,
    "run_control": {
     "read_only": false
    }
   },
   "outputs": [],
   "source": [
    "msk = np.random.rand(len(df)) < 0.8\n",
    "train = cdf[msk]\n",
    "test = cdf[~msk]"
   ]
  },
  {
   "cell_type": "code",
   "execution_count": 211,
   "metadata": {},
   "outputs": [
    {
     "name": "stdout",
     "output_type": "stream",
     "text": [
      "train: \t (1799, 6) \n",
      " test: \t (441, 6)\n"
     ]
    }
   ],
   "source": [
    "print('train: \\t', train.shape, '\\n' , 'test: \\t', test.shape)"
   ]
  },
  {
   "cell_type": "markdown",
   "metadata": {
    "button": false,
    "new_sheet": false,
    "run_control": {
     "read_only": false
    }
   },
   "source": [
    "### drawing plot and scatter train and test"
   ]
  },
  {
   "cell_type": "code",
   "execution_count": 212,
   "metadata": {
    "button": false,
    "new_sheet": false,
    "run_control": {
     "read_only": false
    }
   },
   "outputs": [
    {
     "data": {
      "image/png": "[encoded data removed]",
      "text/plain": [
       "<Figure size 640x480 with 1 Axes>"
      ]
     },
     "metadata": {},
     "output_type": "display_data"
    }
   ],
   "source": [
    "fig1 = plt.figure()\n",
    "ax = fig1.add_subplot(111)\n",
    "ax.scatter(train.x5, train.y,  color='blue')\n",
    "ax.scatter(test.x5, test.y,  color='red')\n",
    "plt.xlabel(\"x5\")\n",
    "plt.ylabel(\"y\")\n",
    "plt.show()"
   ]
  },
  {
   "cell_type": "code",
   "execution_count": 213,
   "metadata": {},
   "outputs": [
    {
     "data": {
      "image/png": "[encoded data removed]",
      "text/plain": [
       "<Figure size 640x480 with 1 Axes>"
      ]
     },
     "metadata": {},
     "output_type": "display_data"
    }
   ],
   "source": [
    "fig2 = plt.figure()\n",
    "ax = fig2.add_subplot(111)\n",
    "ax.scatter(train.x4, train.y,  color='blue')\n",
    "ax.scatter(test.x4, test.y,  color='red')\n",
    "plt.xlabel(\"x4\")\n",
    "plt.ylabel(\"y\")\n",
    "plt.show()"
   ]
  },
  {
   "cell_type": "markdown",
   "metadata": {},
   "source": [
    "### normalizing data"
   ]
  },
  {
   "cell_type": "markdown",
   "metadata": {},
   "source": [
    "#### before norm"
   ]
  },
  {
   "cell_type": "code",
   "execution_count": 214,
   "metadata": {},
   "outputs": [],
   "source": [
    "#asanyarray: converting to normal array \n",
    "train_x = np.asanyarray(train[['x1','x2','x3','x4','x5']])\n",
    "train_y = np.asanyarray(train[['y']])\n",
    "\n",
    "test_x = np.asanyarray(test[['x1','x2','x3','x4','x5']])\n",
    "test_y = np.asanyarray(test[['y']])"
   ]
  },
  {
   "cell_type": "code",
   "execution_count": 215,
   "metadata": {},
   "outputs": [
    {
     "data": {
      "text/plain": [
       "(1799, 5)"
      ]
     },
     "execution_count": 215,
     "metadata": {},
     "output_type": "execute_result"
    }
   ],
   "source": [
    "train_x.shape"
   ]
  },
  {
   "cell_type": "markdown",
   "metadata": {},
   "source": [
    "#### after norm"
   ]
  },
  {
   "cell_type": "code",
   "execution_count": 216,
   "metadata": {},
   "outputs": [],
   "source": [
    "scaler = MinMaxScaler(feature_range = (0,1))\n",
    "train_x = scaler.fit_transform(train_x)\n",
    "train_y = scaler.fit_transform(train_y)\n",
    "\n",
    "test_x = scaler.fit_transform(test_x)\n",
    "test_y = scaler.fit_transform(test_y)"
   ]
  },
  {
   "cell_type": "markdown",
   "metadata": {
    "button": false,
    "new_sheet": false,
    "run_control": {
     "read_only": false
    }
   },
   "source": [
    "### training model\n",
    "\n",
    "- Converting the data into a normal array So that it is suitable for the model format\n",
    "\n",
    "- [link regr](https://scikit-learn.org/stable/supervised_learning.html)"
   ]
  },
  {
   "cell_type": "code",
   "execution_count": 217,
   "metadata": {
    "button": false,
    "new_sheet": false,
    "run_control": {
     "read_only": false
    }
   },
   "outputs": [
    {
     "name": "stdout",
     "output_type": "stream",
     "text": [
      "Coefficients:  [[-0.03465825 -0.0057721   0.03924947  0.06787614  0.93051616]]\n",
      "Intercept:  [0.00076395]\n"
     ]
    }
   ],
   "source": [
    "\n",
    "regr = linear_model.LinearRegression()\n",
    "\n",
    "\n",
    "#train_x , train_y data are fitted with together and the best line is obtained and it will be final model\n",
    "regr.fit (train_x, train_y)\n",
    "\n",
    "# The coefficients\n",
    "print('Coefficients: ', regr.coef_)\n",
    "print ('Intercept: ',regr.intercept_)"
   ]
  },
  {
   "cell_type": "markdown",
   "metadata": {},
   "source": [
    "### model Evaluation"
   ]
  },
  {
   "cell_type": "code",
   "execution_count": 218,
   "metadata": {
    "button": false,
    "new_sheet": false,
    "run_control": {
     "read_only": false
    }
   },
   "outputs": [
    {
     "name": "stdout",
     "output_type": "stream",
     "text": [
      "Mean absolute error: 0.01\n",
      "Residual sum of squares (MSE): 0.00\n",
      "R2-score: 1.00\n"
     ]
    }
   ],
   "source": [
    "\n",
    "predict = regr.predict(test_x) #y_hat\n",
    "\n",
    "print(\"Mean absolute error: %.2f\" % np.mean(np.absolute(predict - test_y)))\n",
    "print(\"Residual sum of squares (MSE): %.2f\" % np.mean((predict - test_y) ** 2))\n",
    "print(\"R2-score: %.2f\" % r2_score(test_y , predict) )\n"
   ]
  },
  {
   "cell_type": "markdown",
   "metadata": {},
   "source": [
    "### testing"
   ]
  },
  {
   "cell_type": "code",
   "execution_count": 219,
   "metadata": {},
   "outputs": [
    {
     "data": {
      "text/plain": [
       "array([[0.05276663],\n",
       "       [0.05354689],\n",
       "       [0.04720633]])"
      ]
     },
     "execution_count": 219,
     "metadata": {},
     "output_type": "execute_result"
    }
   ],
   "source": [
    "predict[:3]"
   ]
  },
  {
   "cell_type": "code",
   "execution_count": 220,
   "metadata": {},
   "outputs": [
    {
     "data": {
      "text/plain": [
       "array([[0.05433531],\n",
       "       [0.05512772],\n",
       "       [0.04680399]])"
      ]
     },
     "execution_count": 220,
     "metadata": {},
     "output_type": "execute_result"
    }
   ],
   "source": [
    "test_y[:3]"
   ]
  },
  {
   "cell_type": "code",
   "execution_count": 221,
   "metadata": {},
   "outputs": [
    {
     "data": {
      "text/plain": [
       "array([[ 320.21238284],\n",
       "       [ 323.70794677],\n",
       "       [ 295.30247408],\n",
       "       [ 293.14504905],\n",
       "       [ 217.99250867],\n",
       "       [ 254.47876596],\n",
       "       [ 279.38779557],\n",
       "       [ 300.45390619],\n",
       "       [ 291.03292503],\n",
       "       [ 296.07991591],\n",
       "       [ 295.93838245],\n",
       "       [ 300.89644029],\n",
       "       [ 296.4669783 ],\n",
       "       [ 279.24101378],\n",
       "       [ 293.32564966],\n",
       "       [ 291.49125794],\n",
       "       [ 293.84131564],\n",
       "       [ 342.12330997],\n",
       "       [ 460.84394207],\n",
       "       [ 448.357757  ],\n",
       "       [ 401.88811867],\n",
       "       [ 673.14476109],\n",
       "       [ 637.54526896],\n",
       "       [ 742.36412552],\n",
       "       [ 918.61099261],\n",
       "       [1100.17448697],\n",
       "       [1118.79101816],\n",
       "       [1330.88299062],\n",
       "       [ 966.93675304],\n",
       "       [ 820.76891704],\n",
       "       [ 608.01403447],\n",
       "       [ 530.62115495],\n",
       "       [ 376.4362627 ],\n",
       "       [ 499.32149371],\n",
       "       [ 557.26750323],\n",
       "       [ 670.20585124],\n",
       "       [ 682.09730305],\n",
       "       [ 677.93476972],\n",
       "       [ 739.28917134],\n",
       "       [ 713.28501996],\n",
       "       [ 681.10940057],\n",
       "       [ 686.09696206],\n",
       "       [ 689.87594706],\n",
       "       [ 574.90188286],\n",
       "       [ 555.99788455],\n",
       "       [ 548.1985236 ],\n",
       "       [ 586.03230695],\n",
       "       [ 601.67475468],\n",
       "       [ 599.69673118],\n",
       "       [ 597.39613172],\n",
       "       [ 530.4851279 ],\n",
       "       [ 461.60128528],\n",
       "       [ 466.64330956],\n",
       "       [ 416.01553038],\n",
       "       [ 458.09464072],\n",
       "       [ 462.513724  ],\n",
       "       [ 479.12098447],\n",
       "       [ 481.13766497],\n",
       "       [ 467.93872987],\n",
       "       [ 438.55124808],\n",
       "       [ 425.2058141 ],\n",
       "       [ 443.18903156],\n",
       "       [ 445.15039647],\n",
       "       [ 451.30445555],\n",
       "       [ 445.21733198],\n",
       "       [ 472.06037714],\n",
       "       [ 466.76657899],\n",
       "       [ 458.85997971],\n",
       "       [ 428.83527937],\n",
       "       [ 416.04157958],\n",
       "       [ 411.20816111],\n",
       "       [ 282.98875849],\n",
       "       [ 268.38761937],\n",
       "       [ 275.39597063],\n",
       "       [ 194.40298473],\n",
       "       [ 182.56610015],\n",
       "       [ 244.91650423],\n",
       "       [ 240.45618935],\n",
       "       [ 206.27567057],\n",
       "       [ 204.27413719],\n",
       "       [ 198.64754447],\n",
       "       [ 219.165418  ],\n",
       "       [ 210.02211821],\n",
       "       [ 188.11465986],\n",
       "       [ 183.69577934],\n",
       "       [ 135.09512337],\n",
       "       [ 118.31479499],\n",
       "       [ 111.24790125],\n",
       "       [ 111.66002279],\n",
       "       [ 114.9318986 ],\n",
       "       [  93.44132142],\n",
       "       [  87.24246026],\n",
       "       [ 129.3223238 ],\n",
       "       [ 137.82420754],\n",
       "       [ 150.91067012],\n",
       "       [ 152.18621999],\n",
       "       [ 152.80104724],\n",
       "       [ 153.61191698],\n",
       "       [ 149.72734963],\n",
       "       [ 147.80273256],\n",
       "       [ 124.86616194],\n",
       "       [ 112.68899509],\n",
       "       [ 107.38937444],\n",
       "       [ 108.06698052],\n",
       "       [ 107.85679342],\n",
       "       [ 119.47784578],\n",
       "       [ 122.00877731],\n",
       "       [ 122.84449728],\n",
       "       [ 133.14672834],\n",
       "       [ 144.93019836],\n",
       "       [ 135.88707438],\n",
       "       [ 137.16576407],\n",
       "       [ 134.26294365],\n",
       "       [ 131.75770862],\n",
       "       [ 139.05352514],\n",
       "       [ 138.89356001],\n",
       "       [ 136.03368191],\n",
       "       [ 134.27292962],\n",
       "       [ 139.0061754 ],\n",
       "       [ 162.82247671],\n",
       "       [ 166.03833999],\n",
       "       [ 160.08104874],\n",
       "       [ 172.65263141],\n",
       "       [ 168.64781432],\n",
       "       [ 155.218862  ],\n",
       "       [ 161.03184375],\n",
       "       [ 161.5323829 ],\n",
       "       [ 195.18546569],\n",
       "       [ 214.33358552],\n",
       "       [ 244.52910658],\n",
       "       [ 248.09291356],\n",
       "       [ 248.03994685],\n",
       "       [ 264.84704306],\n",
       "       [ 240.3250925 ],\n",
       "       [ 242.19595515],\n",
       "       [ 230.39914502],\n",
       "       [ 271.10785471],\n",
       "       [ 298.84008791],\n",
       "       [ 313.38818126],\n",
       "       [ 293.03831604],\n",
       "       [ 281.55006407],\n",
       "       [ 222.28866779],\n",
       "       [ 227.27059788],\n",
       "       [ 210.24158855],\n",
       "       [ 216.68364632],\n",
       "       [ 216.60233352],\n",
       "       [ 209.83170859],\n",
       "       [ 205.45669985],\n",
       "       [ 210.05819747],\n",
       "       [ 208.56258643],\n",
       "       [ 187.92884965],\n",
       "       [ 187.89020517],\n",
       "       [ 167.45945883],\n",
       "       [ 170.15032927],\n",
       "       [ 179.85238283],\n",
       "       [ 180.19401807],\n",
       "       [ 217.37728819],\n",
       "       [ 171.68009163],\n",
       "       [ 174.69457192],\n",
       "       [ 175.5601942 ],\n",
       "       [ 179.44829052],\n",
       "       [ 174.34649493],\n",
       "       [ 183.53773634],\n",
       "       [ 181.8304858 ],\n",
       "       [ 180.95558303],\n",
       "       [ 184.72400841],\n",
       "       [ 190.29462325],\n",
       "       [ 177.88208187],\n",
       "       [ 175.64269636],\n",
       "       [ 161.29181349],\n",
       "       [ 150.02155363],\n",
       "       [ 151.91555552],\n",
       "       [ 154.35774865],\n",
       "       [ 150.6948468 ],\n",
       "       [ 145.31754351],\n",
       "       [ 144.59488122],\n",
       "       [ 131.74466448],\n",
       "       [ 132.03111603],\n",
       "       [ 127.46161854],\n",
       "       [ 142.91192185],\n",
       "       [ 141.24783746],\n",
       "       [ 138.23185123],\n",
       "       [ 166.7917575 ],\n",
       "       [ 174.93283352],\n",
       "       [ 179.78382613],\n",
       "       [ 187.53533676],\n",
       "       [ 188.48946825],\n",
       "       [ 201.98809666],\n",
       "       [ 258.95076104],\n",
       "       [ 264.20949562],\n",
       "       [ 224.10833955],\n",
       "       [ 215.95219271],\n",
       "       [ 236.34378321],\n",
       "       [ 134.97066098],\n",
       "       [ 131.16963823],\n",
       "       [ 164.75683152],\n",
       "       [ 158.4015133 ],\n",
       "       [ 155.80819469],\n",
       "       [ 186.12407558],\n",
       "       [ 196.43209812],\n",
       "       [ 205.60142815],\n",
       "       [ 188.66219765],\n",
       "       [ 187.75091601],\n",
       "       [ 199.32465574],\n",
       "       [ 230.37872848],\n",
       "       [ 230.09294014],\n",
       "       [ 234.16941867],\n",
       "       [ 231.63333191],\n",
       "       [ 224.22366091],\n",
       "       [ 226.02671637],\n",
       "       [ 237.99017978],\n",
       "       [ 238.80812002],\n",
       "       [ 231.17069962],\n",
       "       [ 260.53961923],\n",
       "       [ 308.41024015],\n",
       "       [ 395.76015308],\n",
       "       [ 391.0688868 ],\n",
       "       [ 386.07949382],\n",
       "       [ 401.50374701],\n",
       "       [ 394.18867772],\n",
       "       [ 422.60700742],\n",
       "       [ 331.56090491],\n",
       "       [ 383.93914329],\n",
       "       [ 373.25974496],\n",
       "       [ 361.0261451 ],\n",
       "       [ 382.16497512],\n",
       "       [ 338.92503522],\n",
       "       [ 340.03133946],\n",
       "       [ 342.76790648],\n",
       "       [ 350.60683492],\n",
       "       [ 356.01059374],\n",
       "       [ 356.21252844],\n",
       "       [ 342.26423519],\n",
       "       [ 349.81065853],\n",
       "       [ 338.56999755],\n",
       "       [ 338.47305561],\n",
       "       [ 375.53690492],\n",
       "       [ 364.25179771],\n",
       "       [ 398.24741763],\n",
       "       [ 383.10464052],\n",
       "       [ 378.58185727],\n",
       "       [ 449.91045082],\n",
       "       [ 440.52115562],\n",
       "       [ 467.55978776],\n",
       "       [ 502.08015382],\n",
       "       [ 599.38349976],\n",
       "       [ 606.95302824],\n",
       "       [ 564.48918539],\n",
       "       [ 579.70576171],\n",
       "       [ 761.19392428],\n",
       "       [1237.66528413],\n",
       "       [1212.74499948],\n",
       "       [1340.45760233],\n",
       "       [1357.21613947],\n",
       "       [1205.51600648],\n",
       "       [1307.80058239],\n",
       "       [1348.90709455],\n",
       "       [1584.01546375],\n",
       "       [1656.51948137],\n",
       "       [1717.02435407],\n",
       "       [1754.49279953],\n",
       "       [1815.95979335],\n",
       "       [1759.69910281],\n",
       "       [1823.72826897],\n",
       "       [1780.53380632],\n",
       "       [1757.1307167 ],\n",
       "       [1558.87239647],\n",
       "       [1683.20504326],\n",
       "       [2047.5204879 ],\n",
       "       [2073.70206322],\n",
       "       [2077.8613295 ],\n",
       "       [2041.93786119],\n",
       "       [2386.43202535],\n",
       "       [2712.2329706 ],\n",
       "       [2726.07099297],\n",
       "       [2735.92679616],\n",
       "       [3207.30216257],\n",
       "       [3446.06877228],\n",
       "       [3898.59972071],\n",
       "       [3245.42373932],\n",
       "       [2448.24028164],\n",
       "       [2323.77622155],\n",
       "       [2599.03979826],\n",
       "       [2662.4771296 ],\n",
       "       [2560.77239329],\n",
       "       [2336.87625346],\n",
       "       [2198.23528977],\n",
       "       [1872.73308723],\n",
       "       [1935.5432415 ],\n",
       "       [2040.58421291],\n",
       "       [2124.77957179],\n",
       "       [2284.46411157],\n",
       "       [2099.88748927],\n",
       "       [1867.91314104],\n",
       "       [1988.13413414],\n",
       "       [2267.03052223],\n",
       "       [2421.04529826],\n",
       "       [3113.77351691],\n",
       "       [3212.07534996],\n",
       "       [2972.74520114],\n",
       "       [3195.76656537],\n",
       "       [3050.24174103],\n",
       "       [3360.17996131],\n",
       "       [3158.06222605],\n",
       "       [2995.96684629],\n",
       "       [2773.97976145],\n",
       "       [3455.08007207],\n",
       "       [3534.0257729 ],\n",
       "       [3477.14892865],\n",
       "       [3930.05994617],\n",
       "       [4016.30969657],\n",
       "       [4554.70975022],\n",
       "       [4202.61779094],\n",
       "       [4251.37439182],\n",
       "       [4172.29997073],\n",
       "       [4030.51508176],\n",
       "       [4002.98988206],\n",
       "       [3634.46480805],\n",
       "       [3360.05079414],\n",
       "       [3026.26697158],\n",
       "       [3261.3307727 ],\n",
       "       [3271.7581585 ],\n",
       "       [2418.94717619],\n",
       "       [2386.5450879 ],\n",
       "       [2927.61903962],\n",
       "       [3071.59662605],\n",
       "       [3189.30940113],\n",
       "       [2873.64584445],\n",
       "       [2714.0613571 ],\n",
       "       [2920.33738293],\n",
       "       [2614.95787707],\n",
       "       [2575.48019696],\n",
       "       [2982.17107117],\n",
       "       [3061.204681  ],\n",
       "       [3097.9576667 ],\n",
       "       [3279.53506195],\n",
       "       [3340.04471275],\n",
       "       [3363.26616746],\n",
       "       [3052.59476147],\n",
       "       [2777.22257185],\n",
       "       [2882.94444732],\n",
       "       [2802.17411417],\n",
       "       [2104.23841913],\n",
       "       [1956.47440604],\n",
       "       [1919.29212952],\n",
       "       [1827.18284837],\n",
       "       [1768.216189  ],\n",
       "       [1643.61996033],\n",
       "       [1197.29540237],\n",
       "       [1056.56923278],\n",
       "       [1098.36530767],\n",
       "       [1224.37350393],\n",
       "       [1048.60247236],\n",
       "       [1025.63757463],\n",
       "       [1547.71317037],\n",
       "       [1555.029778  ],\n",
       "       [1570.7658214 ],\n",
       "       [1428.86273746],\n",
       "       [1703.67188666],\n",
       "       [1604.66470243],\n",
       "       [1680.79967218],\n",
       "       [1849.68989608],\n",
       "       [1912.96528699],\n",
       "       [1815.31522244],\n",
       "       [1597.90521714],\n",
       "       [1638.19516145],\n",
       "       [1633.93413975],\n",
       "       [1668.82697119],\n",
       "       [1531.63603952],\n",
       "       [1589.90681576],\n",
       "       [1539.80685823],\n",
       "       [1603.03366525],\n",
       "       [1698.7238    ],\n",
       "       [1454.37384629],\n",
       "       [1352.80039417],\n",
       "       [1302.83501003],\n",
       "       [1298.99206025],\n",
       "       [1317.23069003],\n",
       "       [1273.43516549],\n",
       "       [1269.96662155],\n",
       "       [1432.88989669],\n",
       "       [1497.88906934],\n",
       "       [1506.82554703],\n",
       "       [1553.55577097],\n",
       "       [1099.70812465],\n",
       "       [1257.73275827],\n",
       "       [1212.31558536],\n",
       "       [1185.07842426],\n",
       "       [1251.55946659],\n",
       "       [1244.61252681],\n",
       "       [1245.749619  ],\n",
       "       [1194.9514739 ],\n",
       "       [1181.17559633],\n",
       "       [1546.36675202],\n",
       "       [1493.44204099],\n",
       "       [1536.19850617],\n",
       "       [1483.27116558],\n",
       "       [1656.13978991],\n",
       "       [1677.81286538],\n",
       "       [1637.07164237],\n",
       "       [1619.95357319],\n",
       "       [1622.8652482 ],\n",
       "       [1537.55253145],\n",
       "       [1422.02774652],\n",
       "       [1678.040687  ],\n",
       "       [1635.79128177],\n",
       "       [1651.08279992],\n",
       "       [1690.66519063],\n",
       "       [1782.85559012],\n",
       "       [1839.43736794],\n",
       "       [2090.99117767],\n",
       "       [1838.37867447],\n",
       "       [1957.8982643 ],\n",
       "       [1814.11235818],\n",
       "       [1766.64277313],\n",
       "       [1713.1404974 ],\n",
       "       [1710.93460931],\n",
       "       [1698.63837863],\n",
       "       [1697.96313347],\n",
       "       [1850.22796483],\n",
       "       [1833.31247742],\n",
       "       [1803.52968675],\n",
       "       [1822.01081774],\n",
       "       [1911.10706848],\n",
       "       [1926.92153599],\n",
       "       [1839.01878961],\n",
       "       [1868.59263497],\n",
       "       [1862.06853307],\n",
       "       [1828.85147551],\n",
       "       [1851.48219071],\n",
       "       [1781.59151688],\n",
       "       [1663.84770895],\n",
       "       [1635.48815295],\n",
       "       [1532.43632568],\n",
       "       [1565.5228829 ],\n",
       "       [1600.18451293],\n",
       "       [1617.6280623 ],\n",
       "       [1599.39131611],\n",
       "       [1567.90224277],\n",
       "       [1564.31870853],\n",
       "       [1617.43697896]])"
      ]
     },
     "execution_count": 221,
     "metadata": {},
     "output_type": "execute_result"
    }
   ],
   "source": [
    "predict = scaler.inverse_transform(predict)[:]\n",
    "predict"
   ]
  },
  {
   "cell_type": "code",
   "execution_count": 222,
   "metadata": {},
   "outputs": [
    {
     "data": {
      "text/plain": [
       "array([[ 327.24],\n",
       "       [ 330.79],\n",
       "       [ 293.5 ],\n",
       "       [ 293.96],\n",
       "       [ 253.  ],\n",
       "       [ 294.57],\n",
       "       [ 294.42],\n",
       "       [ 292.22],\n",
       "       [ 304.36],\n",
       "       [ 298.64],\n",
       "       [ 304.01],\n",
       "       [ 337.96],\n",
       "       [ 293.79],\n",
       "       [ 297.38],\n",
       "       [ 294.49],\n",
       "       [ 294.71],\n",
       "       [ 297.97],\n",
       "       [ 354.15],\n",
       "       [ 472.31],\n",
       "       [ 457.63],\n",
       "       [ 442.54],\n",
       "       [ 679.87],\n",
       "       [ 640.34],\n",
       "       [ 855.28],\n",
       "       [ 940.  ],\n",
       "       [1133.18],\n",
       "       [1291.  ],\n",
       "       [1271.  ],\n",
       "       [1061.  ],\n",
       "       [ 841.19],\n",
       "       [ 608.83],\n",
       "       [ 556.88],\n",
       "       [ 381.22],\n",
       "       [ 533.88],\n",
       "       [ 617.09],\n",
       "       [ 690.85],\n",
       "       [ 670.78],\n",
       "       [ 779.  ],\n",
       "       [ 751.75],\n",
       "       [ 676.96],\n",
       "       [ 697.  ],\n",
       "       [ 716.16],\n",
       "       [ 640.99],\n",
       "       [ 586.  ],\n",
       "       [ 557.19],\n",
       "       [ 577.81],\n",
       "       [ 609.05],\n",
       "       [ 607.4 ],\n",
       "       [ 605.16],\n",
       "       [ 598.68],\n",
       "       [ 536.49],\n",
       "       [ 473.41],\n",
       "       [ 454.41],\n",
       "       [ 434.77],\n",
       "       [ 467.38],\n",
       "       [ 467.87],\n",
       "       [ 486.77],\n",
       "       [ 471.71],\n",
       "       [ 432.48],\n",
       "       [ 431.14],\n",
       "       [ 432.46],\n",
       "       [ 478.49],\n",
       "       [ 460.23],\n",
       "       [ 450.05],\n",
       "       [ 479.28],\n",
       "       [ 472.1 ],\n",
       "       [ 462.64],\n",
       "       [ 470.09],\n",
       "       [ 420.41],\n",
       "       [ 410.62],\n",
       "       [ 407.21],\n",
       "       [ 317.51],\n",
       "       [ 275.99],\n",
       "       [ 274.29],\n",
       "       [ 197.15],\n",
       "       [ 210.68],\n",
       "       [ 241.01],\n",
       "       [ 244.5 ],\n",
       "       [ 207.49],\n",
       "       [ 203.93],\n",
       "       [ 202.35],\n",
       "       [ 219.07],\n",
       "       [ 213.25],\n",
       "       [ 184.35],\n",
       "       [ 176.89],\n",
       "       [ 138.23],\n",
       "       [ 110.68],\n",
       "       [ 111.43],\n",
       "       [ 122.9 ],\n",
       "       [ 118.1 ],\n",
       "       [  90.38],\n",
       "       [  83.82],\n",
       "       [ 129.35],\n",
       "       [ 131.45],\n",
       "       [ 146.3 ],\n",
       "       [ 152.83],\n",
       "       [ 153.86],\n",
       "       [ 149.34],\n",
       "       [ 147.6 ],\n",
       "       [ 124.95],\n",
       "       [ 123.35],\n",
       "       [ 105.5 ],\n",
       "       [ 110.42],\n",
       "       [ 107.68],\n",
       "       [ 104.5 ],\n",
       "       [ 125.12],\n",
       "       [ 122.41],\n",
       "       [ 121.86],\n",
       "       [ 145.69],\n",
       "       [ 143.44],\n",
       "       [ 137.4 ],\n",
       "       [ 136.81],\n",
       "       [ 137.27],\n",
       "       [ 132.2 ],\n",
       "       [ 137.59],\n",
       "       [ 134.85],\n",
       "       [ 137.28],\n",
       "       [ 139.45],\n",
       "       [ 137.86],\n",
       "       [ 162.99],\n",
       "       [ 159.95],\n",
       "       [ 165.37],\n",
       "       [ 168.59],\n",
       "       [ 170.52],\n",
       "       [ 161.83],\n",
       "       [ 160.19],\n",
       "       [ 168.06],\n",
       "       [ 216.4 ],\n",
       "       [ 248.1 ],\n",
       "       [ 264.25],\n",
       "       [ 253.43],\n",
       "       [ 264.45],\n",
       "       [ 264.33],\n",
       "       [ 245.63],\n",
       "       [ 230.98],\n",
       "       [ 246.51],\n",
       "       [ 264.66],\n",
       "       [ 311.05],\n",
       "       [ 292.7 ],\n",
       "       [ 291.48],\n",
       "       [ 287.47],\n",
       "       [ 220.73],\n",
       "       [ 225.38],\n",
       "       [ 210.89],\n",
       "       [ 216.84],\n",
       "       [ 222.14],\n",
       "       [ 206.48],\n",
       "       [ 216.42],\n",
       "       [ 209.3 ],\n",
       "       [ 187.1 ],\n",
       "       [ 188.03],\n",
       "       [ 190.35],\n",
       "       [ 171.57],\n",
       "       [ 178.05],\n",
       "       [ 180.95],\n",
       "       [ 188.13],\n",
       "       [ 215.05],\n",
       "       [ 173.49],\n",
       "       [ 175.55],\n",
       "       [ 170.1 ],\n",
       "       [ 180.99],\n",
       "       [ 173.98],\n",
       "       [ 181.72],\n",
       "       [ 190.46],\n",
       "       [ 185.71],\n",
       "       [ 188.68],\n",
       "       [ 186.68],\n",
       "       [ 175.94],\n",
       "       [ 174.72],\n",
       "       [ 149.56],\n",
       "       [ 151.84],\n",
       "       [ 150.72],\n",
       "       [ 151.37],\n",
       "       [ 148.65],\n",
       "       [ 148.1 ],\n",
       "       [ 141.79],\n",
       "       [ 127.8 ],\n",
       "       [ 129.16],\n",
       "       [ 134.35],\n",
       "       [ 140.72],\n",
       "       [ 137.74],\n",
       "       [ 144.84],\n",
       "       [ 169.49],\n",
       "       [ 173.72],\n",
       "       [ 183.6 ],\n",
       "       [ 189.69],\n",
       "       [ 203.78],\n",
       "       [ 213.19],\n",
       "       [ 274.48],\n",
       "       [ 246.67],\n",
       "       [ 227.79],\n",
       "       [ 217.81],\n",
       "       [ 199.43],\n",
       "       [ 138.42],\n",
       "       [ 124.5 ],\n",
       "       [ 173.11],\n",
       "       [ 158.33],\n",
       "       [ 158.45],\n",
       "       [ 180.03],\n",
       "       [ 196.34],\n",
       "       [ 212.02],\n",
       "       [ 185.73],\n",
       "       [ 199.58],\n",
       "       [ 204.15],\n",
       "       [ 230.86],\n",
       "       [ 229.  ],\n",
       "       [ 232.5 ],\n",
       "       [ 229.64],\n",
       "       [ 230.99],\n",
       "       [ 241.6 ],\n",
       "       [ 240.44],\n",
       "       [ 238.61],\n",
       "       [ 235.67],\n",
       "       [ 275.3 ],\n",
       "       [ 321.93],\n",
       "       [ 394.77],\n",
       "       [ 379.  ],\n",
       "       [ 407.68],\n",
       "       [ 382.93],\n",
       "       [ 428.94],\n",
       "       [ 433.79],\n",
       "       [ 352.8 ],\n",
       "       [ 366.42],\n",
       "       [ 364.06],\n",
       "       [ 389.36],\n",
       "       [ 371.04],\n",
       "       [ 344.21],\n",
       "       [ 320.72],\n",
       "       [ 351.92],\n",
       "       [ 357.49],\n",
       "       [ 359.83],\n",
       "       [ 352.85],\n",
       "       [ 352.37],\n",
       "       [ 340.75],\n",
       "       [ 341.58],\n",
       "       [ 350.95],\n",
       "       [ 377.64],\n",
       "       [ 378.11],\n",
       "       [ 388.23],\n",
       "       [ 382.49],\n",
       "       [ 386.46],\n",
       "       [ 444.32],\n",
       "       [ 450.34],\n",
       "       [ 510.12],\n",
       "       [ 552.35],\n",
       "       [ 569.5 ],\n",
       "       [ 585.26],\n",
       "       [ 558.99],\n",
       "       [ 612.31],\n",
       "       [ 978.28],\n",
       "       [1087.01],\n",
       "       [1232.45],\n",
       "       [1376.99],\n",
       "       [1110.96],\n",
       "       [1392.51],\n",
       "       [1365.97],\n",
       "       [1239.03],\n",
       "       [1719.19],\n",
       "       [1611.62],\n",
       "       [1769.13],\n",
       "       [1781.99],\n",
       "       [1939.61],\n",
       "       [1577.89],\n",
       "       [1793.48],\n",
       "       [1806.1 ],\n",
       "       [1680.97],\n",
       "       [1585.74],\n",
       "       [1687.01],\n",
       "       [2107.38],\n",
       "       [2112.21],\n",
       "       [1963.47],\n",
       "       [2066.87],\n",
       "       [2514.04],\n",
       "       [2757.04],\n",
       "       [2772.42],\n",
       "       [2944.77],\n",
       "       [3524.26],\n",
       "       [3479.53],\n",
       "       [4173.45],\n",
       "       [3375.07],\n",
       "       [2768.62],\n",
       "       [2706.15],\n",
       "       [2711.92],\n",
       "       [2592.05],\n",
       "       [2471.09],\n",
       "       [2234.09],\n",
       "       [1885.49],\n",
       "       [1879.28],\n",
       "       [2084.41],\n",
       "       [2165.33],\n",
       "       [2226.99],\n",
       "       [2316.57],\n",
       "       [2031.58],\n",
       "       [1891.64],\n",
       "       [2124.25],\n",
       "       [2382.92],\n",
       "       [2531.05],\n",
       "       [3141.66],\n",
       "       [3307.09],\n",
       "       [3014.55],\n",
       "       [3321.28],\n",
       "       [3273.45],\n",
       "       [3826.82],\n",
       "       [3267.21],\n",
       "       [2925.59],\n",
       "       [2850.45],\n",
       "       [3574.89],\n",
       "       [3563.13],\n",
       "       [3491.46],\n",
       "       [4167.12],\n",
       "       [4220.37],\n",
       "       [4563.78],\n",
       "       [4085.97],\n",
       "       [4269.36],\n",
       "       [4117.25],\n",
       "       [4063.56],\n",
       "       [4037.23],\n",
       "       [3676.23],\n",
       "       [3199.24],\n",
       "       [3151.97],\n",
       "       [3326.04],\n",
       "       [3346.88],\n",
       "       [2462.99],\n",
       "       [2544.99],\n",
       "       [3012.65],\n",
       "       [3243.94],\n",
       "       [3072.49],\n",
       "       [2779.48],\n",
       "       [2779.47],\n",
       "       [2947.3 ],\n",
       "       [2551.29],\n",
       "       [2556.86],\n",
       "       [3110.76],\n",
       "       [3102.14],\n",
       "       [3295.65],\n",
       "       [3400.51],\n",
       "       [3281.51],\n",
       "       [3168.51],\n",
       "       [3021.98],\n",
       "       [2888.96],\n",
       "       [2817.13],\n",
       "       [2781.7 ],\n",
       "       [2023.66],\n",
       "       [1941.9 ],\n",
       "       [1817.95],\n",
       "       [1813.33],\n",
       "       [1788.81],\n",
       "       [1532.89],\n",
       "       [1208.9 ],\n",
       "       [1086.94],\n",
       "       [1128.24],\n",
       "       [1197.79],\n",
       "       [1074.26],\n",
       "       [1115.  ],\n",
       "       [1542.32],\n",
       "       [1535.27],\n",
       "       [1440.79],\n",
       "       [1449.12],\n",
       "       [1697.  ],\n",
       "       [1618.16],\n",
       "       [1853.57],\n",
       "       [1958.28],\n",
       "       [1899.06],\n",
       "       [1609.01],\n",
       "       [1576.04],\n",
       "       [1656.56],\n",
       "       [1695.11],\n",
       "       [1508.18],\n",
       "       [1586.16],\n",
       "       [1559.01],\n",
       "       [1630.  ],\n",
       "       [1635.37],\n",
       "       [1574.4 ],\n",
       "       [1433.9 ],\n",
       "       [1322.93],\n",
       "       [1245.78],\n",
       "       [1294.63],\n",
       "       [1328.72],\n",
       "       [1287.08],\n",
       "       [1282.57],\n",
       "       [1566.1 ],\n",
       "       [1531.01],\n",
       "       [1644.78],\n",
       "       [1568.1 ],\n",
       "       [1299.28],\n",
       "       [1289.28],\n",
       "       [1243.28],\n",
       "       [1205.6 ],\n",
       "       [1231.18],\n",
       "       [1266.35],\n",
       "       [1275.4 ],\n",
       "       [1190.15],\n",
       "       [1196.13],\n",
       "       [1511.43],\n",
       "       [1551.09],\n",
       "       [1611.94],\n",
       "       [1555.71],\n",
       "       [1703.27],\n",
       "       [1659.76],\n",
       "       [1643.14],\n",
       "       [1650.53],\n",
       "       [1569.45],\n",
       "       [1565.84],\n",
       "       [1426.44],\n",
       "       [1649.96],\n",
       "       [1673.73],\n",
       "       [1789.27],\n",
       "       [1772.99],\n",
       "       [1870.37],\n",
       "       [1848.82],\n",
       "       [2074.  ],\n",
       "       [1862.  ],\n",
       "       [1896.33],\n",
       "       [1840.84],\n",
       "       [1799.21],\n",
       "       [1740.12],\n",
       "       [1650.95],\n",
       "       [1720.95],\n",
       "       [1737.11],\n",
       "       [1898.8 ],\n",
       "       [1889.58],\n",
       "       [1851.99],\n",
       "       [1933.79],\n",
       "       [1955.54],\n",
       "       [1936.2 ],\n",
       "       [1865.24],\n",
       "       [1888.63],\n",
       "       [1866.52],\n",
       "       [1872.  ],\n",
       "       [1861.79],\n",
       "       [1681.49],\n",
       "       [1661.59],\n",
       "       [1653.8 ],\n",
       "       [1592.97],\n",
       "       [1607.62],\n",
       "       [1641.29],\n",
       "       [1634.4 ],\n",
       "       [1583.94],\n",
       "       [1593.86],\n",
       "       [1594.01],\n",
       "       [1633.57]])"
      ]
     },
     "execution_count": 222,
     "metadata": {},
     "output_type": "execute_result"
    }
   ],
   "source": [
    "test_y = scaler.inverse_transform(test_y)[:]\n",
    "test_y"
   ]
  },
  {
   "cell_type": "code",
   "execution_count": 223,
   "metadata": {},
   "outputs": [
    {
     "data": {
      "text/plain": [
       "(441, 1)"
      ]
     },
     "execution_count": 223,
     "metadata": {},
     "output_type": "execute_result"
    }
   ],
   "source": [
    "predict.shape"
   ]
  },
  {
   "cell_type": "markdown",
   "metadata": {},
   "source": [
    "### plotting"
   ]
  },
  {
   "cell_type": "code",
   "execution_count": 224,
   "metadata": {
    "scrolled": false
   },
   "outputs": [
    {
     "data": {
      "image/png": "[encoded data removed]",
      "text/plain": [
       "<Figure size 640x480 with 1 Axes>"
      ]
     },
     "metadata": {},
     "output_type": "display_data"
    }
   ],
   "source": [
    "fig = plt.figure()\n",
    "ax = fig.add_subplot(111)\n",
    "ax.plot(predict,'-b')\n",
    "ax.plot(test_y,'-r')\n",
    "plt.show()"
   ]
  },
  {
   "cell_type": "markdown",
   "metadata": {},
   "source": [
    "### final testing "
   ]
  },
  {
   "cell_type": "code",
   "execution_count": 225,
   "metadata": {},
   "outputs": [
    {
     "data": {
      "text/plain": [
       "(5, 1)"
      ]
     },
     "execution_count": 225,
     "metadata": {},
     "output_type": "execute_result"
    }
   ],
   "source": [
    "test_norm = np.array([495.67\n",
    ",495.11\n",
    ",502.68\n",
    ",533.88\n",
    ",511.46\n",
    "\n",
    "])\n",
    "test_norm = test_norm.astype('float128')\n",
    "test_norm = test_norm.reshape(-1,1)\n",
    "test_norm.shape"
   ]
  },
  {
   "cell_type": "code",
   "execution_count": 226,
   "metadata": {},
   "outputs": [
    {
     "name": "stdout",
     "output_type": "stream",
     "text": [
      "[[0.01444416 0.         0.19525406 1.         0.42171782]] \n",
      "\n",
      "(1, 5)\n"
     ]
    }
   ],
   "source": [
    "scaler_ = MinMaxScaler(feature_range = (0,1))\n",
    "test_norm = scaler_.fit_transform(test_norm).reshape(1,5)\n",
    "print(test_norm[:5],'\\n')\n",
    "print(test_norm.shape)"
   ]
  },
  {
   "cell_type": "code",
   "execution_count": 227,
   "metadata": {},
   "outputs": [
    {
     "data": {
      "text/plain": [
       "(1, 1)"
      ]
     },
     "execution_count": 227,
     "metadata": {},
     "output_type": "execute_result"
    }
   ],
   "source": [
    "_new = regr.predict(test_norm)\n",
    "_new.shape"
   ]
  },
  {
   "cell_type": "code",
   "execution_count": 228,
   "metadata": {},
   "outputs": [
    {
     "data": {
      "text/plain": [
       "array([0.01444416, 0.        , 0.19525406, 1.        , 0.42171782,\n",
       "       0.46821835])"
      ]
     },
     "execution_count": 228,
     "metadata": {},
     "output_type": "execute_result"
    }
   ],
   "source": [
    "z_norm = np.append(test_norm,_new)\n",
    "z_norm"
   ]
  },
  {
   "cell_type": "markdown",
   "metadata": {},
   "source": [
    "### final plot"
   ]
  },
  {
   "cell_type": "code",
   "execution_count": 229,
   "metadata": {},
   "outputs": [
    {
     "data": {
      "image/png": "[encoded data removed]",
      "text/plain": [
       "<Figure size 640x480 with 1 Axes>"
      ]
     },
     "metadata": {},
     "output_type": "display_data"
    }
   ],
   "source": [
    "import matplotlib.pyplot as plt\n",
    "import numpy as np\n",
    "\n",
    "\n",
    "xx = np.arange(len(z_norm))\n",
    "\n",
    "colors = ['b'] * (len(z_norm) - 1) + ['r']\n",
    "\n",
    "plt.scatter(xx[:-1], z_norm[:-1], c=colors[:-1], label='z')\n",
    "plt.scatter(xx[-1], z_norm[-1], c=colors[-1], label='final point', marker='o', edgecolors='r')\n",
    "\n",
    "plt.plot(xx[:-1], z_norm[:-1], linestyle='-', color='b')\n",
    "plt.plot(xx[-2:], z_norm[-2:], linestyle='-', color='r')  \n",
    "plt.legend()\n",
    "plt.show()\n"
   ]
  },
  {
   "cell_type": "markdown",
   "metadata": {},
   "source": [
    "inverse_transform"
   ]
  },
  {
   "cell_type": "code",
   "execution_count": 230,
   "metadata": {},
   "outputs": [],
   "source": [
    "x = scaler.inverse_transform(test_norm)"
   ]
  },
  {
   "cell_type": "code",
   "execution_count": 231,
   "metadata": {},
   "outputs": [],
   "source": [
    "y = scaler.inverse_transform(_new)"
   ]
  },
  {
   "cell_type": "code",
   "execution_count": 232,
   "metadata": {},
   "outputs": [
    {
     "data": {
      "text/plain": [
       "array([[2181.4194735]])"
      ]
     },
     "execution_count": 232,
     "metadata": {},
     "output_type": "execute_result"
    }
   ],
   "source": [
    "y"
   ]
  },
  {
   "cell_type": "code",
   "execution_count": 233,
   "metadata": {},
   "outputs": [
    {
     "data": {
      "text/plain": [
       "array([ 148.52924942,   83.82      ,  958.55038948, 4563.78      ,\n",
       "       1973.09897859, 2181.4194735 ])"
      ]
     },
     "execution_count": 233,
     "metadata": {},
     "output_type": "execute_result"
    }
   ],
   "source": [
    "z = np.append(x,y)\n",
    "z"
   ]
  },
  {
   "cell_type": "markdown",
   "metadata": {},
   "source": [
    "### final plot"
   ]
  },
  {
   "cell_type": "code",
   "execution_count": 234,
   "metadata": {},
   "outputs": [
    {
     "data": {
      "image/png": "[encoded data removed]",
      "text/plain": [
       "<Figure size 640x480 with 1 Axes>"
      ]
     },
     "metadata": {},
     "output_type": "display_data"
    }
   ],
   "source": [
    "import matplotlib.pyplot as plt\n",
    "import numpy as np\n",
    "\n",
    "\n",
    "x = np.arange(len(z))\n",
    "\n",
    "colors = ['b'] * (len(z) - 1) + ['r']\n",
    "\n",
    "plt.scatter(x[:-1], z[:-1], c=colors[:-1], label='z')\n",
    "plt.scatter(x[-1], z[-1], c=colors[-1], label='final point', marker='o', edgecolors='r')\n",
    "\n",
    "plt.plot(x[:-1], z[:-1], linestyle='-', color='b')\n",
    "plt.plot(x[-2:], z[-2:], linestyle='-', color='r')\n",
    "plt.legend()\n",
    "plt.show()\n"
   ]
  },
  {
   "cell_type": "markdown",
   "metadata": {},
   "source": [
    "### extracting model"
   ]
  },
  {
   "cell_type": "code",
   "execution_count": 235,
   "metadata": {},
   "outputs": [
    {
     "data": {
      "text/plain": [
       "['model.pkl']"
      ]
     },
     "execution_count": 235,
     "metadata": {},
     "output_type": "execute_result"
    }
   ],
   "source": [
    "model = joblib.dump(regr, 'model.pkl')\n",
    "model"
   ]
  },
  {
   "cell_type": "code",
   "execution_count": 236,
   "metadata": {},
   "outputs": [
    {
     "name": "stdout",
     "output_type": "stream",
     "text": [
      "Coefficients:  [[-0.03465825 -0.0057721   0.03924947  0.06787614  0.93051616]]\n",
      "Intercept:  [0.00076395]\n"
     ]
    }
   ],
   "source": [
    "loaded_model = joblib.load('model.pkl')\n",
    "\n",
    "print('Coefficients: ', loaded_model.coef_)\n",
    "print ('Intercept: ',loaded_model.intercept_)"
   ]
  }
 ],
 "metadata": {
  "kernelspec": {
   "display_name": "Python 3 (ipykernel)",
   "language": "python",
   "name": "python3"
  },
  "language_info": {
   "codemirror_mode": {
    "name": "ipython",
    "version": 3
   },
   "file_extension": ".py",
   "mimetype": "text/x-python",
   "name": "python",
   "nbconvert_exporter": "python",
   "pygments_lexer": "ipython3",
   "version": "3.8.10"
  },
  "widgets": {
   "state": {},
   "version": "1.1.2"
  }
 },
 "nbformat": 4,
 "nbformat_minor": 2
}
