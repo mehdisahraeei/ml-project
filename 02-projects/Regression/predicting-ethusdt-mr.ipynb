{
 "cells": [
  {
   "cell_type": "markdown",
   "metadata": {
    "button": false,
    "new_sheet": false,
    "run_control": {
     "read_only": false
    }
   },
   "source": [
    "## multiple Linear Regression\n",
    "- developer: mehdi sahraei\n",
    "- [link github](https://github.com/mehdisahraeei)"
   ]
  },
  {
   "cell_type": "markdown",
   "metadata": {
    "button": false,
    "new_sheet": false,
    "run_control": {
     "read_only": false
    }
   },
   "source": [
    "### Importing Needed packages\n"
   ]
  },
  {
   "cell_type": "code",
   "execution_count": 436,
   "metadata": {
    "button": false,
    "new_sheet": false,
    "run_control": {
     "read_only": false
    }
   },
   "outputs": [],
   "source": [
    "import joblib\n",
    "from sklearn import linear_model\n",
    "from sklearn.metrics import r2_score\n",
    "from sklearn.preprocessing import MinMaxScaler\n",
    "import matplotlib.pyplot as plt\n",
    "import pandas as pd\n",
    "import pylab as pl\n",
    "import numpy as np\n",
    "%matplotlib inline"
   ]
  },
  {
   "cell_type": "markdown",
   "metadata": {
    "button": false,
    "new_sheet": false,
    "run_control": {
     "read_only": false
    }
   },
   "source": [
    "### Reading the data with pandas\n",
    "- taking a look at the dataset and analyzing data"
   ]
  },
  {
   "cell_type": "code",
   "execution_count": 19,
   "metadata": {
    "button": false,
    "new_sheet": false,
    "run_control": {
     "read_only": false
    }
   },
   "outputs": [
    {
     "data": {
      "text/html": [
       "<div>\n",
       "<style scoped>\n",
       "    .dataframe tbody tr th:only-of-type {\n",
       "        vertical-align: middle;\n",
       "    }\n",
       "\n",
       "    .dataframe tbody tr th {\n",
       "        vertical-align: top;\n",
       "    }\n",
       "\n",
       "    .dataframe thead th {\n",
       "        text-align: right;\n",
       "    }\n",
       "</style>\n",
       "<table border=\"1\" class=\"dataframe\">\n",
       "  <thead>\n",
       "    <tr style=\"text-align: right;\">\n",
       "      <th></th>\n",
       "      <th>Unnamed: 0</th>\n",
       "      <th>x1</th>\n",
       "      <th>x2</th>\n",
       "      <th>x3</th>\n",
       "      <th>x4</th>\n",
       "      <th>x5</th>\n",
       "      <th>y</th>\n",
       "    </tr>\n",
       "  </thead>\n",
       "  <tbody>\n",
       "    <tr>\n",
       "      <th>0</th>\n",
       "      <td>0</td>\n",
       "      <td>302.00</td>\n",
       "      <td>293.96</td>\n",
       "      <td>290.91</td>\n",
       "      <td>299.10</td>\n",
       "      <td>323.29</td>\n",
       "      <td>309.80</td>\n",
       "    </tr>\n",
       "    <tr>\n",
       "      <th>1</th>\n",
       "      <td>1</td>\n",
       "      <td>293.96</td>\n",
       "      <td>290.91</td>\n",
       "      <td>299.10</td>\n",
       "      <td>323.29</td>\n",
       "      <td>309.80</td>\n",
       "      <td>315.74</td>\n",
       "    </tr>\n",
       "    <tr>\n",
       "      <th>2</th>\n",
       "      <td>2</td>\n",
       "      <td>290.91</td>\n",
       "      <td>299.10</td>\n",
       "      <td>323.29</td>\n",
       "      <td>309.80</td>\n",
       "      <td>315.74</td>\n",
       "      <td>323.42</td>\n",
       "    </tr>\n",
       "    <tr>\n",
       "      <th>3</th>\n",
       "      <td>3</td>\n",
       "      <td>299.10</td>\n",
       "      <td>323.29</td>\n",
       "      <td>309.80</td>\n",
       "      <td>315.74</td>\n",
       "      <td>323.42</td>\n",
       "      <td>327.24</td>\n",
       "    </tr>\n",
       "    <tr>\n",
       "      <th>4</th>\n",
       "      <td>4</td>\n",
       "      <td>323.29</td>\n",
       "      <td>309.80</td>\n",
       "      <td>315.74</td>\n",
       "      <td>323.42</td>\n",
       "      <td>327.24</td>\n",
       "      <td>330.79</td>\n",
       "    </tr>\n",
       "  </tbody>\n",
       "</table>\n",
       "</div>"
      ],
      "text/plain": [
       "   Unnamed: 0      x1      x2      x3      x4      x5       y\n",
       "0           0  302.00  293.96  290.91  299.10  323.29  309.80\n",
       "1           1  293.96  290.91  299.10  323.29  309.80  315.74\n",
       "2           2  290.91  299.10  323.29  309.80  315.74  323.42\n",
       "3           3  299.10  323.29  309.80  315.74  323.42  327.24\n",
       "4           4  323.29  309.80  315.74  323.42  327.24  330.79"
      ]
     },
     "execution_count": 19,
     "metadata": {},
     "output_type": "execute_result"
    }
   ],
   "source": [
    "df = pd.read_csv(\"split_with_timestep.csv\")\n",
    "\n",
    "df.head() #View the beginning of the data\n",
    "#tail is used for Viewing the end of the data"
   ]
  },
  {
   "cell_type": "markdown",
   "metadata": {},
   "source": [
    "### Data Exploration"
   ]
  },
  {
   "cell_type": "code",
   "execution_count": 20,
   "metadata": {},
   "outputs": [
    {
     "data": {
      "text/html": [
       "<div>\n",
       "<style scoped>\n",
       "    .dataframe tbody tr th:only-of-type {\n",
       "        vertical-align: middle;\n",
       "    }\n",
       "\n",
       "    .dataframe tbody tr th {\n",
       "        vertical-align: top;\n",
       "    }\n",
       "\n",
       "    .dataframe thead th {\n",
       "        text-align: right;\n",
       "    }\n",
       "</style>\n",
       "<table border=\"1\" class=\"dataframe\">\n",
       "  <thead>\n",
       "    <tr style=\"text-align: right;\">\n",
       "      <th></th>\n",
       "      <th>Unnamed: 0</th>\n",
       "      <th>x1</th>\n",
       "      <th>x2</th>\n",
       "      <th>x3</th>\n",
       "      <th>x4</th>\n",
       "      <th>x5</th>\n",
       "      <th>y</th>\n",
       "    </tr>\n",
       "  </thead>\n",
       "  <tbody>\n",
       "    <tr>\n",
       "      <th>count</th>\n",
       "      <td>2240.000000</td>\n",
       "      <td>2240.000000</td>\n",
       "      <td>2240.000000</td>\n",
       "      <td>2240.000000</td>\n",
       "      <td>2240.000000</td>\n",
       "      <td>2240.000000</td>\n",
       "      <td>2240.000000</td>\n",
       "    </tr>\n",
       "    <tr>\n",
       "      <th>mean</th>\n",
       "      <td>1119.500000</td>\n",
       "      <td>1172.567558</td>\n",
       "      <td>1173.152286</td>\n",
       "      <td>1173.755442</td>\n",
       "      <td>1174.354844</td>\n",
       "      <td>1174.950263</td>\n",
       "      <td>1175.511353</td>\n",
       "    </tr>\n",
       "    <tr>\n",
       "      <th>std</th>\n",
       "      <td>646.776623</td>\n",
       "      <td>1120.985121</td>\n",
       "      <td>1120.872414</td>\n",
       "      <td>1120.762606</td>\n",
       "      <td>1120.649268</td>\n",
       "      <td>1120.538336</td>\n",
       "      <td>1120.426357</td>\n",
       "    </tr>\n",
       "    <tr>\n",
       "      <th>min</th>\n",
       "      <td>0.000000</td>\n",
       "      <td>83.760000</td>\n",
       "      <td>83.760000</td>\n",
       "      <td>83.760000</td>\n",
       "      <td>83.760000</td>\n",
       "      <td>83.760000</td>\n",
       "      <td>83.760000</td>\n",
       "    </tr>\n",
       "    <tr>\n",
       "      <th>25%</th>\n",
       "      <td>559.750000</td>\n",
       "      <td>229.932500</td>\n",
       "      <td>229.932500</td>\n",
       "      <td>229.932500</td>\n",
       "      <td>229.932500</td>\n",
       "      <td>229.932500</td>\n",
       "      <td>229.932500</td>\n",
       "    </tr>\n",
       "    <tr>\n",
       "      <th>50%</th>\n",
       "      <td>1119.500000</td>\n",
       "      <td>678.415000</td>\n",
       "      <td>680.100000</td>\n",
       "      <td>680.455000</td>\n",
       "      <td>680.820000</td>\n",
       "      <td>681.960000</td>\n",
       "      <td>683.435000</td>\n",
       "    </tr>\n",
       "    <tr>\n",
       "      <th>75%</th>\n",
       "      <td>1679.250000</td>\n",
       "      <td>1816.892500</td>\n",
       "      <td>1816.892500</td>\n",
       "      <td>1816.892500</td>\n",
       "      <td>1816.892500</td>\n",
       "      <td>1816.892500</td>\n",
       "      <td>1816.892500</td>\n",
       "    </tr>\n",
       "    <tr>\n",
       "      <th>max</th>\n",
       "      <td>2239.000000</td>\n",
       "      <td>4807.980000</td>\n",
       "      <td>4807.980000</td>\n",
       "      <td>4807.980000</td>\n",
       "      <td>4807.980000</td>\n",
       "      <td>4807.980000</td>\n",
       "      <td>4807.980000</td>\n",
       "    </tr>\n",
       "  </tbody>\n",
       "</table>\n",
       "</div>"
      ],
      "text/plain": [
       "        Unnamed: 0           x1           x2           x3           x4  \\\n",
       "count  2240.000000  2240.000000  2240.000000  2240.000000  2240.000000   \n",
       "mean   1119.500000  1172.567558  1173.152286  1173.755442  1174.354844   \n",
       "std     646.776623  1120.985121  1120.872414  1120.762606  1120.649268   \n",
       "min       0.000000    83.760000    83.760000    83.760000    83.760000   \n",
       "25%     559.750000   229.932500   229.932500   229.932500   229.932500   \n",
       "50%    1119.500000   678.415000   680.100000   680.455000   680.820000   \n",
       "75%    1679.250000  1816.892500  1816.892500  1816.892500  1816.892500   \n",
       "max    2239.000000  4807.980000  4807.980000  4807.980000  4807.980000   \n",
       "\n",
       "                x5            y  \n",
       "count  2240.000000  2240.000000  \n",
       "mean   1174.950263  1175.511353  \n",
       "std    1120.538336  1120.426357  \n",
       "min      83.760000    83.760000  \n",
       "25%     229.932500   229.932500  \n",
       "50%     681.960000   683.435000  \n",
       "75%    1816.892500  1816.892500  \n",
       "max    4807.980000  4807.980000  "
      ]
     },
     "execution_count": 20,
     "metadata": {},
     "output_type": "execute_result"
    }
   ],
   "source": [
    "df.describe()"
   ]
  },
  {
   "cell_type": "markdown",
   "metadata": {},
   "source": [
    "### A more concise view of the data"
   ]
  },
  {
   "cell_type": "code",
   "execution_count": 25,
   "metadata": {
    "button": false,
    "new_sheet": false,
    "run_control": {
     "read_only": false
    }
   },
   "outputs": [
    {
     "data": {
      "text/html": [
       "<div>\n",
       "<style scoped>\n",
       "    .dataframe tbody tr th:only-of-type {\n",
       "        vertical-align: middle;\n",
       "    }\n",
       "\n",
       "    .dataframe tbody tr th {\n",
       "        vertical-align: top;\n",
       "    }\n",
       "\n",
       "    .dataframe thead th {\n",
       "        text-align: right;\n",
       "    }\n",
       "</style>\n",
       "<table border=\"1\" class=\"dataframe\">\n",
       "  <thead>\n",
       "    <tr style=\"text-align: right;\">\n",
       "      <th></th>\n",
       "      <th>x1</th>\n",
       "      <th>x2</th>\n",
       "      <th>x3</th>\n",
       "      <th>x4</th>\n",
       "      <th>x5</th>\n",
       "      <th>y</th>\n",
       "    </tr>\n",
       "  </thead>\n",
       "  <tbody>\n",
       "    <tr>\n",
       "      <th>0</th>\n",
       "      <td>302.00</td>\n",
       "      <td>293.96</td>\n",
       "      <td>290.91</td>\n",
       "      <td>299.10</td>\n",
       "      <td>323.29</td>\n",
       "      <td>309.80</td>\n",
       "    </tr>\n",
       "    <tr>\n",
       "      <th>1</th>\n",
       "      <td>293.96</td>\n",
       "      <td>290.91</td>\n",
       "      <td>299.10</td>\n",
       "      <td>323.29</td>\n",
       "      <td>309.80</td>\n",
       "      <td>315.74</td>\n",
       "    </tr>\n",
       "    <tr>\n",
       "      <th>2</th>\n",
       "      <td>290.91</td>\n",
       "      <td>299.10</td>\n",
       "      <td>323.29</td>\n",
       "      <td>309.80</td>\n",
       "      <td>315.74</td>\n",
       "      <td>323.42</td>\n",
       "    </tr>\n",
       "    <tr>\n",
       "      <th>3</th>\n",
       "      <td>299.10</td>\n",
       "      <td>323.29</td>\n",
       "      <td>309.80</td>\n",
       "      <td>315.74</td>\n",
       "      <td>323.42</td>\n",
       "      <td>327.24</td>\n",
       "    </tr>\n",
       "    <tr>\n",
       "      <th>4</th>\n",
       "      <td>323.29</td>\n",
       "      <td>309.80</td>\n",
       "      <td>315.74</td>\n",
       "      <td>323.42</td>\n",
       "      <td>327.24</td>\n",
       "      <td>330.79</td>\n",
       "    </tr>\n",
       "    <tr>\n",
       "      <th>5</th>\n",
       "      <td>309.80</td>\n",
       "      <td>315.74</td>\n",
       "      <td>323.42</td>\n",
       "      <td>327.24</td>\n",
       "      <td>330.79</td>\n",
       "      <td>348.13</td>\n",
       "    </tr>\n",
       "    <tr>\n",
       "      <th>6</th>\n",
       "      <td>315.74</td>\n",
       "      <td>323.42</td>\n",
       "      <td>327.24</td>\n",
       "      <td>330.79</td>\n",
       "      <td>348.13</td>\n",
       "      <td>346.00</td>\n",
       "    </tr>\n",
       "    <tr>\n",
       "      <th>7</th>\n",
       "      <td>323.42</td>\n",
       "      <td>327.24</td>\n",
       "      <td>330.79</td>\n",
       "      <td>348.13</td>\n",
       "      <td>346.00</td>\n",
       "      <td>374.70</td>\n",
       "    </tr>\n",
       "    <tr>\n",
       "      <th>8</th>\n",
       "      <td>327.24</td>\n",
       "      <td>330.79</td>\n",
       "      <td>348.13</td>\n",
       "      <td>346.00</td>\n",
       "      <td>374.70</td>\n",
       "      <td>385.93</td>\n",
       "    </tr>\n",
       "    <tr>\n",
       "      <th>9</th>\n",
       "      <td>330.79</td>\n",
       "      <td>348.13</td>\n",
       "      <td>346.00</td>\n",
       "      <td>374.70</td>\n",
       "      <td>385.93</td>\n",
       "      <td>384.79</td>\n",
       "    </tr>\n",
       "  </tbody>\n",
       "</table>\n",
       "</div>"
      ],
      "text/plain": [
       "       x1      x2      x3      x4      x5       y\n",
       "0  302.00  293.96  290.91  299.10  323.29  309.80\n",
       "1  293.96  290.91  299.10  323.29  309.80  315.74\n",
       "2  290.91  299.10  323.29  309.80  315.74  323.42\n",
       "3  299.10  323.29  309.80  315.74  323.42  327.24\n",
       "4  323.29  309.80  315.74  323.42  327.24  330.79\n",
       "5  309.80  315.74  323.42  327.24  330.79  348.13\n",
       "6  315.74  323.42  327.24  330.79  348.13  346.00\n",
       "7  323.42  327.24  330.79  348.13  346.00  374.70\n",
       "8  327.24  330.79  348.13  346.00  374.70  385.93\n",
       "9  330.79  348.13  346.00  374.70  385.93  384.79"
      ]
     },
     "execution_count": 25,
     "metadata": {},
     "output_type": "execute_result"
    }
   ],
   "source": [
    "cdf = df[['x1','x2','x3','x4','x5','y']]\n",
    "cdf.head(10)"
   ]
  },
  {
   "cell_type": "markdown",
   "metadata": {},
   "source": [
    "### data histogram\n",
    "\n",
    "- For example, if the cylinder value be 4, There are 400 data in the dataset, whose cylinder is equal to 4"
   ]
  },
  {
   "cell_type": "code",
   "execution_count": 26,
   "metadata": {},
   "outputs": [
    {
     "data": {
      "image/png": "[encoded data removed]",
      "text/plain": [
       "<Figure size 640x480 with 6 Axes>"
      ]
     },
     "metadata": {},
     "output_type": "display_data"
    }
   ],
   "source": [
    "df_hist = cdf[['x1','x2','x3','x4','x5','y']]\n",
    "df_hist.hist()\n",
    "plt.show()"
   ]
  },
  {
   "cell_type": "markdown",
   "metadata": {},
   "source": [
    "### drawing plot and scatter"
   ]
  },
  {
   "cell_type": "code",
   "execution_count": 27,
   "metadata": {
    "button": false,
    "new_sheet": false,
    "run_control": {
     "read_only": false
    },
    "scrolled": false
   },
   "outputs": [
    {
     "data": {
      "image/png": "[encoded data removed]",
      "text/plain": [
       "<Figure size 640x480 with 1 Axes>"
      ]
     },
     "metadata": {},
     "output_type": "display_data"
    }
   ],
   "source": [
    "fig = plt.figure()\n",
    "ax = fig.add_subplot(111)\n",
    "ax.scatter(cdf.x5, cdf.y,  color='blue')\n",
    "ax.scatter(cdf.x3, cdf.y,  color='red',marker='.')\n",
    "\n",
    "plt.xlabel(\"x\")\n",
    "plt.ylabel(\"y\")\n",
    "plt.show()"
   ]
  },
  {
   "cell_type": "markdown",
   "metadata": {
    "button": false,
    "new_sheet": false,
    "run_control": {
     "read_only": false
    }
   },
   "source": [
    "### Creating train and test dataset\n",
    "#### 20 % for test and 80 for train"
   ]
  },
  {
   "cell_type": "code",
   "execution_count": 28,
   "metadata": {
    "button": false,
    "new_sheet": false,
    "run_control": {
     "read_only": false
    }
   },
   "outputs": [],
   "source": [
    "msk = np.random.rand(len(df)) < 0.8\n",
    "train = cdf[msk]\n",
    "test = cdf[~msk]"
   ]
  },
  {
   "cell_type": "code",
   "execution_count": 29,
   "metadata": {},
   "outputs": [
    {
     "name": "stdout",
     "output_type": "stream",
     "text": [
      "train: \t (1806, 6) \n",
      " test: \t (434, 6)\n"
     ]
    }
   ],
   "source": [
    "print('train: \\t', train.shape, '\\n' , 'test: \\t', test.shape)"
   ]
  },
  {
   "cell_type": "markdown",
   "metadata": {
    "button": false,
    "new_sheet": false,
    "run_control": {
     "read_only": false
    }
   },
   "source": [
    "### drawing plot and scatter train and test"
   ]
  },
  {
   "cell_type": "code",
   "execution_count": 117,
   "metadata": {
    "button": false,
    "new_sheet": false,
    "run_control": {
     "read_only": false
    }
   },
   "outputs": [
    {
     "data": {
      "image/png": "[encoded data removed]",
      "text/plain": [
       "<Figure size 640x480 with 1 Axes>"
      ]
     },
     "metadata": {},
     "output_type": "display_data"
    }
   ],
   "source": [
    "fig1 = plt.figure()\n",
    "ax = fig1.add_subplot(111)\n",
    "ax.scatter(train.x5, train.y,  color='blue')\n",
    "ax.scatter(test.x5, test.y,  color='red')\n",
    "plt.xlabel(\"x5\")\n",
    "plt.ylabel(\"y\")\n",
    "plt.show()"
   ]
  },
  {
   "cell_type": "code",
   "execution_count": 31,
   "metadata": {},
   "outputs": [
    {
     "data": {
      "image/png": "[encoded data removed]",
      "text/plain": [
       "<Figure size 640x480 with 1 Axes>"
      ]
     },
     "metadata": {},
     "output_type": "display_data"
    }
   ],
   "source": [
    "fig2 = plt.figure()\n",
    "ax = fig2.add_subplot(111)\n",
    "ax.scatter(train.x4, train.y,  color='blue')\n",
    "ax.scatter(test.x4, test.y,  color='red')\n",
    "plt.xlabel(\"x4\")\n",
    "plt.ylabel(\"y\")\n",
    "plt.show()"
   ]
  },
  {
   "cell_type": "markdown",
   "metadata": {},
   "source": [
    "### normalizing data"
   ]
  },
  {
   "cell_type": "markdown",
   "metadata": {},
   "source": [
    "#### before norm"
   ]
  },
  {
   "cell_type": "code",
   "execution_count": 205,
   "metadata": {},
   "outputs": [],
   "source": [
    "#asanyarray: converting to normal array \n",
    "train_x = np.asanyarray(train[['x1','x2','x3','x4','x5']])\n",
    "train_y = np.asanyarray(train[['y']])\n",
    "\n",
    "test_x = np.asanyarray(test[['x1','x2','x3','x4','x5']])\n",
    "test_y = np.asanyarray(test[['y']])"
   ]
  },
  {
   "cell_type": "code",
   "execution_count": 232,
   "metadata": {},
   "outputs": [
    {
     "data": {
      "text/plain": [
       "(1806, 5)"
      ]
     },
     "execution_count": 232,
     "metadata": {},
     "output_type": "execute_result"
    }
   ],
   "source": [
    "train_x.shape"
   ]
  },
  {
   "cell_type": "markdown",
   "metadata": {},
   "source": [
    "#### after norm"
   ]
  },
  {
   "cell_type": "code",
   "execution_count": 206,
   "metadata": {},
   "outputs": [],
   "source": [
    "scaler = MinMaxScaler(feature_range = (0,1))\n",
    "train_x = scaler.fit_transform(train_x)\n",
    "train_y = scaler.fit_transform(train_y)\n",
    "\n",
    "test_x = scaler.fit_transform(test_x)\n",
    "test_y = scaler.fit_transform(test_y)"
   ]
  },
  {
   "cell_type": "markdown",
   "metadata": {
    "button": false,
    "new_sheet": false,
    "run_control": {
     "read_only": false
    }
   },
   "source": [
    "### training model\n",
    "\n",
    "- Converting the data into a normal array So that it is suitable for the model format\n",
    "\n",
    "- [link regr](https://scikit-learn.org/stable/supervised_learning.html)"
   ]
  },
  {
   "cell_type": "code",
   "execution_count": 207,
   "metadata": {
    "button": false,
    "new_sheet": false,
    "run_control": {
     "read_only": false
    }
   },
   "outputs": [
    {
     "name": "stdout",
     "output_type": "stream",
     "text": [
      "Coefficients:  [[-0.03027479 -0.03800714  0.03075488  0.13635751  0.91429991]]\n",
      "Intercept:  [0.00055153]\n"
     ]
    }
   ],
   "source": [
    "\n",
    "regr = linear_model.LinearRegression()\n",
    "\n",
    "\n",
    "#train_x , train_y data are fitted with together and the best line is obtained and it will be final model\n",
    "regr.fit (train_x, train_y)\n",
    "\n",
    "# The coefficients\n",
    "print('Coefficients: ', regr.coef_)\n",
    "print ('Intercept: ',regr.intercept_)"
   ]
  },
  {
   "cell_type": "markdown",
   "metadata": {},
   "source": [
    "### model Evaluation"
   ]
  },
  {
   "cell_type": "code",
   "execution_count": 208,
   "metadata": {
    "button": false,
    "new_sheet": false,
    "run_control": {
     "read_only": false
    }
   },
   "outputs": [
    {
     "name": "stdout",
     "output_type": "stream",
     "text": [
      "Mean absolute error: 0.02\n",
      "Residual sum of squares (MSE): 0.00\n",
      "R2-score: 0.99\n"
     ]
    }
   ],
   "source": [
    "\n",
    "predict = regr.predict(test_x) #y_hat\n",
    "\n",
    "print(\"Mean absolute error: %.2f\" % np.mean(np.absolute(predict - test_y)))\n",
    "print(\"Residual sum of squares (MSE): %.2f\" % np.mean((predict - test_y) ** 2))\n",
    "print(\"R2-score: %.2f\" % r2_score(test_y , predict) )\n"
   ]
  },
  {
   "cell_type": "markdown",
   "metadata": {},
   "source": [
    "### testing"
   ]
  },
  {
   "cell_type": "code",
   "execution_count": 209,
   "metadata": {},
   "outputs": [
    {
     "data": {
      "text/plain": [
       "array([[0.05249419],\n",
       "       [0.05579127],\n",
       "       [0.05783114]])"
      ]
     },
     "execution_count": 209,
     "metadata": {},
     "output_type": "execute_result"
    }
   ],
   "source": [
    "predict[:3]"
   ]
  },
  {
   "cell_type": "code",
   "execution_count": 210,
   "metadata": {},
   "outputs": [
    {
     "data": {
      "text/plain": [
       "array([[0.04959341],\n",
       "       [0.05483017],\n",
       "       [0.04119045]])"
      ]
     },
     "execution_count": 210,
     "metadata": {},
     "output_type": "execute_result"
    }
   ],
   "source": [
    "test_y[:3]"
   ]
  },
  {
   "cell_type": "code",
   "execution_count": 211,
   "metadata": {},
   "outputs": [
    {
     "data": {
      "text/plain": [
       "array([[ 337.10750979],\n",
       "       [ 352.66503123],\n",
       "       [ 362.29030349],\n",
       "       [ 305.26154762],\n",
       "       [ 351.13750063],\n",
       "       [ 311.37115501],\n",
       "       [ 323.36833065],\n",
       "       [ 310.52882444],\n",
       "       [ 313.32997902],\n",
       "       [ 318.6230733 ],\n",
       "       [ 365.07258562],\n",
       "       [ 313.06248809],\n",
       "       [ 313.69345818],\n",
       "       [ 314.69154254],\n",
       "       [ 315.918143  ],\n",
       "       [ 311.50742024],\n",
       "       [ 311.32631423],\n",
       "       [ 328.9768223 ],\n",
       "       [ 325.03468646],\n",
       "       [ 332.7834698 ],\n",
       "       [ 353.04157942],\n",
       "       [ 451.62909907],\n",
       "       [ 479.62076281],\n",
       "       [ 486.18996659],\n",
       "       [ 462.985041  ],\n",
       "       [ 733.96494802],\n",
       "       [ 721.86160968],\n",
       "       [ 744.25760029],\n",
       "       [ 748.11117708],\n",
       "       [ 774.09608745],\n",
       "       [1005.48787921],\n",
       "       [1439.02046757],\n",
       "       [1040.85688153],\n",
       "       [1032.74162448],\n",
       "       [1179.03668386],\n",
       "       [1166.76925076],\n",
       "       [ 790.898272  ],\n",
       "       [ 911.2748898 ],\n",
       "       [1026.92937198],\n",
       "       [ 938.39381813],\n",
       "       [ 887.93155402],\n",
       "       [ 907.75234971],\n",
       "       [ 798.60501649],\n",
       "       [ 654.38451511],\n",
       "       [ 582.60429119],\n",
       "       [ 402.82930725],\n",
       "       [ 437.14731394],\n",
       "       [ 426.05289283],\n",
       "       [ 442.03311981],\n",
       "       [ 682.67035078],\n",
       "       [ 726.87700982],\n",
       "       [ 816.00145694],\n",
       "       [ 848.59820395],\n",
       "       [ 803.10933665],\n",
       "       [ 767.09287149],\n",
       "       [ 720.46009151],\n",
       "       [ 763.94969366],\n",
       "       [ 709.9654612 ],\n",
       "       [ 729.26681666],\n",
       "       [ 655.25777814],\n",
       "       [ 631.75215439],\n",
       "       [ 643.80119477],\n",
       "       [ 522.4661878 ],\n",
       "       [ 543.33756657],\n",
       "       [ 527.12286218],\n",
       "       [ 459.48625849],\n",
       "       [ 514.25353949],\n",
       "       [ 459.58369045],\n",
       "       [ 475.69979165],\n",
       "       [ 505.82493482],\n",
       "       [ 500.25640144],\n",
       "       [ 478.83962487],\n",
       "       [ 498.4182592 ],\n",
       "       [ 404.60715399],\n",
       "       [ 382.68067978],\n",
       "       [ 354.26135791],\n",
       "       [ 338.35032917],\n",
       "       [ 335.92051413],\n",
       "       [ 335.27351723],\n",
       "       [ 293.23572593],\n",
       "       [ 305.06693325],\n",
       "       [ 314.21980878],\n",
       "       [ 210.24167568],\n",
       "       [ 224.17193903],\n",
       "       [ 236.73971281],\n",
       "       [ 222.98341205],\n",
       "       [ 260.09203233],\n",
       "       [ 248.12623719],\n",
       "       [ 241.42224822],\n",
       "       [ 244.35460799],\n",
       "       [ 208.77415735],\n",
       "       [ 227.81953694],\n",
       "       [ 219.69611226],\n",
       "       [ 219.32205924],\n",
       "       [ 211.73784357],\n",
       "       [ 216.50229254],\n",
       "       [ 225.80347619],\n",
       "       [ 145.84510868],\n",
       "       [ 135.92154791],\n",
       "       [ 120.02693331],\n",
       "       [ 120.18537408],\n",
       "       [ 125.92242293],\n",
       "       [ 111.60371628],\n",
       "       [ 100.82774288],\n",
       "       [  95.85793495],\n",
       "       [  92.01241531],\n",
       "       [ 138.11002949],\n",
       "       [ 143.31554995],\n",
       "       [ 125.8485309 ],\n",
       "       [ 121.53588599],\n",
       "       [ 114.88732075],\n",
       "       [ 112.87969638],\n",
       "       [ 113.50889613],\n",
       "       [ 131.74543242],\n",
       "       [ 132.31746516],\n",
       "       [ 132.31716301],\n",
       "       [ 160.2959197 ],\n",
       "       [ 151.45674988],\n",
       "       [ 149.08506759],\n",
       "       [ 149.57801615],\n",
       "       [ 149.47813566],\n",
       "       [ 148.84264324],\n",
       "       [ 153.98029459],\n",
       "       [ 152.6542519 ],\n",
       "       [ 152.17456893],\n",
       "       [ 176.51626075],\n",
       "       [ 191.81592794],\n",
       "       [ 177.00903664],\n",
       "       [ 185.35386179],\n",
       "       [ 185.98722959],\n",
       "       [ 182.6177385 ],\n",
       "       [ 181.47068623],\n",
       "       [ 170.28634042],\n",
       "       [ 172.95929746],\n",
       "       [ 183.71161771],\n",
       "       [ 202.12355369],\n",
       "       [ 272.90053295],\n",
       "       [ 290.32463879],\n",
       "       [ 264.19765873],\n",
       "       [ 286.16271535],\n",
       "       [ 285.70988211],\n",
       "       [ 333.43099204],\n",
       "       [ 359.46121228],\n",
       "       [ 238.16620442],\n",
       "       [ 244.35153608],\n",
       "       [ 234.21809483],\n",
       "       [ 225.00430015],\n",
       "       [ 207.0538537 ],\n",
       "       [ 202.42003614],\n",
       "       [ 179.68331618],\n",
       "       [ 183.2664491 ],\n",
       "       [ 188.36471251],\n",
       "       [ 193.37167912],\n",
       "       [ 193.93875906],\n",
       "       [ 210.8893232 ],\n",
       "       [ 225.67627479],\n",
       "       [ 234.26434619],\n",
       "       [ 185.26378081],\n",
       "       [ 187.32852675],\n",
       "       [ 193.08211988],\n",
       "       [ 201.72693561],\n",
       "       [ 201.37664533],\n",
       "       [ 196.51788069],\n",
       "       [ 144.75305037],\n",
       "       [ 154.30307186],\n",
       "       [ 154.84949806],\n",
       "       [ 182.37100146],\n",
       "       [ 196.96690933],\n",
       "       [ 216.77955637],\n",
       "       [ 280.80426758],\n",
       "       [ 240.37113488],\n",
       "       [ 132.21930809],\n",
       "       [ 123.84353207],\n",
       "       [ 144.52014754],\n",
       "       [ 147.65401054],\n",
       "       [ 142.8531273 ],\n",
       "       [ 182.77499047],\n",
       "       [ 213.24626042],\n",
       "       [ 224.98735475],\n",
       "       [ 203.57799893],\n",
       "       [ 210.52561219],\n",
       "       [ 220.19812508],\n",
       "       [ 220.53515847],\n",
       "       [ 214.91980408],\n",
       "       [ 249.98686414],\n",
       "       [ 255.50095769],\n",
       "       [ 256.78166297],\n",
       "       [ 244.87485484],\n",
       "       [ 256.48023224],\n",
       "       [ 256.09983254],\n",
       "       [ 248.37254592],\n",
       "       [ 252.74997288],\n",
       "       [ 293.70113272],\n",
       "       [ 332.34328141],\n",
       "       [ 343.89424005],\n",
       "       [ 339.54361775],\n",
       "       [ 446.55538234],\n",
       "       [ 458.12419879],\n",
       "       [ 414.36348779],\n",
       "       [ 502.97162896],\n",
       "       [ 397.89976336],\n",
       "       [ 410.90259239],\n",
       "       [ 363.68853123],\n",
       "       [ 341.41334286],\n",
       "       [ 366.79704929],\n",
       "       [ 377.74967013],\n",
       "       [ 382.87128176],\n",
       "       [ 363.219995  ],\n",
       "       [ 406.6576494 ],\n",
       "       [ 401.59219939],\n",
       "       [ 409.73664113],\n",
       "       [ 425.8421752 ],\n",
       "       [ 482.9770983 ],\n",
       "       [ 486.61921766],\n",
       "       [ 537.53959609],\n",
       "       [ 597.53483658],\n",
       "       [ 634.66305562],\n",
       "       [ 603.95857666],\n",
       "       [ 679.7289797 ],\n",
       "       [ 624.55300516],\n",
       "       [ 645.58786857],\n",
       "       [ 675.57100671],\n",
       "       [ 799.61542068],\n",
       "       [ 773.94972063],\n",
       "       [1176.13799388],\n",
       "       [1108.7750316 ],\n",
       "       [1173.11746603],\n",
       "       [1436.27565455],\n",
       "       [1211.78194891],\n",
       "       [1411.78749828],\n",
       "       [1448.21111488],\n",
       "       [1393.10405333],\n",
       "       [1817.3592608 ],\n",
       "       [1887.55525404],\n",
       "       [1908.98940588],\n",
       "       [1880.73083166],\n",
       "       [1946.51167773],\n",
       "       [2035.49481198],\n",
       "       [1530.28344535],\n",
       "       [1498.17626858],\n",
       "       [1642.6162628 ],\n",
       "       [1584.28427132],\n",
       "       [1870.02756805],\n",
       "       [1910.6207008 ],\n",
       "       [2148.20687905],\n",
       "       [2277.06755505],\n",
       "       [2486.60601632],\n",
       "       [2540.4439038 ],\n",
       "       [2357.33387273],\n",
       "       [3123.67961996],\n",
       "       [3702.31657702],\n",
       "       [4091.7824066 ],\n",
       "       [2216.58746661],\n",
       "       [2713.11567247],\n",
       "       [3064.99539139],\n",
       "       [2940.46135445],\n",
       "       [2403.92659059],\n",
       "       [2867.58553967],\n",
       "       [2737.85583827],\n",
       "       [2619.42658141],\n",
       "       [2722.40008841],\n",
       "       [2283.98698885],\n",
       "       [1976.25135258],\n",
       "       [2047.52235644],\n",
       "       [1937.60413301],\n",
       "       [2194.24422531],\n",
       "       [2339.07632418],\n",
       "       [2445.3978797 ],\n",
       "       [2080.74667683],\n",
       "       [2249.88854909],\n",
       "       [2358.27769385],\n",
       "       [3215.47220317],\n",
       "       [3502.66783188],\n",
       "       [3429.02129868],\n",
       "       [3499.03894204],\n",
       "       [3433.22940748],\n",
       "       [3599.47609916],\n",
       "       [3308.39188924],\n",
       "       [3102.25301525],\n",
       "       [2980.01951113],\n",
       "       [3773.58984178],\n",
       "       [3686.93265169],\n",
       "       [3800.43426457],\n",
       "       [3989.97724584],\n",
       "       [4092.29668223],\n",
       "       [4363.92339972],\n",
       "       [4309.14524263],\n",
       "       [4649.584781  ],\n",
       "       [4815.03748756],\n",
       "       [4814.65033405],\n",
       "       [4856.663921  ],\n",
       "       [4529.84454495],\n",
       "       [4285.09150331],\n",
       "       [3991.74404561],\n",
       "       [3241.10276921],\n",
       "       [3251.27025585],\n",
       "       [3450.84370565],\n",
       "       [2837.91369567],\n",
       "       [2851.91927197],\n",
       "       [3070.35804528],\n",
       "       [3021.84974118],\n",
       "       [3096.36984755],\n",
       "       [2725.74999602],\n",
       "       [2742.26501851],\n",
       "       [2690.15751938],\n",
       "       [2706.9968553 ],\n",
       "       [2919.18983845],\n",
       "       [3287.66452999],\n",
       "       [3587.96626041],\n",
       "       [3628.69424586],\n",
       "       [3720.70791419],\n",
       "       [3615.39946678],\n",
       "       [3369.29191286],\n",
       "       [3385.25271776],\n",
       "       [3172.14079058],\n",
       "       [3219.97834801],\n",
       "       [3269.97821704],\n",
       "       [3081.40245062],\n",
       "       [3008.10374734],\n",
       "       [2779.17596093],\n",
       "       [2661.78353383],\n",
       "       [2441.4077436 ],\n",
       "       [2069.26389727],\n",
       "       [1052.15684238],\n",
       "       [1123.24264345],\n",
       "       [1320.01339332],\n",
       "       [1264.13512759],\n",
       "       [1124.44213533],\n",
       "       [1134.58829183],\n",
       "       [1241.1231843 ],\n",
       "       [1162.91532429],\n",
       "       [1251.09339803],\n",
       "       [1305.37240734],\n",
       "       [1427.73583256],\n",
       "       [1656.24069746],\n",
       "       [1626.86473311],\n",
       "       [1683.52167617],\n",
       "       [1541.34573704],\n",
       "       [1700.79647037],\n",
       "       [1946.65606994],\n",
       "       [2103.62650646],\n",
       "       [1981.80656108],\n",
       "       [1722.21355266],\n",
       "       [1614.64184263],\n",
       "       [1669.26537862],\n",
       "       [1876.12150267],\n",
       "       [1825.87672113],\n",
       "       [1678.3924075 ],\n",
       "       [1513.84430625],\n",
       "       [1538.17207553],\n",
       "       [1373.86788964],\n",
       "       [1405.13984107],\n",
       "       [1415.29194341],\n",
       "       [1389.10408799],\n",
       "       [1434.75995848],\n",
       "       [1365.146494  ],\n",
       "       [1391.0155029 ],\n",
       "       [1618.20157292],\n",
       "       [1688.37909563],\n",
       "       [1667.58733014],\n",
       "       [1339.59521731],\n",
       "       [1300.05643483],\n",
       "       [1291.18154195],\n",
       "       [1271.48182211],\n",
       "       [1285.78559332],\n",
       "       [1216.8112072 ],\n",
       "       [1347.34685423],\n",
       "       [1244.36099288],\n",
       "       [1289.51692586],\n",
       "       [1261.25370462],\n",
       "       [1267.19867512],\n",
       "       [1498.82951845],\n",
       "       [1648.56039893],\n",
       "       [1660.74634551],\n",
       "       [1605.10046524],\n",
       "       [1728.23370898],\n",
       "       [1651.38041235],\n",
       "       [1675.48470113],\n",
       "       [1727.2477471 ],\n",
       "       [1727.72042037],\n",
       "       [1759.04121618],\n",
       "       [1759.17574385],\n",
       "       [1685.57526474],\n",
       "       [1727.11684745],\n",
       "       [1754.09947192],\n",
       "       [1652.6893162 ],\n",
       "       [1657.77764296],\n",
       "       [1766.84186782],\n",
       "       [1877.74014894],\n",
       "       [1839.01466078],\n",
       "       [1840.23074462],\n",
       "       [1909.86148332],\n",
       "       [1856.58513194],\n",
       "       [1817.93817742],\n",
       "       [1892.42327274],\n",
       "       [1901.60768386],\n",
       "       [2016.18813735],\n",
       "       [1954.01619521],\n",
       "       [2245.10080807],\n",
       "       [2002.96329501],\n",
       "       [1968.88637486],\n",
       "       [1895.80696138],\n",
       "       [1900.43725508],\n",
       "       [1927.9394983 ],\n",
       "       [1913.75003502],\n",
       "       [2006.06821274],\n",
       "       [2013.14679411],\n",
       "       [1922.23344453],\n",
       "       [1950.22217318],\n",
       "       [1756.61289701],\n",
       "       [2033.00749137],\n",
       "       [2052.74800692],\n",
       "       [2022.77246915],\n",
       "       [1985.90530507],\n",
       "       [2031.67973523],\n",
       "       [1997.37354108],\n",
       "       [1993.1750261 ],\n",
       "       [1975.44457826],\n",
       "       [1940.65467562],\n",
       "       [1959.04086364],\n",
       "       [1960.26271063],\n",
       "       [1765.30976315],\n",
       "       [1768.99867845],\n",
       "       [1747.92067517],\n",
       "       [1740.93593216],\n",
       "       [1731.91439353],\n",
       "       [1729.80506459],\n",
       "       [1711.47411862],\n",
       "       [1676.05443735],\n",
       "       [1719.10294663],\n",
       "       [1728.36750483],\n",
       "       [1684.10990188],\n",
       "       [1768.01933537],\n",
       "       [1726.72966092]])"
      ]
     },
     "execution_count": 211,
     "metadata": {},
     "output_type": "execute_result"
    }
   ],
   "source": [
    "predict = scaler.inverse_transform(predict)[:]\n",
    "predict"
   ]
  },
  {
   "cell_type": "code",
   "execution_count": 212,
   "metadata": {},
   "outputs": [
    {
     "data": {
      "text/plain": [
       "array([[ 323.42],\n",
       "       [ 348.13],\n",
       "       [ 283.77],\n",
       "       [ 312.09],\n",
       "       [ 334.49],\n",
       "       [ 284.  ],\n",
       "       [ 296.5 ],\n",
       "       [ 294.81],\n",
       "       [ 310.8 ],\n",
       "       [ 298.64],\n",
       "       [ 337.96],\n",
       "       [ 281.09],\n",
       "       [ 294.71],\n",
       "       [ 296.33],\n",
       "       [ 291.87],\n",
       "       [ 305.  ],\n",
       "       [ 303.02],\n",
       "       [ 305.24],\n",
       "       [ 312.99],\n",
       "       [ 335.61],\n",
       "       [ 346.66],\n",
       "       [ 457.51],\n",
       "       [ 457.63],\n",
       "       [ 460.3 ],\n",
       "       [ 509.69],\n",
       "       [ 673.75],\n",
       "       [ 705.03],\n",
       "       [ 784.  ],\n",
       "       [ 750.  ],\n",
       "       [ 681.06],\n",
       "       [ 959.3 ],\n",
       "       [1271.  ],\n",
       "       [ 994.  ],\n",
       "       [1061.  ],\n",
       "       [1251.96],\n",
       "       [1124.81],\n",
       "       [ 781.66],\n",
       "       [ 841.57],\n",
       "       [ 911.  ],\n",
       "       [ 835.89],\n",
       "       [ 801.49],\n",
       "       [ 856.02],\n",
       "       [ 695.46],\n",
       "       [ 608.83],\n",
       "       [ 537.  ],\n",
       "       [ 385.05],\n",
       "       [ 378.16],\n",
       "       [ 416.07],\n",
       "       [ 429.52],\n",
       "       [ 701.58],\n",
       "       [ 779.  ],\n",
       "       [ 785.99],\n",
       "       [ 752.49],\n",
       "       [ 748.99],\n",
       "       [ 676.96],\n",
       "       [ 729.08],\n",
       "       [ 727.49],\n",
       "       [ 692.6 ],\n",
       "       [ 697.  ],\n",
       "       [ 591.02],\n",
       "       [ 609.05],\n",
       "       [ 605.16],\n",
       "       [ 475.47],\n",
       "       [ 487.48],\n",
       "       [ 517.95],\n",
       "       [ 454.09],\n",
       "       [ 486.77],\n",
       "       [ 449.78],\n",
       "       [ 478.49],\n",
       "       [ 498.76],\n",
       "       [ 449.04],\n",
       "       [ 479.28],\n",
       "       [ 469.29],\n",
       "       [ 355.48],\n",
       "       [ 331.81],\n",
       "       [ 317.69],\n",
       "       [ 317.89],\n",
       "       [ 283.81],\n",
       "       [ 294.11],\n",
       "       [ 287.71],\n",
       "       [ 295.44],\n",
       "       [ 288.4 ],\n",
       "       [ 195.81],\n",
       "       [ 221.29],\n",
       "       [ 196.16],\n",
       "       [ 224.  ],\n",
       "       [ 244.5 ],\n",
       "       [ 225.69],\n",
       "       [ 226.14],\n",
       "       [ 226.74],\n",
       "       [ 201.3 ],\n",
       "       [ 215.09],\n",
       "       [ 203.93],\n",
       "       [ 196.96],\n",
       "       [ 197.27],\n",
       "       [ 200.31],\n",
       "       [ 210.66],\n",
       "       [ 126.63],\n",
       "       [ 125.02],\n",
       "       [ 111.43],\n",
       "       [ 122.9 ],\n",
       "       [ 108.76],\n",
       "       [  91.  ],\n",
       "       [  89.91],\n",
       "       [  89.41],\n",
       "       [  94.02],\n",
       "       [ 138.03],\n",
       "       [ 137.77],\n",
       "       [ 116.39],\n",
       "       [ 105.5 ],\n",
       "       [ 104.45],\n",
       "       [ 108.29],\n",
       "       [ 104.48],\n",
       "       [ 122.41],\n",
       "       [ 121.86],\n",
       "       [ 133.75],\n",
       "       [ 145.69],\n",
       "       [ 138.67],\n",
       "       [ 139.01],\n",
       "       [ 134.85],\n",
       "       [ 137.86],\n",
       "       [ 143.25],\n",
       "       [ 142.46],\n",
       "       [ 141.24],\n",
       "       [ 163.31],\n",
       "       [ 165.5 ],\n",
       "       [ 174.6 ],\n",
       "       [ 165.75],\n",
       "       [ 172.64],\n",
       "       [ 168.59],\n",
       "       [ 169.16],\n",
       "       [ 164.78],\n",
       "       [ 157.85],\n",
       "       [ 160.19],\n",
       "       [ 170.9 ],\n",
       "       [ 188.11],\n",
       "       [ 250.37],\n",
       "       [ 268.83],\n",
       "       [ 248.77],\n",
       "       [ 273.16],\n",
       "       [ 271.22],\n",
       "       [ 318.26],\n",
       "       [ 298.35],\n",
       "       [ 220.73],\n",
       "       [ 225.38],\n",
       "       [ 207.3 ],\n",
       "       [ 209.58],\n",
       "       [ 202.28],\n",
       "       [ 190.35],\n",
       "       [ 171.57],\n",
       "       [ 178.05],\n",
       "       [ 173.75],\n",
       "       [ 178.28],\n",
       "       [ 188.13],\n",
       "       [ 207.84],\n",
       "       [ 220.24],\n",
       "       [ 215.05],\n",
       "       [ 171.79],\n",
       "       [ 173.98],\n",
       "       [ 183.75],\n",
       "       [ 184.98],\n",
       "       [ 184.92],\n",
       "       [ 178.2 ],\n",
       "       [ 135.37],\n",
       "       [ 140.72],\n",
       "       [ 142.38],\n",
       "       [ 174.14],\n",
       "       [ 188.44],\n",
       "       [ 213.19],\n",
       "       [ 261.57],\n",
       "       [ 217.21],\n",
       "       [ 111.02],\n",
       "       [ 118.11],\n",
       "       [ 138.42],\n",
       "       [ 138.4 ],\n",
       "       [ 135.69],\n",
       "       [ 182.7 ],\n",
       "       [ 212.  ],\n",
       "       [ 211.31],\n",
       "       [ 185.73],\n",
       "       [ 200.45],\n",
       "       [ 206.6 ],\n",
       "       [ 199.9 ],\n",
       "       [ 204.15],\n",
       "       [ 248.23],\n",
       "       [ 244.52],\n",
       "       [ 241.94],\n",
       "       [ 228.89],\n",
       "       [ 246.95],\n",
       "       [ 240.44],\n",
       "       [ 235.67],\n",
       "       [ 245.59],\n",
       "       [ 279.15],\n",
       "       [ 321.93],\n",
       "       [ 316.77],\n",
       "       [ 317.71],\n",
       "       [ 438.11],\n",
       "       [ 421.95],\n",
       "       [ 395.24],\n",
       "       [ 439.5 ],\n",
       "       [ 387.78],\n",
       "       [ 384.39],\n",
       "       [ 320.72],\n",
       "       [ 348.97],\n",
       "       [ 351.92],\n",
       "       [ 357.49],\n",
       "       [ 352.85],\n",
       "       [ 350.95],\n",
       "       [ 378.69],\n",
       "       [ 365.5 ],\n",
       "       [ 396.67],\n",
       "       [ 416.69],\n",
       "       [ 444.32],\n",
       "       [ 482.15],\n",
       "       [ 552.35],\n",
       "       [ 608.58],\n",
       "       [ 615.85],\n",
       "       [ 558.99],\n",
       "       [ 607.58],\n",
       "       [ 612.31],\n",
       "       [ 626.82],\n",
       "       [ 685.11],\n",
       "       [ 736.42],\n",
       "       [ 774.56],\n",
       "       [1208.42],\n",
       "       [1129.89],\n",
       "       [1231.62],\n",
       "       [1376.99],\n",
       "       [1232.62],\n",
       "       [1365.97],\n",
       "       [1239.03],\n",
       "       [1379.5 ],\n",
       "       [1676.35],\n",
       "       [1840.26],\n",
       "       [1779.25],\n",
       "       [1849.88],\n",
       "       [1939.61],\n",
       "       [1933.53],\n",
       "       [1419.18],\n",
       "       [1569.86],\n",
       "       [1486.78],\n",
       "       [1567.69],\n",
       "       [1922.35],\n",
       "       [1840.46],\n",
       "       [2075.69],\n",
       "       [2137.69],\n",
       "       [2397.94],\n",
       "       [2367.39],\n",
       "       [2320.49],\n",
       "       [3431.04],\n",
       "       [3479.53],\n",
       "       [3923.95],\n",
       "       [2648.43],\n",
       "       [2705.11],\n",
       "       [2742.23],\n",
       "       [2412.1 ],\n",
       "       [2385.98],\n",
       "       [2627.73],\n",
       "       [2471.09],\n",
       "       [2354.01],\n",
       "       [2543.54],\n",
       "       [2243.47],\n",
       "       [1968.14],\n",
       "       [1989.52],\n",
       "       [1829.64],\n",
       "       [2165.33],\n",
       "       [2322.69],\n",
       "       [2316.57],\n",
       "       [2024.56],\n",
       "       [2184.75],\n",
       "       [2299.49],\n",
       "       [3160.52],\n",
       "       [3146.53],\n",
       "       [3321.28],\n",
       "       [3170.62],\n",
       "       [3244.48],\n",
       "       [3826.82],\n",
       "       [2928.53],\n",
       "       [2804.91],\n",
       "       [2850.45],\n",
       "       [3587.47],\n",
       "       [3607.42],\n",
       "       [3790.82],\n",
       "       [3868.99],\n",
       "       [3829.96],\n",
       "       [4052.99],\n",
       "       [3972.2 ],\n",
       "       [4322.68],\n",
       "       [4603.35],\n",
       "       [4474.24],\n",
       "       [4807.98],\n",
       "       [4085.97],\n",
       "       [4094.83],\n",
       "       [3785.11],\n",
       "       [3151.97],\n",
       "       [3239.72],\n",
       "       [3307.42],\n",
       "       [2787.23],\n",
       "       [2994.99],\n",
       "       [2871.13],\n",
       "       [2929.75],\n",
       "       [2779.48],\n",
       "       [2596.2 ],\n",
       "       [2768.49],\n",
       "       [2491.12],\n",
       "       [2515.65],\n",
       "       [2811.92],\n",
       "       [3102.14],\n",
       "       [3281.51],\n",
       "       [3443.77],\n",
       "       [3519.5 ],\n",
       "       [3168.51],\n",
       "       [3227.19],\n",
       "       [3192.39],\n",
       "       [3027.66],\n",
       "       [3101.77],\n",
       "       [3076.04],\n",
       "       [3006.62],\n",
       "       [2781.7 ],\n",
       "       [2519.71],\n",
       "       [2228.55],\n",
       "       [2084.99],\n",
       "       [1817.95],\n",
       "       [1128.53],\n",
       "       [1144.72],\n",
       "       [1197.79],\n",
       "       [1144.05],\n",
       "       [1074.26],\n",
       "       [1151.  ],\n",
       "       [1096.4 ],\n",
       "       [1193.42],\n",
       "       [1231.25],\n",
       "       [1355.85],\n",
       "       [1581.04],\n",
       "       [1542.32],\n",
       "       [1548.67],\n",
       "       [1440.79],\n",
       "       [1449.12],\n",
       "       [1724.52],\n",
       "       [1880.19],\n",
       "       [1935.31],\n",
       "       [1834.25],\n",
       "       [1576.04],\n",
       "       [1554.1 ],\n",
       "       [1557.46],\n",
       "       [1716.37],\n",
       "       [1574.4 ],\n",
       "       [1638.39],\n",
       "       [1468.83],\n",
       "       [1334.51],\n",
       "       [1336.17],\n",
       "       [1337.2 ],\n",
       "       [1335.7 ],\n",
       "       [1276.72],\n",
       "       [1352.2 ],\n",
       "       [1287.08],\n",
       "       [1285.09],\n",
       "       [1554.41],\n",
       "       [1572.69],\n",
       "       [1518.34],\n",
       "       [1221.49],\n",
       "       [1243.28],\n",
       "       [1200.43],\n",
       "       [1212.58],\n",
       "       [1142.21],\n",
       "       [1107.34],\n",
       "       [1320.69],\n",
       "       [1167.82],\n",
       "       [1228.11],\n",
       "       [1200.49],\n",
       "       [1199.99],\n",
       "       [1451.2 ],\n",
       "       [1576.94],\n",
       "       [1511.43],\n",
       "       [1551.09],\n",
       "       [1626.29],\n",
       "       [1611.94],\n",
       "       [1641.68],\n",
       "       [1643.12],\n",
       "       [1614.29],\n",
       "       [1637.84],\n",
       "       [1643.14],\n",
       "       [1641.36],\n",
       "       [1633.45],\n",
       "       [1647.86],\n",
       "       [1561.96],\n",
       "       [1673.45],\n",
       "       [1699.4 ],\n",
       "       [1758.84],\n",
       "       [1801.23],\n",
       "       [1813.79],\n",
       "       [1749.57],\n",
       "       [1741.88],\n",
       "       [1772.99],\n",
       "       [1793.61],\n",
       "       [1810.51],\n",
       "       [1872.41],\n",
       "       [1858.92],\n",
       "       [2074.  ],\n",
       "       [1907.8 ],\n",
       "       [1905.12],\n",
       "       [1799.21],\n",
       "       [1816.2 ],\n",
       "       [1800.56],\n",
       "       [1819.42],\n",
       "       [1900.59],\n",
       "       [1873.63],\n",
       "       [1884.64],\n",
       "       [1840.37],\n",
       "       [1717.92],\n",
       "       [1924.5 ],\n",
       "       [1955.54],\n",
       "       [1846.17],\n",
       "       [1871.82],\n",
       "       [1911.2 ],\n",
       "       [1891.73],\n",
       "       [1850.  ],\n",
       "       [1861.28],\n",
       "       [1830.23],\n",
       "       [1855.35],\n",
       "       [1848.84],\n",
       "       [1634.99],\n",
       "       [1661.16],\n",
       "       [1729.42],\n",
       "       [1636.44],\n",
       "       [1635.54],\n",
       "       [1617.42],\n",
       "       [1551.85],\n",
       "       [1607.62],\n",
       "       [1641.29],\n",
       "       [1643.12],\n",
       "       [1598.64],\n",
       "       [1656.88],\n",
       "       [1632.84]])"
      ]
     },
     "execution_count": 212,
     "metadata": {},
     "output_type": "execute_result"
    }
   ],
   "source": [
    "test_y = scaler.inverse_transform(test_y)[:]\n",
    "test_y"
   ]
  },
  {
   "cell_type": "code",
   "execution_count": 213,
   "metadata": {},
   "outputs": [
    {
     "data": {
      "text/plain": [
       "(434, 1)"
      ]
     },
     "execution_count": 213,
     "metadata": {},
     "output_type": "execute_result"
    }
   ],
   "source": [
    "predict.shape"
   ]
  },
  {
   "cell_type": "markdown",
   "metadata": {},
   "source": [
    "### plotting"
   ]
  },
  {
   "cell_type": "code",
   "execution_count": 215,
   "metadata": {
    "scrolled": false
   },
   "outputs": [
    {
     "data": {
      "image/png": "[encoded data removed]",
      "text/plain": [
       "<Figure size 640x480 with 1 Axes>"
      ]
     },
     "metadata": {},
     "output_type": "display_data"
    }
   ],
   "source": [
    "fig = plt.figure()\n",
    "ax = fig.add_subplot(111)\n",
    "ax.plot(predict,'-b')\n",
    "ax.plot(test_y,'-r')\n",
    "plt.show()"
   ]
  },
  {
   "cell_type": "markdown",
   "metadata": {},
   "source": [
    "### final testing "
   ]
  },
  {
   "cell_type": "code",
   "execution_count": 418,
   "metadata": {},
   "outputs": [
    {
     "data": {
      "text/plain": [
       "(5, 1)"
      ]
     },
     "execution_count": 418,
     "metadata": {},
     "output_type": "execute_result"
    }
   ],
   "source": [
    "test_norm = np.array([1667.45,1670.89,1733.79,1662.4,1656.88])\n",
    "test_norm = test_norm.astype('float128')\n",
    "test_norm = test_norm.reshape(-1,1)\n",
    "test_norm.shape\n"
   ]
  },
  {
   "cell_type": "code",
   "execution_count": 419,
   "metadata": {},
   "outputs": [
    {
     "name": "stdout",
     "output_type": "stream",
     "text": [
      "[[0.13743336 0.18216097 1.         0.0717722  0.        ]] \n",
      "\n",
      "(1, 5)\n"
     ]
    }
   ],
   "source": [
    "scaler_ = MinMaxScaler(feature_range = (0,1))\n",
    "test_norm = scaler_.fit_transform(test_norm).reshape(1,5)\n",
    "print(test_norm[:5],'\\n')\n",
    "print(test_norm.shape)"
   ]
  },
  {
   "cell_type": "code",
   "execution_count": 420,
   "metadata": {},
   "outputs": [
    {
     "data": {
      "text/plain": [
       "(1, 1)"
      ]
     },
     "execution_count": 420,
     "metadata": {},
     "output_type": "execute_result"
    }
   ],
   "source": [
    "_new = regr.predict(test_norm)\n",
    "_new.shape"
   ]
  },
  {
   "cell_type": "code",
   "execution_count": 421,
   "metadata": {},
   "outputs": [],
   "source": [
    "x = scaler_.inverse_transform(test_norm)"
   ]
  },
  {
   "cell_type": "code",
   "execution_count": 422,
   "metadata": {},
   "outputs": [],
   "source": [
    "y = scaler.inverse_transform(_new)"
   ]
  },
  {
   "cell_type": "code",
   "execution_count": 423,
   "metadata": {},
   "outputs": [
    {
     "data": {
      "text/plain": [
       "array([[1659.18798429]])"
      ]
     },
     "execution_count": 423,
     "metadata": {},
     "output_type": "execute_result"
    }
   ],
   "source": [
    "y"
   ]
  },
  {
   "cell_type": "code",
   "execution_count": 424,
   "metadata": {},
   "outputs": [
    {
     "data": {
      "text/plain": [
       "array([1667.45      , 1670.89      , 1733.79      , 1662.4       ,\n",
       "       1656.88      , 1659.18798429])"
      ]
     },
     "execution_count": 424,
     "metadata": {},
     "output_type": "execute_result"
    }
   ],
   "source": [
    "z = np.append(x,y)\n",
    "z"
   ]
  },
  {
   "cell_type": "markdown",
   "metadata": {},
   "source": [
    "### final plot"
   ]
  },
  {
   "cell_type": "code",
   "execution_count": 432,
   "metadata": {},
   "outputs": [
    {
     "data": {
      "image/png": "[encoded data removed]",
      "text/plain": [
       "<Figure size 640x480 with 1 Axes>"
      ]
     },
     "metadata": {},
     "output_type": "display_data"
    }
   ],
   "source": [
    "import matplotlib.pyplot as plt\n",
    "import numpy as np\n",
    "\n",
    "\n",
    "x = np.arange(len(z))\n",
    "\n",
    "colors = ['b'] * (len(z) - 1) + ['r']\n",
    "\n",
    "plt.scatter(x[:-1], z[:-1], c=colors[:-1], label='z')\n",
    "plt.scatter(x[-1], z[-1], c=colors[-1], label='final point', marker='o', edgecolors='r')\n",
    "\n",
    "plt.plot(x[:-1], z[:-1], linestyle='-', color='b')\n",
    "plt.plot(x[-2:], z[-2:], linestyle='-', color='r')  # برای عدد آخر\n",
    "\n",
    "plt.legend()\n",
    "plt.show()\n"
   ]
  },
  {
   "cell_type": "markdown",
   "metadata": {},
   "source": [
    "### extracting model"
   ]
  },
  {
   "cell_type": "code",
   "execution_count": 450,
   "metadata": {},
   "outputs": [
    {
     "data": {
      "text/plain": [
       "['model.pkl']"
      ]
     },
     "execution_count": 450,
     "metadata": {},
     "output_type": "execute_result"
    }
   ],
   "source": [
    "model = joblib.dump(regr, 'model.pkl')\n",
    "model"
   ]
  },
  {
   "cell_type": "code",
   "execution_count": 448,
   "metadata": {},
   "outputs": [
    {
     "name": "stdout",
     "output_type": "stream",
     "text": [
      "Coefficients:  [[-0.03027479 -0.03800714  0.03075488  0.13635751  0.91429991]]\n",
      "Intercept:  [0.00055153]\n"
     ]
    }
   ],
   "source": [
    "loaded_model = joblib.load('model.pkl')\n",
    "\n",
    "print('Coefficients: ', loaded_model.coef_)\n",
    "print ('Intercept: ',loaded_model.intercept_)"
   ]
  }
 ],
 "metadata": {
  "kernelspec": {
   "display_name": "Python 3 (ipykernel)",
   "language": "python",
   "name": "python3"
  },
  "language_info": {
   "codemirror_mode": {
    "name": "ipython",
    "version": 3
   },
   "file_extension": ".py",
   "mimetype": "text/x-python",
   "name": "python",
   "nbconvert_exporter": "python",
   "pygments_lexer": "ipython3",
   "version": "3.8.10"
  },
  "widgets": {
   "state": {},
   "version": "1.1.2"
  }
 },
 "nbformat": 4,
 "nbformat_minor": 2
}
